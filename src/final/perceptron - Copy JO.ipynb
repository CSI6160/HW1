{
 "cells": [
  {
   "cell_type": "markdown",
   "metadata": {},
   "source": [
    "**SI6160 Homework 1 Perceptron Implementation**<br>\n",
    "<br>\n",
    "**John Olijnyk & John Machado**<br>\n",
    "**1/31/2022**<br>\n",
    "<br>\n",
    "We will implment a perceptron algorithm and use it to draw a decision boundary in linearly seperable data.<br>\n",
    "<br>\n",
    "References:<br>\n",
    "-  https://towardsdatascience.com/perceptron-algorithm-in-python-f3ac89d2e537<br>"
   ]
  },
  {
   "cell_type": "code",
   "execution_count": 1,
   "metadata": {},
   "outputs": [],
   "source": [
    "# imports\n",
    "\n",
    "from sklearn import datasets\n",
    "import pandas as pd\n",
    "import numpy as np\n",
    "import matplotlib.pyplot as plt\n",
    "import random\n",
    "import math"
   ]
  },
  {
   "cell_type": "markdown",
   "metadata": {},
   "source": [
    "We begin by generating data.\n",
    "We created a function that generates a user specified number of data points each clustered around one of two centroids.\n",
    "The deviation in each cluster is random from execution to execution.\n",
    "Each data point has two features and a label; the label corresponds to the cluster to which the data point belongs."
   ]
  },
  {
   "cell_type": "code",
   "execution_count": 2,
   "metadata": {},
   "outputs": [],
   "source": [
    "def generate_data(number_of_rows):\n",
    "    \n",
    "    \"\"\"\n",
    "        generates a DataFrame of with columns x, y, and label and number of rows equal to number_of_rows.\n",
    "        data generated with make_blobs from numpy.datasets\n",
    "\n",
    "        Parameters:\n",
    "            number_of_rows (int): the number of rows to b generated\n",
    "\n",
    "        Returns:\n",
    "            (DataFrame): columns - x, y, and label; rows - number_of_rows\n",
    "    \"\"\"\n",
    "    \n",
    "    # initialize the random number generator\n",
    "    random.seed()\n",
    "\n",
    "    # make_blobs for point generation\n",
    "    points, labels = datasets.make_blobs(\n",
    "            n_samples = number_of_rows,\n",
    "            n_features = 2,\n",
    "            centers = 2,\n",
    "            cluster_std = 1.25,  #standard deviation.  can control linear separation. large value will cause overlap\n",
    "            random_state = random.randint(1,100))\n",
    "\n",
    "    # put data into dataframe\n",
    "    _dict = {\n",
    "        'x': points[:,0],\n",
    "        'y': points[:,1],\n",
    "        'label': labels\n",
    "    }\n",
    "    df = pd.DataFrame().from_dict(_dict)\n",
    "    \n",
    "    # return\n",
    "    return df"
   ]
  },
  {
   "cell_type": "code",
   "execution_count": 3,
   "metadata": {},
   "outputs": [
    {
     "data": {
      "text/html": [
       "<div>\n",
       "<style scoped>\n",
       "    .dataframe tbody tr th:only-of-type {\n",
       "        vertical-align: middle;\n",
       "    }\n",
       "\n",
       "    .dataframe tbody tr th {\n",
       "        vertical-align: top;\n",
       "    }\n",
       "\n",
       "    .dataframe thead th {\n",
       "        text-align: right;\n",
       "    }\n",
       "</style>\n",
       "<table border=\"1\" class=\"dataframe\">\n",
       "  <thead>\n",
       "    <tr style=\"text-align: right;\">\n",
       "      <th></th>\n",
       "      <th>x</th>\n",
       "      <th>y</th>\n",
       "      <th>label</th>\n",
       "    </tr>\n",
       "  </thead>\n",
       "  <tbody>\n",
       "    <tr>\n",
       "      <th>0</th>\n",
       "      <td>3.004536</td>\n",
       "      <td>-6.783986</td>\n",
       "      <td>1</td>\n",
       "    </tr>\n",
       "    <tr>\n",
       "      <th>1</th>\n",
       "      <td>3.451657</td>\n",
       "      <td>-2.859966</td>\n",
       "      <td>0</td>\n",
       "    </tr>\n",
       "    <tr>\n",
       "      <th>2</th>\n",
       "      <td>2.388872</td>\n",
       "      <td>-6.272167</td>\n",
       "      <td>1</td>\n",
       "    </tr>\n",
       "    <tr>\n",
       "      <th>3</th>\n",
       "      <td>2.775025</td>\n",
       "      <td>-6.857458</td>\n",
       "      <td>1</td>\n",
       "    </tr>\n",
       "    <tr>\n",
       "      <th>4</th>\n",
       "      <td>2.640108</td>\n",
       "      <td>-6.964943</td>\n",
       "      <td>1</td>\n",
       "    </tr>\n",
       "  </tbody>\n",
       "</table>\n",
       "</div>"
      ],
      "text/plain": [
       "          x         y  label\n",
       "0  3.004536 -6.783986      1\n",
       "1  3.451657 -2.859966      0\n",
       "2  2.388872 -6.272167      1\n",
       "3  2.775025 -6.857458      1\n",
       "4  2.640108 -6.964943      1"
      ]
     },
     "execution_count": 3,
     "metadata": {},
     "output_type": "execute_result"
    }
   ],
   "source": [
    "# generate and print the first 5 rows of random clustered data\n",
    "# we generate 100 data points with a standard deviation of 1.25 to keep linear separation\n",
    "clusters_df = generate_data(100)\n",
    "clusters_df.head()"
   ]
  },
  {
   "cell_type": "markdown",
   "metadata": {},
   "source": [
    "Next, we created a function to display a scatter plot of our data. We will use this function later to draw the decision boundary."
   ]
  },
  {
   "cell_type": "code",
   "execution_count": 4,
   "metadata": {},
   "outputs": [],
   "source": [
    "def plot_df(df, padding=0.2):\n",
    "\n",
    "    \"\"\"\n",
    "        plots the dataframe generated in generate_data() with color coded clusters\n",
    "\n",
    "        Parameters:\n",
    "            df (DataFrame): DataFrame to be plotted. Should be generated with generate_data(). Columns must be [feature, feature, label].\n",
    "            padding (float, optional, default=0.2): Percent of total width of data set to pad each axis.\n",
    "\n",
    "        Returns:\n",
    "            (None)\n",
    "    \"\"\"\n",
    "\n",
    "    # set plot size\n",
    "    plt.figure(figsize=(10,10))\n",
    "\n",
    "    # scatter plot of the label = 0\n",
    "    plt.scatter(\n",
    "        df[df.iloc[:,2] == 0].iloc[:,0],  # all rows in column 'x' where 'label' is zero\n",
    "        df[df.iloc[:,2] == 0].iloc[:,1],  # all rows in column 'y' where 'label' is zero \n",
    "        edgecolors='white',  \n",
    "        marker='o',\n",
    "        color='g', \n",
    "        s=60,\n",
    "        label='0'\n",
    "    )\n",
    "\n",
    "    # scatter plot of label 1\n",
    "    plt.scatter(\n",
    "        df[df.iloc[:,2] == 1].iloc[:,0],  # all rows in column 'x' where 'label' is one\n",
    "        df[df.iloc[:,2] == 1].iloc[:,1],  # all rows in column 'y' where 'label' is one \n",
    "        edgecolors='white', \n",
    "        marker='s',\n",
    "        color='b',\n",
    "        s=60,\n",
    "        label='1'\n",
    "    )\n",
    "\n",
    "    # plot x axis label\n",
    "    plt.xlabel(df.columns[0])\n",
    "    # plot y axis label\n",
    "    plt.ylabel(df.columns[1])\n",
    "    # plot legend\n",
    "    plt.legend()\n",
    "\n",
    "    # pad x axis \n",
    "    plt.xlim(pad_range(padding, {'max': df.iloc[:,0].max(), 'min': df.iloc[:,0].min()}))\n",
    "    \n",
    "    # pad y axis\n",
    "    plt.ylim(pad_range(padding, {'max': df.iloc[:,1].max(), 'min': df.iloc[:,1].min()}))\n",
    "    \n",
    "    # get average deviations for plot title\n",
    "    deviations= []\n",
    "    for i in range(4):\n",
    "        p_label = math.floor(i/2)\n",
    "        p_feature = i % 2\n",
    "        deviations.append(clusters_df[clusters_df.iloc[:,2] == p_label].iloc[:,p_feature].std())\n",
    "    average = sum(deviations)/len(deviations)\n",
    "    \n",
    "    # plot title\n",
    "    plt.title(f'avera cluster deviation: {average:.2f}')\n",
    "\n",
    "\n",
    "def pad_range(pad_width, _range):\n",
    "\n",
    "    \"\"\"\n",
    "        padds a range with +- pad_width. \n",
    "        used to set pyplot.xlim() and pyplot.ylim() axis ranges.\n",
    "\n",
    "        Parameters:\n",
    "            pad_width (float): percent of the range to add to each side of the plot\n",
    "            _range (dictionary): max and min of the range\n",
    "        \n",
    "        Returns:\n",
    "            (list): [_min - _pad, _max + _pad]\n",
    "    \"\"\"\n",
    "\n",
    "    # left pad = min - pad * (max - min)\n",
    "    # right pad = max + pad * (max - min)\n",
    "    _max = _range['max']\n",
    "    _min = _range['min']\n",
    "    _delta = _max - _min\n",
    "    _pad = pad_width * _delta\n",
    "    return [_min - _pad, _max + _pad]"
   ]
  },
  {
   "cell_type": "code",
   "execution_count": 5,
   "metadata": {},
   "outputs": [
    {
     "data": {
      "image/png": "[encoded data removed]",
      "text/plain": [
       "<Figure size 720x720 with 1 Axes>"
      ]
     },
     "metadata": {
      "needs_background": "light"
     },
     "output_type": "display_data"
    }
   ],
   "source": [
    "# plot generated data\n",
    "# We note that we can see that the data set is indeed linearly separateable.\n",
    "\n",
    "\n",
    "plot_df(clusters_df)"
   ]
  },
  {
   "cell_type": "markdown",
   "metadata": {},
   "source": [
    "Next, we wrote our perceptron function. The function trains a theta over each data point and each epoch. Theta begins as a zero array of dimensions [feature_count+1, 0]. For each data point, the data point is processby by concatenation with a weight term, so the data point in the algorithm will be of dimensions [feature_count+1, 0]. A prediction is generated by taking the dot product of theta and the processed data point and comparing the result to a threashold value. For binary classification, the prediction is True if the value of the dot product is above the threashold and false if it is less than or equal to the threashold. If the prediction does not agree with the label, theta is updated by multiplying the learning rate, the processed data point, and the delta between the label and prediction. We kept track of the number of misclassified points in each epoch for observation. The learning rate represents how much of a change is made from one iteration i.e. epoch to another as the line position and slope is adjusted. Depending on how large of a learning rate and on how many epochs the algorithm convergence will vary as will the accuracy of the position of the line to separate the two data clusters. There may be times where the line may shift to cause prediction errors or might not have enough iterations to fully adjust to an optimal position. This tuning is critical for a perceptron to have a good balance of learning rate and epochs."
   ]
  },
  {
   "cell_type": "code",
   "execution_count": 6,
   "metadata": {},
   "outputs": [],
   "source": [
    "def perceptron(data, epochs=10, learning_rate=0.1):\n",
    "    \n",
    "    \"\"\"\n",
    "        perceptron training algorithm.\n",
    "        calls activation_function() for neuron activation.\n",
    "\n",
    "        Parameters:\n",
    "            data (DataFrame): data to train the perceptron on. Needs to be in the format [feature, feature, label]\n",
    "            epochs (int, optional, default=10): number of training cycles\n",
    "            learning_rate (float, optional, default=0.1): determines the magnitude of the offset applied to theta on a failed prediction\n",
    "\n",
    "        Returns:\n",
    "            (list): trained theta. give to predict() along with a point to make a prediction.\n",
    "    \"\"\"\n",
    "\n",
    "    # separate dataframe in to components\n",
    "    labels = data.iloc[:,-1]\n",
    "    samples = data.iloc[:,:-1]\n",
    "\n",
    "    # get some important dimensions\n",
    "    sample_count = samples.shape[0]\n",
    "    feature_count  = samples.shape[1]\n",
    "\n",
    "    # initialize theta\n",
    "    theta = np.zeros((feature_count + 1, 1))\n",
    "\n",
    "    # initialize list for keeping track of misclassified points\n",
    "    misclassified_counts = [0 for _ in range(epochs)]\n",
    "\n",
    "    # set training values\n",
    "    threashold = 0.0\n",
    "    active = 1.0\n",
    "    inactive = 0.0\n",
    "\n",
    "    # repeat training on entire data set epochs number of times\n",
    "    for e in range(epochs):\n",
    "\n",
    "        # repeat training for each point in data set\n",
    "        for i, sample_i in enumerate(samples.iterrows()):\n",
    "\n",
    "            # process the sample from the data set\n",
    "            sample_i = np.array([sample_i[1][0], sample_i[1][1]])\n",
    "            sample_i = np.insert(sample_i, 0, 1).reshape(-1, 1)\n",
    "\n",
    "            # get the dot product for prediction\n",
    "            dot = np.squeeze(np.dot(sample_i.T, theta))\n",
    "\n",
    "            # make prediction\n",
    "            prediction = inactive\n",
    "            if dot > threashold: prediction = active\n",
    "\n",
    "            # train if the prediction does not agree with the label\n",
    "            if prediction - labels[i] == 0: continue \n",
    "            theta += learning_rate * sample_i * (labels[i] - prediction)\n",
    "            \n",
    "            # keep track of incorrect predictions for each epoch\n",
    "            misclassified_counts[e] += 1\n",
    "            \n",
    "    # return\n",
    "    return theta, misclassified_counts"
   ]
  },
  {
   "cell_type": "code",
   "execution_count": 7,
   "metadata": {},
   "outputs": [],
   "source": [
    "# observe misclassified points per epoch \n",
    "# and observe how quickly the algorithm converges to zero or minimal misclassifications.\n",
    "\n",
    "theta, counts = perceptron(clusters_df)"
   ]
  },
  {
   "cell_type": "code",
   "execution_count": 8,
   "metadata": {},
   "outputs": [
    {
     "data": {
      "text/html": [
       "<div>\n",
       "<style scoped>\n",
       "    .dataframe tbody tr th:only-of-type {\n",
       "        vertical-align: middle;\n",
       "    }\n",
       "\n",
       "    .dataframe tbody tr th {\n",
       "        vertical-align: top;\n",
       "    }\n",
       "\n",
       "    .dataframe thead th {\n",
       "        text-align: right;\n",
       "    }\n",
       "</style>\n",
       "<table border=\"1\" class=\"dataframe\">\n",
       "  <thead>\n",
       "    <tr style=\"text-align: right;\">\n",
       "      <th></th>\n",
       "      <th>final_theta</th>\n",
       "    </tr>\n",
       "  </thead>\n",
       "  <tbody>\n",
       "    <tr>\n",
       "      <th>0</th>\n",
       "      <td>-4.200000</td>\n",
       "    </tr>\n",
       "    <tr>\n",
       "      <th>1</th>\n",
       "      <td>0.232052</td>\n",
       "    </tr>\n",
       "    <tr>\n",
       "      <th>2</th>\n",
       "      <td>-1.562830</td>\n",
       "    </tr>\n",
       "  </tbody>\n",
       "</table>\n",
       "</div>"
      ],
      "text/plain": [
       "   final_theta\n",
       "0    -4.200000\n",
       "1     0.232052\n",
       "2    -1.562830"
      ]
     },
     "execution_count": 8,
     "metadata": {},
     "output_type": "execute_result"
    }
   ],
   "source": [
    "# observe theta vector\n",
    "\n",
    "_theta_df = pd.DataFrame(theta, columns=['final_theta'])\n",
    "_theta_df"
   ]
  },
  {
   "cell_type": "code",
   "execution_count": 9,
   "metadata": {},
   "outputs": [
    {
     "data": {
      "text/html": [
       "<div>\n",
       "<style scoped>\n",
       "    .dataframe tbody tr th:only-of-type {\n",
       "        vertical-align: middle;\n",
       "    }\n",
       "\n",
       "    .dataframe tbody tr th {\n",
       "        vertical-align: top;\n",
       "    }\n",
       "\n",
       "    .dataframe thead th {\n",
       "        text-align: right;\n",
       "    }\n",
       "</style>\n",
       "<table border=\"1\" class=\"dataframe\">\n",
       "  <thead>\n",
       "    <tr style=\"text-align: right;\">\n",
       "      <th></th>\n",
       "      <th>epoch</th>\n",
       "      <th>misclassifications</th>\n",
       "    </tr>\n",
       "  </thead>\n",
       "  <tbody>\n",
       "    <tr>\n",
       "      <th>0</th>\n",
       "      <td>0</td>\n",
       "      <td>33</td>\n",
       "    </tr>\n",
       "    <tr>\n",
       "      <th>1</th>\n",
       "      <td>1</td>\n",
       "      <td>29</td>\n",
       "    </tr>\n",
       "    <tr>\n",
       "      <th>2</th>\n",
       "      <td>2</td>\n",
       "      <td>26</td>\n",
       "    </tr>\n",
       "    <tr>\n",
       "      <th>3</th>\n",
       "      <td>3</td>\n",
       "      <td>23</td>\n",
       "    </tr>\n",
       "    <tr>\n",
       "      <th>4</th>\n",
       "      <td>4</td>\n",
       "      <td>21</td>\n",
       "    </tr>\n",
       "    <tr>\n",
       "      <th>5</th>\n",
       "      <td>5</td>\n",
       "      <td>21</td>\n",
       "    </tr>\n",
       "    <tr>\n",
       "      <th>6</th>\n",
       "      <td>6</td>\n",
       "      <td>23</td>\n",
       "    </tr>\n",
       "    <tr>\n",
       "      <th>7</th>\n",
       "      <td>7</td>\n",
       "      <td>16</td>\n",
       "    </tr>\n",
       "    <tr>\n",
       "      <th>8</th>\n",
       "      <td>8</td>\n",
       "      <td>17</td>\n",
       "    </tr>\n",
       "    <tr>\n",
       "      <th>9</th>\n",
       "      <td>9</td>\n",
       "      <td>15</td>\n",
       "    </tr>\n",
       "  </tbody>\n",
       "</table>\n",
       "</div>"
      ],
      "text/plain": [
       "   epoch  misclassifications\n",
       "0      0                  33\n",
       "1      1                  29\n",
       "2      2                  26\n",
       "3      3                  23\n",
       "4      4                  21\n",
       "5      5                  21\n",
       "6      6                  23\n",
       "7      7                  16\n",
       "8      8                  17\n",
       "9      9                  15"
      ]
     },
     "execution_count": 9,
     "metadata": {},
     "output_type": "execute_result"
    }
   ],
   "source": [
    "# observe misclassified points per epoch\n",
    "\n",
    "_misclassifications_df = pd.DataFrame().from_dict({'epoch':[x for x in range(len(counts))], 'misclassifications': counts})\n",
    "_misclassifications_df"
   ]
  },
  {
   "cell_type": "markdown",
   "metadata": {},
   "source": [
    "Finally, we plot the decision boundary.\n",
    "The decision boundary is a line whose slope is given by -theta[1]/theta[2] and whose intercept is given by -theta[0]/theta[2]. \n"
   ]
  },
  {
   "cell_type": "code",
   "execution_count": 10,
   "metadata": {},
   "outputs": [],
   "source": [
    "def plot_decision_boundary(data, theta, padding=0.2):\n",
    "    \n",
    "    \"\"\"\n",
    "        scatterplot of data with decision boundary\n",
    "\n",
    "        Parameters:\n",
    "            data (DataFrame): dataset perceptron was trained on.\n",
    "                needs to be in the form [feature, feature, label]\n",
    "            theta (list): resultant theta from perceptron training\n",
    "            padding (float, optional, default=0.2): percent of the range of the data to padd each axis.\n",
    "        Returns:\n",
    "            (None): just draws the plot\n",
    "    \"\"\"\n",
    "\n",
    "    # dont run on divide by 0\n",
    "    if theta[2] == 0: return\n",
    "\n",
    "    # plot the original data\n",
    "    plot_df(data, padding)\n",
    "\n",
    "    # get line bounds for feature 1 and adjust for padding\n",
    "    data_range = {\n",
    "        'max': data.iloc[:,0].max(),\n",
    "        'min': data.iloc[:,0].min()\n",
    "    }\n",
    "    feature_1_range = pad_range(padding, data_range)\n",
    "    \n",
    "    # get slope and intercept of line\n",
    "    slope = -theta[1]/theta[2]\n",
    "    intercept = -theta[0]/theta[2]\n",
    "\n",
    "    # calculate line bounds for feature 2 based on above\n",
    "    feature_2_range = slope * feature_1_range + intercept\n",
    "\n",
    "    # plot decision boundary\n",
    "    plt.plot(\n",
    "        feature_1_range,\n",
    "        feature_2_range,\n",
    "        linewidth=2,\n",
    "        color='red',\n",
    "        label='decision boundary'\n",
    "    )\n",
    "    plt.legend()"
   ]
  },
  {
   "cell_type": "code",
   "execution_count": 11,
   "metadata": {
    "scrolled": true
   },
   "outputs": [
    {
     "data": {
      "image/png": "[encoded data removed]",
      "text/plain": [
       "<Figure size 720x720 with 1 Axes>"
      ]
     },
     "metadata": {
      "needs_background": "light"
     },
     "output_type": "display_data"
    }
   ],
   "source": [
    "# plot decision boundary \n",
    "plot_decision_boundary(clusters_df, theta)"
   ]
  },
  {
   "cell_type": "markdown",
   "metadata": {},
   "source": [
    "In conclusion we see how a perceptron is effective working with linearly separateable data. We noted how it used the dot product to generate a line and then uses the learning rate and each epoch to adjust that line to achieve better accuracy. As the algorithm gets extended to more dimensions, instead of a line you will get a plane or hyperplane for seperation."
   ]
  },
  {
   "cell_type": "code",
   "execution_count": null,
   "metadata": {},
   "outputs": [],
   "source": []
  }
 ],
 "metadata": {
  "interpreter": {
   "hash": "367101c4f597ba2d69615a403f869729e156321035dbf4a6f1655c31dd397b11"
  },
  "kernelspec": {
   "display_name": "Python 3",
   "language": "python",
   "name": "python3"
  },
  "language_info": {
   "codemirror_mode": {
    "name": "ipython",
    "version": 3
   },
   "file_extension": ".py",
   "mimetype": "text/x-python",
   "name": "python",
   "nbconvert_exporter": "python",
   "pygments_lexer": "ipython3",
   "version": "3.8.5"
  }
 },
 "nbformat": 4,
 "nbformat_minor": 2
}
