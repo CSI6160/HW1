{
 "cells": [
  {
   "cell_type": "code",
   "execution_count": 1,
   "metadata": {},
   "outputs": [],
   "source": [
    "#Hoemwork 1\n",
    "#Perceptron v2\n",
    "#John Olijnyk and John Marchado"
   ]
  },
  {
   "cell_type": "code",
   "execution_count": 2,
   "metadata": {},
   "outputs": [],
   "source": [
    "import numpy as np\n",
    "\n",
    "class Perceptron(object):\n",
    "\n",
    "    def __init__(self, no_of_inputs, threshold=100, learning_rate=0.01):\n",
    "        self.threshold = threshold\n",
    "        self.learning_rate = learning_rate\n",
    "        self.weights = np.zeros(no_of_inputs + 1)\n",
    "           \n",
    "    def predict(self, inputs):\n",
    "        summation = np.dot(inputs, self.weights[1:]) + self.weights[0]\n",
    "        if summation > 0:\n",
    "          activation = 1\n",
    "        else:\n",
    "          activation = 0            \n",
    "        return activation\n",
    "\n",
    "    def train(self, training_inputs, labels):\n",
    "        for _ in range(self.threshold):\n",
    "            for inputs, label in zip(training_inputs, labels):\n",
    "                prediction = self.predict(inputs)\n",
    "                self.weights[1:] += self.learning_rate * (label - prediction) * inputs\n",
    "                self.weights[0] += self.learning_rate * (label - prediction)"
   ]
  },
  {
   "cell_type": "code",
   "execution_count": 3,
   "metadata": {},
   "outputs": [],
   "source": [
    "#now generate test\n",
    "training_inputs = []\n",
    "training_inputs.append(np.array([1, 1]))\n",
    "training_inputs.append(np.array([1, 0]))\n",
    "training_inputs.append(np.array([0, 1]))\n",
    "training_inputs.append(np.array([0, 0]))\n",
    "\n"
   ]
  },
  {
   "cell_type": "code",
   "execution_count": 4,
   "metadata": {},
   "outputs": [],
   "source": [
    "#alter this for the output labels of 1 or 0 of the dataset\n",
    "labels = np.array([1, 0, 0, 0])\n"
   ]
  },
  {
   "cell_type": "code",
   "execution_count": 5,
   "metadata": {},
   "outputs": [],
   "source": [
    "#train the perceptron\n",
    "perceptron = Perceptron(2)\n",
    "perceptron.train(training_inputs, labels)\n",
    "\n",
    "\n"
   ]
  },
  {
   "cell_type": "code",
   "execution_count": 6,
   "metadata": {},
   "outputs": [
    {
     "data": {
      "text/plain": [
       "array([1, 1])"
      ]
     },
     "execution_count": 6,
     "metadata": {},
     "output_type": "execute_result"
    }
   ],
   "source": [
    "inputs = np.array([1, 1])\n",
    "inputs"
   ]
  },
  {
   "cell_type": "code",
   "execution_count": 7,
   "metadata": {},
   "outputs": [
    {
     "data": {
      "text/plain": [
       "1"
      ]
     },
     "execution_count": 7,
     "metadata": {},
     "output_type": "execute_result"
    }
   ],
   "source": [
    "inputs = np.array([1, 1])\n",
    "perceptron.predict(inputs)\n",
    "#=> 1 assuming 1,0,0,0"
   ]
  },
  {
   "cell_type": "code",
   "execution_count": 8,
   "metadata": {},
   "outputs": [
    {
     "data": {
      "text/plain": [
       "0"
      ]
     },
     "execution_count": 8,
     "metadata": {},
     "output_type": "execute_result"
    }
   ],
   "source": [
    "inputs = np.array([0, 1])\n",
    "perceptron.predict(inputs)\n",
    "#=> 0  assuming 1,0,0,0"
   ]
  },
  {
   "cell_type": "code",
   "execution_count": 9,
   "metadata": {},
   "outputs": [],
   "source": [
    "#import\n",
    "import numpy as np"
   ]
  },
  {
   "cell_type": "code",
   "execution_count": 10,
   "metadata": {},
   "outputs": [],
   "source": [
    "#generate data set\n",
    "from sklearn import datasets\n",
    "\n",
    "X, y = datasets.make_blobs(n_samples=200, n_features=2, centers=2, cluster_std=3,random_state=2)"
   ]
  },
  {
   "cell_type": "code",
   "execution_count": 11,
   "metadata": {},
   "outputs": [
    {
     "data": {
      "text/plain": [
       "array([[ -0.84303469,  -2.34733953],\n",
       "       [  0.80849198,  -7.38922655],\n",
       "       [  3.50609694,  -1.68859936],\n",
       "       [  3.45290491,  -3.1869082 ],\n",
       "       [ -2.40711023,  -9.70488765],\n",
       "       [ -2.38446178,   0.17193785],\n",
       "       [ -5.53653361, -10.23679772],\n",
       "       [  3.12293207, -10.48850738],\n",
       "       [  3.78891163,   3.11144425],\n",
       "       [  1.81898524, -10.46848267],\n",
       "       [  0.4261174 ,  -2.64153795],\n",
       "       [ -1.62336585, -10.97599795],\n",
       "       [ -2.25525084, -11.16217888],\n",
       "       [  0.51407717,   0.35328753],\n",
       "       [ -1.84850975,  -9.71313136],\n",
       "       [  2.68125679,  -1.78709732],\n",
       "       [  1.19162881,   0.3131229 ],\n",
       "       [  4.42781569,  -1.74990521],\n",
       "       [  1.5679705 ,  -3.28017918],\n",
       "       [ -3.11566646,   6.71745959],\n",
       "       [ -3.83824822,   0.20626714],\n",
       "       [ -2.49177877, -13.63503136],\n",
       "       [ -0.72089527,  -0.41625595],\n",
       "       [  0.46825903,  -5.60498244],\n",
       "       [ -2.47684795,   2.4085519 ],\n",
       "       [  0.04616993,  -5.34355846],\n",
       "       [ -0.16876835,  -5.40257378],\n",
       "       [ -3.96335132,  -3.32053751],\n",
       "       [ -0.66559876,  -0.39497171],\n",
       "       [ -0.18494141,  -7.15922926],\n",
       "       [ -6.49398047,  -6.3590035 ],\n",
       "       [ -0.5103906 , -12.44781251],\n",
       "       [  2.79271085,   0.35460125],\n",
       "       [  0.5503303 ,  -8.21098466],\n",
       "       [ -4.94438945,  -4.06804544],\n",
       "       [  1.3231026 ,  -7.0341218 ],\n",
       "       [  0.80525686, -15.581875  ],\n",
       "       [ -3.20928681,  -0.37097557],\n",
       "       [  2.53300389,  -2.29808452],\n",
       "       [ -3.23985276,  -6.95410652],\n",
       "       [ -1.36999906,  -0.01929113],\n",
       "       [ -4.68305741, -11.60373803],\n",
       "       [  2.88864633,  -0.04077396],\n",
       "       [ -1.10126344,  -0.57369855],\n",
       "       [ -3.31312869, -13.79979244],\n",
       "       [ -1.82987168,  -6.42191118],\n",
       "       [ -1.72454353,  -4.97716462],\n",
       "       [  0.02038703,  -5.64633767],\n",
       "       [  1.20827333,  -7.58960946],\n",
       "       [  3.16930934,  -2.37197553],\n",
       "       [ -2.19236127,  -1.72559076],\n",
       "       [ -4.14895268,  -1.52347084],\n",
       "       [ -5.72749839,  -6.94253969],\n",
       "       [ -2.10864043, -11.03212704],\n",
       "       [  1.09094597,  -6.21523282],\n",
       "       [ -0.96737477,   2.9329498 ],\n",
       "       [  0.49174323,  -3.02338494],\n",
       "       [ -9.25845033,  -9.75583323],\n",
       "       [  4.39148779,  -0.18263762],\n",
       "       [ -1.28007267,  -7.85441765],\n",
       "       [  2.12288729,  -1.69999144],\n",
       "       [ -0.63175394, -15.05731252],\n",
       "       [  0.36713867,  -0.88069817],\n",
       "       [ -1.96484463, -15.69031215],\n",
       "       [ -4.46249907,  -7.7064758 ],\n",
       "       [  0.68319305,   1.25149955],\n",
       "       [ -3.43786348, -11.23171915],\n",
       "       [  8.55913425,  -6.5688914 ],\n",
       "       [  0.14269101,   0.32172064],\n",
       "       [  3.1338229 ,   6.29565248],\n",
       "       [  3.4826167 ,  -0.28535429],\n",
       "       [ -2.4246514 ,  -9.28200834],\n",
       "       [ -4.34434615,  -8.18428826],\n",
       "       [  3.35168777,  -0.71104606],\n",
       "       [  2.20446252,  -8.32324122],\n",
       "       [  3.60204415,  -4.55482387],\n",
       "       [ -1.51029606,  -4.28443121],\n",
       "       [  2.75186185,  -1.35471402],\n",
       "       [ -2.95945225,  -7.37033292],\n",
       "       [ -3.19306699, -13.04431222],\n",
       "       [  0.97044614,  -4.09504413],\n",
       "       [  0.21371849,  -9.10196284],\n",
       "       [ -8.58440469,  -9.14329585],\n",
       "       [ -2.5380514 ,  -9.87846206],\n",
       "       [ -0.55578307,  -7.98919842],\n",
       "       [  0.47403606,  -2.47959135],\n",
       "       [  6.48608953,   1.52697583],\n",
       "       [ -2.25084217,  -8.21000124],\n",
       "       [ -0.12130782,   8.18934576],\n",
       "       [  5.48410493,  -5.88688547],\n",
       "       [  4.22589621,  -8.15940575],\n",
       "       [  1.19400706,  -5.7368366 ],\n",
       "       [  0.337073  , -11.26995446],\n",
       "       [ -1.33749345,  -5.9564717 ],\n",
       "       [  0.32928673,  -4.81301901],\n",
       "       [ -0.73887254,  -7.82198254],\n",
       "       [  0.74651343,  -2.2075519 ],\n",
       "       [ -2.19084767,  -1.61910262],\n",
       "       [ -2.30464237,  -3.33814408],\n",
       "       [  0.22546966, -12.01411647],\n",
       "       [  2.72659655,  -8.57358735],\n",
       "       [  3.60577185,   0.48486824],\n",
       "       [  0.29278733,  -7.27563664],\n",
       "       [ -3.37587181, -12.26815114],\n",
       "       [  0.98663022,  -1.7114278 ],\n",
       "       [ -6.66040871, -12.00671746],\n",
       "       [ -3.52371481,  -9.45439961],\n",
       "       [ -2.08727284,  -2.787375  ],\n",
       "       [ -4.55796236,  -0.30208796],\n",
       "       [ -6.88437392,  -4.28792137],\n",
       "       [  2.82160431,  -5.82781846],\n",
       "       [  5.63812164,  -2.24103628],\n",
       "       [  2.9859138 ,   0.91110186],\n",
       "       [  1.24934286,   0.70245069],\n",
       "       [  1.43076978,  -2.49387032],\n",
       "       [ -3.98684016, -11.25439219],\n",
       "       [  2.2413148 ,  -1.46709394],\n",
       "       [  1.3565663 ,  -3.8340384 ],\n",
       "       [  4.25066877,   1.41298604],\n",
       "       [  5.14459266,  -0.84850442],\n",
       "       [  4.07780426,  -3.45919133],\n",
       "       [ -1.55673695,  -3.85057754],\n",
       "       [  0.55392038,  -9.33756359],\n",
       "       [ -5.92012579, -15.72943117],\n",
       "       [  1.60224388,  -7.20636432],\n",
       "       [ -0.8618769 ,  -0.15716875],\n",
       "       [  2.24049254, -16.51228494],\n",
       "       [  0.52444548,  -9.47049689],\n",
       "       [ -0.81617282,  -1.16767926],\n",
       "       [  2.89934083,   5.01313565],\n",
       "       [  1.1746369 ,  -5.30931879],\n",
       "       [  0.97579259, -12.46275831],\n",
       "       [ -1.39881268,  -8.50346506],\n",
       "       [ -0.44670578,  -4.35249945],\n",
       "       [ -0.13868605, -10.13288117],\n",
       "       [ -0.13450325,  -7.78264904],\n",
       "       [ -5.04638361,  -6.66698435],\n",
       "       [ -5.64019501, -10.4955287 ],\n",
       "       [ -5.07684226,  -0.48963442],\n",
       "       [  4.0494007 ,   5.61358272],\n",
       "       [ -0.66747802,  -5.26138664],\n",
       "       [ -2.59175013,  -2.75734378],\n",
       "       [ -2.0772954 ,  -2.63807662],\n",
       "       [ -2.666118  ,  -8.42880988],\n",
       "       [  2.04732789, -14.77622855],\n",
       "       [ -2.22062655,  -7.16844015],\n",
       "       [ -3.91442564,  -9.95077787],\n",
       "       [  3.11602816,  -0.95139051],\n",
       "       [ -2.84943598,  -0.36401332],\n",
       "       [ -3.06136871,  -6.03297366],\n",
       "       [  3.23604638,  -1.99224315],\n",
       "       [ -3.76750782,  -9.21834471],\n",
       "       [  5.85652849,   0.84449767],\n",
       "       [  2.16413891,   1.63297609],\n",
       "       [ 11.04597591,  -7.01811273],\n",
       "       [ -2.68514074, -13.24563628],\n",
       "       [  1.53344961,  -1.49434528],\n",
       "       [  3.12943324,  -6.69570027],\n",
       "       [ -4.45395861, -12.20849821],\n",
       "       [  1.11743803,  -5.69363437],\n",
       "       [  2.65124064,  -3.81488119],\n",
       "       [  0.05643755,   5.14048212],\n",
       "       [  5.83877836,  -0.01673351],\n",
       "       [ -2.37353923, -12.1094138 ],\n",
       "       [ -4.67950178,  -8.1821977 ],\n",
       "       [  6.79272046,  -4.50594112],\n",
       "       [  4.3251854 ,  -2.41356859],\n",
       "       [ -2.64278552,  -7.93836321],\n",
       "       [ -0.90563102,  -7.21196893],\n",
       "       [  4.73860045,  -5.03073181],\n",
       "       [  1.1650024 ,  -0.81628669],\n",
       "       [ -5.54375364,  -9.94196095],\n",
       "       [ -7.4010711 ,  -9.34270879],\n",
       "       [ -2.29656786, -10.19002746],\n",
       "       [ -0.20270196,  -7.61481412],\n",
       "       [ -0.09054148, -10.42532767],\n",
       "       [  0.20308533,  -3.32563362],\n",
       "       [  1.97445067,  -5.65963048],\n",
       "       [ -4.73311079, -10.76104278],\n",
       "       [ -0.24997624,  -1.09161191],\n",
       "       [  3.94533461, -10.82397799],\n",
       "       [ -6.12995849,  -1.11799234],\n",
       "       [  0.22854229, -13.21733962],\n",
       "       [  5.34675926,  -4.48833579],\n",
       "       [ -2.20795181,  -3.25234558],\n",
       "       [  6.37121275, -13.90099511],\n",
       "       [  0.37426018,  -2.60485132],\n",
       "       [  4.12968352,   2.81349593],\n",
       "       [ -1.15548378, -12.8352517 ],\n",
       "       [ -4.5763188 ,  -4.72801419],\n",
       "       [ -6.52312484,   4.18443122],\n",
       "       [  3.3604285 ,  -6.15857356],\n",
       "       [  1.7209957 , -10.62475292],\n",
       "       [ -1.65612713,   3.34260833],\n",
       "       [  5.91899347,  -0.35845903],\n",
       "       [ -3.18413987,  -7.95628664],\n",
       "       [  2.07355824, -10.30420163],\n",
       "       [  4.0976766 , -10.76851532],\n",
       "       [  2.00097474,   4.41957558],\n",
       "       [  3.31517899, -15.43901268]])"
      ]
     },
     "execution_count": 11,
     "metadata": {},
     "output_type": "execute_result"
    }
   ],
   "source": [
    "X"
   ]
  },
  {
   "cell_type": "code",
   "execution_count": 12,
   "metadata": {},
   "outputs": [
    {
     "data": {
      "text/plain": [
       "array([1, 0, 1, 1, 0, 1, 0, 0, 1, 0, 1, 0, 0, 1, 0, 1, 1, 1, 1, 1, 1, 0,\n",
       "       1, 1, 1, 1, 0, 1, 1, 0, 0, 0, 1, 0, 0, 1, 0, 1, 1, 0, 1, 0, 1, 1,\n",
       "       0, 0, 0, 0, 0, 1, 0, 1, 0, 0, 1, 1, 1, 0, 1, 0, 1, 0, 1, 0, 0, 1,\n",
       "       0, 0, 1, 1, 1, 0, 0, 1, 0, 1, 1, 1, 1, 0, 1, 0, 0, 0, 0, 1, 1, 0,\n",
       "       1, 1, 0, 0, 0, 0, 1, 0, 1, 1, 1, 0, 0, 1, 0, 0, 1, 0, 0, 0, 1, 0,\n",
       "       0, 1, 1, 1, 1, 0, 1, 1, 1, 1, 1, 1, 0, 0, 0, 1, 0, 0, 1, 1, 1, 0,\n",
       "       0, 1, 0, 0, 0, 0, 1, 1, 0, 1, 1, 0, 0, 0, 0, 1, 1, 0, 1, 0, 1, 1,\n",
       "       0, 0, 1, 1, 0, 0, 1, 1, 1, 0, 0, 1, 1, 0, 0, 1, 1, 0, 0, 0, 0, 0,\n",
       "       1, 1, 0, 1, 0, 1, 0, 1, 1, 0, 0, 1, 0, 0, 1, 1, 0, 1, 1, 0, 0, 0,\n",
       "       1, 0])"
      ]
     },
     "execution_count": 12,
     "metadata": {},
     "output_type": "execute_result"
    }
   ],
   "source": [
    "y"
   ]
  },
  {
   "cell_type": "code",
   "execution_count": 13,
   "metadata": {},
   "outputs": [
    {
     "data": {
      "text/plain": [
       "Text(0.5, 1.0, 'Random Classification Data with 2 classes')"
      ]
     },
     "execution_count": 13,
     "metadata": {},
     "output_type": "execute_result"
    },
    {
     "data": {
      "image/png": "[encoded data removed]",
      "text/plain": [
       "<Figure size 720x576 with 1 Axes>"
      ]
     },
     "metadata": {
      "needs_background": "light"
     },
     "output_type": "display_data"
    }
   ],
   "source": [
    "#plot data set\n",
    "import matplotlib.pyplot as plt\n",
    "fig = plt.figure(figsize=(10,8))\n",
    "plt.plot(X[:, 0][y == 0], X[:, 1][y == 0], 'r^')\n",
    "plt.plot(X[:, 0][y == 1], X[:, 1][y == 1], 'bs')\n",
    "plt.xlabel(\"feature 1\")\n",
    "plt.ylabel(\"feature 2\")\n",
    "plt.title('Random Classification Data with 2 classes')"
   ]
  },
  {
   "cell_type": "code",
   "execution_count": 14,
   "metadata": {},
   "outputs": [],
   "source": [
    "perceptron.train(X,y)"
   ]
  },
  {
   "cell_type": "code",
   "execution_count": 15,
   "metadata": {},
   "outputs": [
    {
     "data": {
      "text/plain": [
       "1"
      ]
     },
     "execution_count": 15,
     "metadata": {},
     "output_type": "execute_result"
    }
   ],
   "source": [
    "perceptron.predict(X[0])"
   ]
  },
  {
   "cell_type": "code",
   "execution_count": 16,
   "metadata": {},
   "outputs": [
    {
     "name": "stdout",
     "output_type": "stream",
     "text": [
      "Expected=0, Predicted=0\n",
      "Expected=1, Predicted=1\n",
      "Expected=0, Predicted=0\n",
      "Expected=0, Predicted=0\n",
      "Expected=1, Predicted=1\n",
      "Expected=0, Predicted=0\n",
      "Expected=1, Predicted=1\n",
      "Expected=1, Predicted=1\n",
      "Expected=0, Predicted=0\n",
      "Expected=1, Predicted=1\n",
      "Expected=0, Predicted=0\n",
      "Expected=1, Predicted=1\n",
      "Expected=1, Predicted=1\n",
      "Expected=0, Predicted=0\n",
      "Expected=1, Predicted=1\n",
      "Expected=0, Predicted=0\n",
      "Expected=0, Predicted=0\n",
      "Expected=0, Predicted=0\n",
      "Expected=0, Predicted=0\n",
      "Expected=0, Predicted=0\n",
      "Expected=0, Predicted=0\n",
      "Expected=1, Predicted=1\n",
      "Expected=0, Predicted=0\n",
      "Expected=0, Predicted=0\n",
      "Expected=0, Predicted=0\n",
      "Expected=0, Predicted=0\n",
      "Expected=1, Predicted=1\n",
      "Expected=0, Predicted=0\n",
      "Expected=0, Predicted=0\n",
      "Expected=1, Predicted=1\n",
      "Expected=1, Predicted=1\n",
      "Expected=1, Predicted=1\n",
      "Expected=0, Predicted=0\n",
      "Expected=1, Predicted=1\n",
      "Expected=1, Predicted=1\n",
      "Expected=0, Predicted=0\n",
      "Expected=1, Predicted=1\n",
      "Expected=0, Predicted=0\n",
      "Expected=0, Predicted=0\n",
      "Expected=1, Predicted=1\n",
      "Expected=0, Predicted=0\n",
      "Expected=1, Predicted=1\n",
      "Expected=0, Predicted=0\n",
      "Expected=0, Predicted=0\n",
      "Expected=1, Predicted=1\n",
      "Expected=1, Predicted=1\n",
      "Expected=1, Predicted=1\n",
      "Expected=1, Predicted=1\n",
      "Expected=1, Predicted=1\n",
      "Expected=0, Predicted=0\n",
      "Expected=1, Predicted=1\n",
      "Expected=0, Predicted=0\n",
      "Expected=1, Predicted=1\n",
      "Expected=1, Predicted=1\n",
      "Expected=0, Predicted=0\n",
      "Expected=0, Predicted=0\n",
      "Expected=0, Predicted=0\n",
      "Expected=1, Predicted=1\n",
      "Expected=0, Predicted=0\n",
      "Expected=1, Predicted=1\n",
      "Expected=0, Predicted=0\n",
      "Expected=1, Predicted=1\n",
      "Expected=0, Predicted=0\n",
      "Expected=1, Predicted=1\n",
      "Expected=1, Predicted=1\n",
      "Expected=0, Predicted=0\n",
      "Expected=1, Predicted=1\n",
      "Expected=1, Predicted=1\n",
      "Expected=0, Predicted=0\n",
      "Expected=0, Predicted=0\n",
      "Expected=0, Predicted=0\n",
      "Expected=1, Predicted=1\n",
      "Expected=1, Predicted=1\n",
      "Expected=0, Predicted=0\n",
      "Expected=1, Predicted=1\n",
      "Expected=0, Predicted=0\n",
      "Expected=0, Predicted=0\n",
      "Expected=0, Predicted=0\n",
      "Expected=0, Predicted=0\n",
      "Expected=1, Predicted=1\n",
      "Expected=0, Predicted=0\n",
      "Expected=1, Predicted=1\n",
      "Expected=1, Predicted=1\n",
      "Expected=1, Predicted=1\n",
      "Expected=1, Predicted=1\n",
      "Expected=0, Predicted=0\n",
      "Expected=0, Predicted=0\n",
      "Expected=1, Predicted=1\n",
      "Expected=0, Predicted=0\n",
      "Expected=0, Predicted=0\n",
      "Expected=1, Predicted=1\n",
      "Expected=1, Predicted=1\n",
      "Expected=1, Predicted=1\n",
      "Expected=1, Predicted=1\n",
      "Expected=0, Predicted=0\n",
      "Expected=1, Predicted=1\n",
      "Expected=0, Predicted=0\n",
      "Expected=0, Predicted=0\n",
      "Expected=0, Predicted=0\n",
      "Expected=1, Predicted=1\n",
      "Expected=1, Predicted=1\n",
      "Expected=0, Predicted=0\n",
      "Expected=1, Predicted=1\n",
      "Expected=1, Predicted=1\n",
      "Expected=0, Predicted=0\n",
      "Expected=1, Predicted=1\n",
      "Expected=1, Predicted=1\n",
      "Expected=1, Predicted=1\n",
      "Expected=0, Predicted=0\n",
      "Expected=1, Predicted=1\n",
      "Expected=1, Predicted=1\n",
      "Expected=0, Predicted=0\n",
      "Expected=0, Predicted=0\n",
      "Expected=0, Predicted=0\n",
      "Expected=0, Predicted=0\n",
      "Expected=1, Predicted=1\n",
      "Expected=0, Predicted=0\n",
      "Expected=0, Predicted=0\n",
      "Expected=0, Predicted=0\n",
      "Expected=0, Predicted=0\n",
      "Expected=0, Predicted=0\n",
      "Expected=0, Predicted=0\n",
      "Expected=1, Predicted=1\n",
      "Expected=1, Predicted=1\n",
      "Expected=1, Predicted=1\n",
      "Expected=0, Predicted=0\n",
      "Expected=1, Predicted=1\n",
      "Expected=1, Predicted=1\n",
      "Expected=0, Predicted=0\n",
      "Expected=0, Predicted=0\n",
      "Expected=0, Predicted=0\n",
      "Expected=1, Predicted=1\n",
      "Expected=1, Predicted=1\n",
      "Expected=0, Predicted=0\n",
      "Expected=1, Predicted=1\n",
      "Expected=1, Predicted=1\n",
      "Expected=1, Predicted=1\n",
      "Expected=1, Predicted=1\n",
      "Expected=0, Predicted=0\n",
      "Expected=0, Predicted=0\n",
      "Expected=1, Predicted=1\n",
      "Expected=0, Predicted=0\n",
      "Expected=0, Predicted=0\n",
      "Expected=1, Predicted=1\n",
      "Expected=1, Predicted=1\n",
      "Expected=1, Predicted=1\n",
      "Expected=1, Predicted=1\n",
      "Expected=0, Predicted=0\n",
      "Expected=0, Predicted=0\n",
      "Expected=1, Predicted=1\n",
      "Expected=0, Predicted=0\n",
      "Expected=1, Predicted=1\n",
      "Expected=0, Predicted=0\n",
      "Expected=0, Predicted=0\n",
      "Expected=1, Predicted=1\n",
      "Expected=1, Predicted=1\n",
      "Expected=0, Predicted=0\n",
      "Expected=0, Predicted=0\n",
      "Expected=1, Predicted=1\n",
      "Expected=1, Predicted=1\n",
      "Expected=0, Predicted=0\n",
      "Expected=0, Predicted=0\n",
      "Expected=0, Predicted=0\n",
      "Expected=1, Predicted=1\n",
      "Expected=1, Predicted=1\n",
      "Expected=0, Predicted=0\n",
      "Expected=0, Predicted=0\n",
      "Expected=1, Predicted=1\n",
      "Expected=1, Predicted=1\n",
      "Expected=0, Predicted=0\n",
      "Expected=0, Predicted=0\n",
      "Expected=1, Predicted=1\n",
      "Expected=1, Predicted=1\n",
      "Expected=1, Predicted=1\n",
      "Expected=1, Predicted=1\n",
      "Expected=1, Predicted=1\n",
      "Expected=0, Predicted=0\n",
      "Expected=0, Predicted=0\n",
      "Expected=1, Predicted=1\n",
      "Expected=0, Predicted=0\n",
      "Expected=1, Predicted=1\n",
      "Expected=0, Predicted=0\n",
      "Expected=1, Predicted=1\n",
      "Expected=0, Predicted=0\n",
      "Expected=0, Predicted=0\n",
      "Expected=1, Predicted=1\n",
      "Expected=1, Predicted=1\n",
      "Expected=0, Predicted=0\n",
      "Expected=1, Predicted=1\n",
      "Expected=1, Predicted=1\n",
      "Expected=0, Predicted=0\n",
      "Expected=0, Predicted=0\n",
      "Expected=1, Predicted=1\n",
      "Expected=0, Predicted=0\n",
      "Expected=0, Predicted=0\n",
      "Expected=1, Predicted=1\n",
      "Expected=1, Predicted=1\n",
      "Expected=1, Predicted=1\n",
      "Expected=0, Predicted=0\n",
      "Expected=1, Predicted=1\n"
     ]
    }
   ],
   "source": [
    "for i in y:\n",
    "    prediction = perceptron.predict(X[i])\n",
    "    print(\"Expected=%d, Predicted=%d\" % (y[i], prediction))"
   ]
  },
  {
   "cell_type": "code",
   "execution_count": 17,
   "metadata": {},
   "outputs": [],
   "source": [
    "def plot_decision_boundary(X, theta):\n",
    "    #for two features\n",
    "    # X --> Inputs\n",
    "    # theta --> parameters\n",
    "    \n",
    "    # The Line is y=mx+c\n",
    "    # So, Equate mx+c = theta0.X0 + theta1.X1 + theta2.X2\n",
    "    # Solving we find m and c\n",
    "    x1 = [min(X[:,0]), max(X[:,0])]\n",
    "    m = -theta[1]/theta[2]\n",
    "    c = -theta[0]/theta[2]\n",
    "    x2 = m*x1 + c\n",
    "    \n",
    "    # Plotting\n",
    "    fig = plt.figure(figsize=(10,8))\n",
    "    plt.plot(X[:, 0][y==0], X[:, 1][y==0], \"r^\")\n",
    "    plt.plot(X[:, 0][y==1], X[:, 1][y==1], \"bs\")\n",
    "    plt.xlabel(\"feature 1\")\n",
    "    plt.ylabel(\"feature 2\")\n",
    "    plt.title(\"Perceptron Algorithm\")\n",
    "    plt.plot(x1, x2, 'y-')"
   ]
  },
  {
   "cell_type": "code",
   "execution_count": 18,
   "metadata": {},
   "outputs": [
    {
     "ename": "NameError",
     "evalue": "name 'theta' is not defined",
     "output_type": "error",
     "traceback": [
      "\u001b[1;31m---------------------------------------------------------------------------\u001b[0m",
      "\u001b[1;31mNameError\u001b[0m                                 Traceback (most recent call last)",
      "\u001b[1;32m<ipython-input-18-7cb8869b837e>\u001b[0m in \u001b[0;36m<module>\u001b[1;34m\u001b[0m\n\u001b[1;32m----> 1\u001b[1;33m \u001b[0mplot_decision_boundary\u001b[0m\u001b[1;33m(\u001b[0m\u001b[0mX\u001b[0m\u001b[1;33m,\u001b[0m \u001b[0mtheta\u001b[0m\u001b[1;33m)\u001b[0m\u001b[1;33m\u001b[0m\u001b[1;33m\u001b[0m\u001b[0m\n\u001b[0m",
      "\u001b[1;31mNameError\u001b[0m: name 'theta' is not defined"
     ]
    }
   ],
   "source": [
    "\n",
    "plot_decision_boundary(X, theta)"
   ]
  }
 ],
 "metadata": {
  "kernelspec": {
   "display_name": "Python 3",
   "language": "python",
   "name": "python3"
  },
  "language_info": {
   "codemirror_mode": {
    "name": "ipython",
    "version": 3
   },
   "file_extension": ".py",
   "mimetype": "text/x-python",
   "name": "python",
   "nbconvert_exporter": "python",
   "pygments_lexer": "ipython3",
   "version": "3.8.5"
  }
 },
 "nbformat": 4,
 "nbformat_minor": 4
}
