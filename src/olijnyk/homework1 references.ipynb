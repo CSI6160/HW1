{
 "cells": [
  {
   "cell_type": "code",
   "execution_count": null,
   "metadata": {},
   "outputs": [],
   "source": [
    "#homework 1\n",
    "#references\n",
    "#perceptron\n",
    "# https://www.thomascountz.com/2018/04/05/19-line-line-by-line-python-perceptron\n",
    "# https://towardsdatascience.com/perceptron-algorithm-in-python-f3ac89d2e537\n",
    "# https://machinelearningmastery.com/implement-perceptron-algorithm-scratch-python/\n",
    "\n",
    "#decision tree\n",
    "\n"
   ]
  }
 ],
 "metadata": {
  "kernelspec": {
   "display_name": "Python 3",
   "language": "python",
   "name": "python3"
  },
  "language_info": {
   "codemirror_mode": {
    "name": "ipython",
    "version": 3
   },
   "file_extension": ".py",
   "mimetype": "text/x-python",
   "name": "python",
   "nbconvert_exporter": "python",
   "pygments_lexer": "ipython3",
   "version": "3.8.5"
  }
 },
 "nbformat": 4,
 "nbformat_minor": 4
}
