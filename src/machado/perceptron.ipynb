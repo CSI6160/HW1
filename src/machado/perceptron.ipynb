{
 "cells": [
  {
   "cell_type": "code",
   "execution_count": 99,
   "metadata": {},
   "outputs": [],
   "source": [
    "# reference: https://towardsdatascience.com/perceptron-algorithm-in-python-f3ac89d2e537"
   ]
  },
  {
   "cell_type": "code",
   "execution_count": null,
   "metadata": {},
   "outputs": [],
   "source": []
  },
  {
   "cell_type": "code",
   "execution_count": 100,
   "metadata": {},
   "outputs": [],
   "source": [
    "# imports\n",
    "\n",
    "from sklearn import datasets\n",
    "import pandas as pd\n",
    "import numpy as np\n",
    "import matplotlib.pyplot as plt\n",
    "import random\n",
    "import math"
   ]
  },
  {
   "cell_type": "code",
   "execution_count": 101,
   "metadata": {},
   "outputs": [],
   "source": [
    "def generate_data(number_of_rows):\n",
    "    \n",
    "    \"\"\"\n",
    "        generates a DataFrame of with columns x, y, and label and number of rows equal to number_of_rows.\n",
    "        data generated with make_blobs from numpy.datasets\n",
    "\n",
    "        Parameters:\n",
    "            number_of_rows (int): the number of rows to b generated\n",
    "\n",
    "        Returns:\n",
    "            (DataFrame): columns - x, y, and label; rows - number_of_rows\n",
    "    \"\"\"\n",
    "    \n",
    "    random.seed()\n",
    "    columns = ['x', 'y', 'label']\n",
    "    points, labels = datasets.make_blobs(\n",
    "            n_samples = number_of_rows,\n",
    "            n_features = 2,\n",
    "            centers = 2,\n",
    "            cluster_std = 1 + random.random() * 4,\n",
    "            random_state = random.randint(1,100))\n",
    "    df = pd.DataFrame(list(zip(points[:,0], points[:,1], labels)), columns=columns)\n",
    "    return df"
   ]
  },
  {
   "cell_type": "code",
   "execution_count": 102,
   "metadata": {},
   "outputs": [
    {
     "data": {
      "text/html": [
       "<div>\n",
       "<style scoped>\n",
       "    .dataframe tbody tr th:only-of-type {\n",
       "        vertical-align: middle;\n",
       "    }\n",
       "\n",
       "    .dataframe tbody tr th {\n",
       "        vertical-align: top;\n",
       "    }\n",
       "\n",
       "    .dataframe thead th {\n",
       "        text-align: right;\n",
       "    }\n",
       "</style>\n",
       "<table border=\"1\" class=\"dataframe\">\n",
       "  <thead>\n",
       "    <tr style=\"text-align: right;\">\n",
       "      <th></th>\n",
       "      <th>x</th>\n",
       "      <th>y</th>\n",
       "      <th>label</th>\n",
       "    </tr>\n",
       "  </thead>\n",
       "  <tbody>\n",
       "    <tr>\n",
       "      <th>0</th>\n",
       "      <td>0.369131</td>\n",
       "      <td>-1.033449</td>\n",
       "      <td>0</td>\n",
       "    </tr>\n",
       "    <tr>\n",
       "      <th>1</th>\n",
       "      <td>-2.619075</td>\n",
       "      <td>-5.163763</td>\n",
       "      <td>1</td>\n",
       "    </tr>\n",
       "    <tr>\n",
       "      <th>2</th>\n",
       "      <td>-0.337991</td>\n",
       "      <td>1.371447</td>\n",
       "      <td>0</td>\n",
       "    </tr>\n",
       "    <tr>\n",
       "      <th>3</th>\n",
       "      <td>0.132741</td>\n",
       "      <td>-2.155942</td>\n",
       "      <td>0</td>\n",
       "    </tr>\n",
       "    <tr>\n",
       "      <th>4</th>\n",
       "      <td>1.129488</td>\n",
       "      <td>-7.001840</td>\n",
       "      <td>1</td>\n",
       "    </tr>\n",
       "  </tbody>\n",
       "</table>\n",
       "</div>"
      ],
      "text/plain": [
       "          x         y  label\n",
       "0  0.369131 -1.033449      0\n",
       "1 -2.619075 -5.163763      1\n",
       "2 -0.337991  1.371447      0\n",
       "3  0.132741 -2.155942      0\n",
       "4  1.129488 -7.001840      1"
      ]
     },
     "execution_count": 102,
     "metadata": {},
     "output_type": "execute_result"
    }
   ],
   "source": [
    "clusters_df = generate_data(100)\n",
    "clusters_df.head()"
   ]
  },
  {
   "cell_type": "code",
   "execution_count": 103,
   "metadata": {},
   "outputs": [],
   "source": [
    "def plot_df(df):\n",
    "\n",
    "    \"\"\"\n",
    "        plots the dataframe generated in generate_data() with color coded clusters\n",
    "\n",
    "        Parameters:\n",
    "            df (DataFrame): DataFrame to be plotted. Should be generated with generate_data(). Columns must be [feature, feature, label].\n",
    "\n",
    "        Returns:\n",
    "            (None)\n",
    "    \"\"\"\n",
    "\n",
    "    plt.scatter(\n",
    "        df[df.iloc[:,2] == 0].iloc[:,0], \n",
    "        df[df.iloc[:,2] == 0].iloc[:,1], \n",
    "        edgecolors='white', \n",
    "        marker='o',\n",
    "        color='g', \n",
    "        s=60,\n",
    "        label='0'\n",
    "    )\n",
    "    plt.scatter(\n",
    "        df[df.iloc[:,2] == 1].iloc[:,0], \n",
    "        df[df.iloc[:,2] == 1].iloc[:,1], \n",
    "        edgecolors='white', \n",
    "        marker='s',\n",
    "        color='b',\n",
    "        s=60,\n",
    "        label='1'\n",
    "    )\n",
    "    plt.xlabel(df.columns[0])\n",
    "    plt.ylabel(df.columns[1])\n",
    "    plt.legend()\n",
    "    plt.title(\n",
    "        ''\n",
    "    )\n",
    "    _w = 0.2\n",
    "    plt.xlim(pad_range(_w, {'max': df.iloc[:,0].max(), 'min': df.iloc[:,0].min()}))\n",
    "    plt.ylim(pad_range(_w, {'max': df.iloc[:,1].max(), 'min': df.iloc[:,1].min()}))\n",
    "    deviations= []\n",
    "    for i in range(4):\n",
    "        p_label = math.floor(i/2)\n",
    "        p_feature = i % 2\n",
    "        deviations.append(clusters_df[clusters_df.iloc[:,2] == p_label].iloc[:,p_feature].std())\n",
    "    plt.title(f'avera cluster deviation: {sum(deviations)/len(deviations):.2f}')\n",
    "\n",
    "\n",
    "def pad_range(pad_width, _range):\n",
    "\n",
    "    \"\"\"\n",
    "        padds a range with +- pad_width. \n",
    "        used to set pyplot.xlim() and pyplot.ylim() axis ranges.\n",
    "\n",
    "        Parameters:\n",
    "            pad_width (float): percent of the range to add to each side of the plot\n",
    "            _range (dictionary): max and min of the range\n",
    "        \n",
    "        Returns:\n",
    "            (list): [_min - _pad, _max + _pad]\n",
    "    \"\"\"\n",
    "\n",
    "    _max = _range['max']\n",
    "    _min = _range['min']\n",
    "    _delta = _max - _min\n",
    "    _pad = pad_width * _delta\n",
    "    return [_min - _pad, _max + _pad]"
   ]
  },
  {
   "cell_type": "code",
   "execution_count": 104,
   "metadata": {},
   "outputs": [
    {
     "data": {
      "image/png": "[encoded data removed]",
      "text/plain": [
       "<Figure size 432x288 with 1 Axes>"
      ]
     },
     "metadata": {
      "needs_background": "light"
     },
     "output_type": "display_data"
    }
   ],
   "source": [
    "plot_df(clusters_df)"
   ]
  },
  {
   "cell_type": "code",
   "execution_count": 105,
   "metadata": {},
   "outputs": [],
   "source": [
    "def perceptron(data, epochs=10, learning_rate=0.1):\n",
    "    \n",
    "    \"\"\"\n",
    "        perceptron training algorithm.\n",
    "        calls activation_function() for neuron activation.\n",
    "\n",
    "        Parameters:\n",
    "            data (DataFrame): data to train the perceptron on. Needs to be in the format [feature, feature, label]\n",
    "            epochs (int, optional, default=10): number of training cycles\n",
    "            learning_rate (float, optional, default=0.1): determines the magnitude of the offset applied to theta on a failed prediction\n",
    "\n",
    "        Returns:\n",
    "            (list): trained theta. give to predict() along with a point to make a prediction.\n",
    "    \"\"\"\n",
    "\n",
    "    labels = data.iloc[:,-1]\n",
    "    samples = data.iloc[:,:-1]\n",
    "    sample_count = samples.shape[0]\n",
    "    feature_count  = samples.shape[1]\n",
    "    theta = np.zeros((feature_count + 1, 1))\n",
    "    misclassified_counts = [0 for _ in range(epochs)]\n",
    "    threashold = 0.0\n",
    "    active = 1.0\n",
    "    inactive = 0.0\n",
    "\n",
    "    for e in range(epochs):\n",
    "        for i, sample_i in enumerate(samples.iterrows()):\n",
    "            sample_i = np.array([sample_i[1][0], sample_i[1][1]])\n",
    "            sample_i = np.insert(sample_i, 0, 1).reshape(-1, 1)\n",
    "            dot = np.squeeze(np.dot(sample_i.T, theta))\n",
    "            prediction = inactive\n",
    "            if dot > threashold: prediction = active\n",
    "            if prediction - labels[i] == 0: continue \n",
    "            theta += learning_rate * sample_i * (labels[i] - prediction)\n",
    "            misclassified_counts[e] += 1\n",
    "\n",
    "    return theta, misclassified_counts"
   ]
  },
  {
   "cell_type": "code",
   "execution_count": 106,
   "metadata": {},
   "outputs": [],
   "source": [
    "theta, counts = perceptron(clusters_df)"
   ]
  },
  {
   "cell_type": "code",
   "execution_count": 107,
   "metadata": {},
   "outputs": [
    {
     "data": {
      "text/html": [
       "<div>\n",
       "<style scoped>\n",
       "    .dataframe tbody tr th:only-of-type {\n",
       "        vertical-align: middle;\n",
       "    }\n",
       "\n",
       "    .dataframe tbody tr th {\n",
       "        vertical-align: top;\n",
       "    }\n",
       "\n",
       "    .dataframe thead th {\n",
       "        text-align: right;\n",
       "    }\n",
       "</style>\n",
       "<table border=\"1\" class=\"dataframe\">\n",
       "  <thead>\n",
       "    <tr style=\"text-align: right;\">\n",
       "      <th></th>\n",
       "      <th>final_theta</th>\n",
       "    </tr>\n",
       "  </thead>\n",
       "  <tbody>\n",
       "    <tr>\n",
       "      <th>0</th>\n",
       "      <td>-2.400000</td>\n",
       "    </tr>\n",
       "    <tr>\n",
       "      <th>1</th>\n",
       "      <td>-0.019353</td>\n",
       "    </tr>\n",
       "    <tr>\n",
       "      <th>2</th>\n",
       "      <td>-0.973672</td>\n",
       "    </tr>\n",
       "  </tbody>\n",
       "</table>\n",
       "</div>"
      ],
      "text/plain": [
       "   final_theta\n",
       "0    -2.400000\n",
       "1    -0.019353\n",
       "2    -0.973672"
      ]
     },
     "execution_count": 107,
     "metadata": {},
     "output_type": "execute_result"
    }
   ],
   "source": [
    "_theta_df = pd.DataFrame(theta, columns=['final_theta'])\n",
    "_theta_df"
   ]
  },
  {
   "cell_type": "code",
   "execution_count": 108,
   "metadata": {},
   "outputs": [
    {
     "data": {
      "text/html": [
       "<div>\n",
       "<style scoped>\n",
       "    .dataframe tbody tr th:only-of-type {\n",
       "        vertical-align: middle;\n",
       "    }\n",
       "\n",
       "    .dataframe tbody tr th {\n",
       "        vertical-align: top;\n",
       "    }\n",
       "\n",
       "    .dataframe thead th {\n",
       "        text-align: right;\n",
       "    }\n",
       "</style>\n",
       "<table border=\"1\" class=\"dataframe\">\n",
       "  <thead>\n",
       "    <tr style=\"text-align: right;\">\n",
       "      <th></th>\n",
       "      <th>epoch</th>\n",
       "      <th>misclassifications</th>\n",
       "    </tr>\n",
       "  </thead>\n",
       "  <tbody>\n",
       "    <tr>\n",
       "      <th>0</th>\n",
       "      <td>0</td>\n",
       "      <td>16</td>\n",
       "    </tr>\n",
       "    <tr>\n",
       "      <th>1</th>\n",
       "      <td>1</td>\n",
       "      <td>8</td>\n",
       "    </tr>\n",
       "    <tr>\n",
       "      <th>2</th>\n",
       "      <td>2</td>\n",
       "      <td>5</td>\n",
       "    </tr>\n",
       "    <tr>\n",
       "      <th>3</th>\n",
       "      <td>3</td>\n",
       "      <td>8</td>\n",
       "    </tr>\n",
       "    <tr>\n",
       "      <th>4</th>\n",
       "      <td>4</td>\n",
       "      <td>5</td>\n",
       "    </tr>\n",
       "    <tr>\n",
       "      <th>5</th>\n",
       "      <td>5</td>\n",
       "      <td>6</td>\n",
       "    </tr>\n",
       "    <tr>\n",
       "      <th>6</th>\n",
       "      <td>6</td>\n",
       "      <td>5</td>\n",
       "    </tr>\n",
       "    <tr>\n",
       "      <th>7</th>\n",
       "      <td>7</td>\n",
       "      <td>5</td>\n",
       "    </tr>\n",
       "    <tr>\n",
       "      <th>8</th>\n",
       "      <td>8</td>\n",
       "      <td>2</td>\n",
       "    </tr>\n",
       "    <tr>\n",
       "      <th>9</th>\n",
       "      <td>9</td>\n",
       "      <td>6</td>\n",
       "    </tr>\n",
       "  </tbody>\n",
       "</table>\n",
       "</div>"
      ],
      "text/plain": [
       "   epoch  misclassifications\n",
       "0      0                  16\n",
       "1      1                   8\n",
       "2      2                   5\n",
       "3      3                   8\n",
       "4      4                   5\n",
       "5      5                   6\n",
       "6      6                   5\n",
       "7      7                   5\n",
       "8      8                   2\n",
       "9      9                   6"
      ]
     },
     "execution_count": 108,
     "metadata": {},
     "output_type": "execute_result"
    }
   ],
   "source": [
    "_misclassifications_df = pd.DataFrame().from_dict({'epoch':[x for x in range(len(counts))], 'misclassifications': counts})\n",
    "_misclassifications_df"
   ]
  },
  {
   "cell_type": "code",
   "execution_count": 109,
   "metadata": {},
   "outputs": [],
   "source": [
    "def plot_decision_boundary(data, theta):\n",
    "    \n",
    "    \"\"\"\n",
    "        scatterplot of data with decision boundary\n",
    "\n",
    "        Parameters:\n",
    "            data (DataFrame): dataset perceptron was trained on.\n",
    "                needs to be in the form [feature, feature, label]\n",
    "            theta (list): resultant theta from perceptron training\n",
    "\n",
    "        Returns:\n",
    "            (None): just draws the plot\n",
    "    \"\"\"\n",
    "\n",
    "    if theta[2] == 0: return\n",
    "\n",
    "    plot_df(data)\n",
    "\n",
    "    feature_1_range = np.array([data.iloc[:,0].min(), data.iloc[:,0].max()])\n",
    "    slope = -theta[1]/theta[2]\n",
    "    intercept = -theta[0]/theta[2]\n",
    "    feature_2_range = slope * feature_1_range + intercept\n",
    "\n",
    "    plt.plot(\n",
    "        feature_1_range,\n",
    "        feature_2_range,\n",
    "        linewidth=2,\n",
    "        color='red',\n",
    "        label='decision boundary'\n",
    "    )\n",
    "    plt.legend()"
   ]
  },
  {
   "cell_type": "code",
   "execution_count": 110,
   "metadata": {},
   "outputs": [
    {
     "data": {
      "image/png": "[encoded data removed]",
      "text/plain": [
       "<Figure size 432x288 with 1 Axes>"
      ]
     },
     "metadata": {
      "needs_background": "light"
     },
     "output_type": "display_data"
    }
   ],
   "source": [
    "plot_decision_boundary(clusters_df, theta)"
   ]
  }
 ],
 "metadata": {
  "interpreter": {
   "hash": "367101c4f597ba2d69615a403f869729e156321035dbf4a6f1655c31dd397b11"
  },
  "kernelspec": {
   "display_name": "Python 3.8.10 64-bit ('venv': venv)",
   "language": "python",
   "name": "python3"
  },
  "language_info": {
   "codemirror_mode": {
    "name": "ipython",
    "version": 3
   },
   "file_extension": ".py",
   "mimetype": "text/x-python",
   "name": "python",
   "nbconvert_exporter": "python",
   "pygments_lexer": "ipython3",
   "version": "3.8.10"
  },
  "orig_nbformat": 4
 },
 "nbformat": 4,
 "nbformat_minor": 2
}
