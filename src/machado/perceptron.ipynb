{
 "cells": [
  {
<<<<<<< HEAD
   "cell_type": "code",
   "execution_count": 38,
=======
   "cell_type": "markdown",
>>>>>>> a5078ce2aba24ee9abf82133cda112430b4215ce
   "metadata": {},
   "source": [
    "CSI6160 Homework 1 Perceptron Implementation Implementation\n",
    "\n",
    "John Olijnyk & John Machado\n",
    "\n",
    "1/31/2022\n",
    "\n",
    "We will implment the perceptron algorithm using Entropy.\n",
    "\n",
    "References:\n",
    " https://towardsdatascience.com/perceptron-algorithm-in-python-f3ac89d2e537"
   ]
  },
  {
   "cell_type": "code",
<<<<<<< HEAD
   "execution_count": 39,
=======
   "execution_count": 1,
>>>>>>> a5078ce2aba24ee9abf82133cda112430b4215ce
   "metadata": {},
   "outputs": [],
   "source": [
    "# imports\n",
    "\n",
    "from sklearn import datasets\n",
    "import pandas as pd\n",
    "import numpy as np\n",
    "import matplotlib.pyplot as plt\n",
    "import random\n",
    "import math"
   ]
  },
  {
   "cell_type": "markdown",
   "metadata": {},
   "source": [
    "We begin by generating data.\n",
    "We created a function that generates a user specified number of data points each clustered around one of two centroids.  An assumption with perceptron is that the data set is linearly seperateable.\n",
    "The deviation in each cluster is random from execution to execution.\n",
    "Each data point has two features and a label; the label corresponds to the cluster to which the data point belongs."
   ]
  },
  {
   "cell_type": "code",
<<<<<<< HEAD
   "execution_count": 40,
=======
   "execution_count": 2,
>>>>>>> a5078ce2aba24ee9abf82133cda112430b4215ce
   "metadata": {},
   "outputs": [],
   "source": [
    "def generate_data(number_of_rows):\n",
    "    \n",
    "    \"\"\"\n",
    "        generates a DataFrame of with columns x, y, and label and number of rows equal to number_of_rows.\n",
    "        data generated with make_blobs from numpy.datasets\n",
    "\n",
    "        Parameters:\n",
    "            number_of_rows (int): the number of rows to b generated\n",
    "\n",
    "        Returns:\n",
    "            (DataFrame): columns - x, y, and label; rows - number_of_rows\n",
    "    \"\"\"\n",
    "    \n",
    "    # initialize the random number generator\n",
    "    random.seed()\n",
    "\n",
    "    # make_blobs for point generation\n",
    "    points, labels = datasets.make_blobs(\n",
    "            n_samples = number_of_rows,\n",
    "            n_features = 2,\n",
    "            centers = 2,\n",
    "            cluster_std = 1.25,\n",
    "            random_state = random.randint(1,100))\n",
    "\n",
    "    # put data into dataframe\n",
    "    _dict = {\n",
    "        'x': points[:,0],\n",
    "        'y': points[:,1],\n",
    "        'label': labels\n",
    "    }\n",
    "    df = pd.DataFrame().from_dict(_dict)\n",
    "    \n",
    "    # return\n",
    "    return df"
   ]
  },
  {
   "cell_type": "code",
<<<<<<< HEAD
   "execution_count": 41,
=======
   "execution_count": 3,
>>>>>>> a5078ce2aba24ee9abf82133cda112430b4215ce
   "metadata": {},
   "outputs": [
    {
     "data": {
      "text/html": [
       "<div>\n",
       "<style scoped>\n",
       "    .dataframe tbody tr th:only-of-type {\n",
       "        vertical-align: middle;\n",
       "    }\n",
       "\n",
       "    .dataframe tbody tr th {\n",
       "        vertical-align: top;\n",
       "    }\n",
       "\n",
       "    .dataframe thead th {\n",
       "        text-align: right;\n",
       "    }\n",
       "</style>\n",
       "<table border=\"1\" class=\"dataframe\">\n",
       "  <thead>\n",
       "    <tr style=\"text-align: right;\">\n",
       "      <th></th>\n",
       "      <th>x</th>\n",
       "      <th>y</th>\n",
       "      <th>label</th>\n",
       "    </tr>\n",
       "  </thead>\n",
       "  <tbody>\n",
       "    <tr>\n",
       "      <th>0</th>\n",
<<<<<<< HEAD
       "      <td>0.554496</td>\n",
       "      <td>-9.901072</td>\n",
=======
       "      <td>-9.540357</td>\n",
       "      <td>8.472990</td>\n",
>>>>>>> a5078ce2aba24ee9abf82133cda112430b4215ce
       "      <td>0</td>\n",
       "    </tr>\n",
       "    <tr>\n",
       "      <th>1</th>\n",
<<<<<<< HEAD
       "      <td>-4.604414</td>\n",
       "      <td>-9.595791</td>\n",
=======
       "      <td>-10.891045</td>\n",
       "      <td>9.802606</td>\n",
>>>>>>> a5078ce2aba24ee9abf82133cda112430b4215ce
       "      <td>0</td>\n",
       "    </tr>\n",
       "    <tr>\n",
       "      <th>2</th>\n",
<<<<<<< HEAD
       "      <td>-0.590784</td>\n",
       "      <td>-6.616215</td>\n",
=======
       "      <td>-9.155876</td>\n",
       "      <td>7.225817</td>\n",
>>>>>>> a5078ce2aba24ee9abf82133cda112430b4215ce
       "      <td>0</td>\n",
       "    </tr>\n",
       "    <tr>\n",
       "      <th>3</th>\n",
<<<<<<< HEAD
       "      <td>0.094182</td>\n",
       "      <td>-2.022820</td>\n",
=======
       "      <td>-4.533827</td>\n",
       "      <td>-7.433099</td>\n",
>>>>>>> a5078ce2aba24ee9abf82133cda112430b4215ce
       "      <td>1</td>\n",
       "    </tr>\n",
       "    <tr>\n",
       "      <th>4</th>\n",
<<<<<<< HEAD
       "      <td>1.442166</td>\n",
       "      <td>-0.515777</td>\n",
       "      <td>1</td>\n",
=======
       "      <td>-8.628633</td>\n",
       "      <td>7.621745</td>\n",
       "      <td>0</td>\n",
>>>>>>> a5078ce2aba24ee9abf82133cda112430b4215ce
       "    </tr>\n",
       "  </tbody>\n",
       "</table>\n",
       "</div>"
      ],
      "text/plain": [
<<<<<<< HEAD
       "          x         y  label\n",
       "0  0.554496 -9.901072      0\n",
       "1 -4.604414 -9.595791      0\n",
       "2 -0.590784 -6.616215      0\n",
       "3  0.094182 -2.022820      1\n",
       "4  1.442166 -0.515777      1"
      ]
     },
     "execution_count": 41,
=======
       "           x         y  label\n",
       "0  -9.540357  8.472990      0\n",
       "1 -10.891045  9.802606      0\n",
       "2  -9.155876  7.225817      0\n",
       "3  -4.533827 -7.433099      1\n",
       "4  -8.628633  7.621745      0"
      ]
     },
     "execution_count": 3,
>>>>>>> a5078ce2aba24ee9abf82133cda112430b4215ce
     "metadata": {},
     "output_type": "execute_result"
    }
   ],
   "source": [
    "# generate and print the first 5 rows of random clustered data to see the data.\n",
    "clusters_df = generate_data(100)\n",
    "clusters_df.head()"
   ]
  },
  {
   "cell_type": "markdown",
   "metadata": {},
   "source": [
    "Next, we created a function to display a scatter plot of our data. We will use this function later to draw the decision boundary."
   ]
  },
  {
   "cell_type": "code",
<<<<<<< HEAD
   "execution_count": 42,
=======
   "execution_count": 4,
>>>>>>> a5078ce2aba24ee9abf82133cda112430b4215ce
   "metadata": {},
   "outputs": [],
   "source": [
    "def plot_df(df, padding=0.2):\n",
    "\n",
    "    \"\"\"\n",
    "        plots the dataframe generated in generate_data() with color coded clusters\n",
    "\n",
    "        Parameters:\n",
    "            df (DataFrame): DataFrame to be plotted. Should be generated with generate_data(). Columns must be [feature, feature, label].\n",
    "            padding (float, optional, default=0.2): Percent of total width of data set to pad each axis.\n",
    "\n",
    "        Returns:\n",
    "            (None)\n",
    "    \"\"\"\n",
    "\n",
    "    # set plot size\n",
    "    plt.figure(figsize=(10,10))\n",
    "\n",
    "    # scatter plot of the label = 0\n",
    "    plt.scatter(\n",
    "        df[df.iloc[:,2] == 0].iloc[:,0],  # all rows in column 'x' where 'label' is zero\n",
    "        df[df.iloc[:,2] == 0].iloc[:,1],  # all rows in column 'y' where 'label' is zero \n",
    "        edgecolors='white',  \n",
    "        marker='o',\n",
    "        color='g', \n",
    "        s=60,\n",
    "        label='0'\n",
    "    )\n",
    "\n",
    "    # scatter plot of label 1\n",
    "    plt.scatter(\n",
    "        df[df.iloc[:,2] == 1].iloc[:,0],  # all rows in column 'x' where 'label' is one\n",
    "        df[df.iloc[:,2] == 1].iloc[:,1],  # all rows in column 'y' where 'label' is one \n",
    "        edgecolors='white', \n",
    "        marker='s',\n",
    "        color='b',\n",
    "        s=60,\n",
    "        label='1'\n",
    "    )\n",
    "\n",
    "    # plot x axis label\n",
    "    plt.xlabel(df.columns[0])\n",
    "    # plot y axis label\n",
    "    plt.ylabel(df.columns[1])\n",
    "    # plot legend\n",
    "    plt.legend()\n",
    "\n",
    "    # pad x axis \n",
    "    plt.xlim(pad_range(padding, {'max': df.iloc[:,0].max(), 'min': df.iloc[:,0].min()}))\n",
    "    \n",
    "    # pad y axis\n",
    "    plt.ylim(pad_range(padding, {'max': df.iloc[:,1].max(), 'min': df.iloc[:,1].min()}))\n",
    "    \n",
    "    # get average deviations for plot title\n",
    "    deviations= []\n",
    "    for i in range(4):\n",
    "        p_label = math.floor(i/2)\n",
    "        p_feature = i % 2\n",
    "        deviations.append(clusters_df[clusters_df.iloc[:,2] == p_label].iloc[:,p_feature].std())\n",
    "    average = sum(deviations)/len(deviations)\n",
    "    \n",
    "    # plot title\n",
    "    plt.title(f'avera cluster deviation: {average:.2f}')\n",
    "\n",
    "\n",
    "def pad_range(pad_width, _range):\n",
    "\n",
    "    \"\"\"\n",
    "        padds a range with +- pad_width. \n",
    "        used to set pyplot.xlim() and pyplot.ylim() axis ranges.\n",
    "\n",
    "        Parameters:\n",
    "            pad_width (float): percent of the range to add to each side of the plot\n",
    "            _range (dictionary): max and min of the range\n",
    "        \n",
    "        Returns:\n",
    "            (list): [_min - _pad, _max + _pad]\n",
    "    \"\"\"\n",
    "\n",
    "    # left pad = min - pad * (max - min)\n",
    "    # right pad = max + pad * (max - min)\n",
    "    _max = _range['max']\n",
    "    _min = _range['min']\n",
    "    _delta = _max - _min\n",
    "    _pad = pad_width * _delta\n",
    "    return [_min - _pad, _max + _pad]"
   ]
  },
  {
   "cell_type": "code",
<<<<<<< HEAD
   "execution_count": 43,
=======
   "execution_count": 5,
>>>>>>> a5078ce2aba24ee9abf82133cda112430b4215ce
   "metadata": {},
   "outputs": [
    {
     "data": {
<<<<<<< HEAD
      "image/png": "iVBORw0KGgoAAAANSUhEUgAAAnAAAAJcCAYAAAB5fZnuAAAAOXRFWHRTb2Z0d2FyZQBNYXRwbG90bGliIHZlcnNpb24zLjUuMSwgaHR0cHM6Ly9tYXRwbG90bGliLm9yZy/YYfK9AAAACXBIWXMAAAsTAAALEwEAmpwYAAA2jUlEQVR4nO3dcZzcdX3n8ffbJGwMJIZgjJCgQYmWQKINC631pI1StVTNkVYP9KhEOagPbOmddz0qTfSa2rP2KvUqV4lAaotCLQ0GTUSlQrXXE91ETEgQiCZKAoY1ATa4ZtmEz/0xvwmTzczu7OzM/H7fmdfz8dgHu/P7zW8+Oxuy73y+v+/364gQAAAA0vG8vAsAAADA+BDgAAAAEkOAAwAASAwBDgAAIDEEOAAAgMQQ4AAAABJDgANQaLbD9ul51zEW25fa/tcmXOeDtm+YwPO32f61idYBoNgIcAA6nu2/tf2neddRj4j4s4i4rJ5zq31fEXFmRNzTkuKOfu132P4324O2R30920ttb7X9pO19tm+3Pbfi+MdsP2J7wPaPbH+w1fUDqSPAAWgq25PzrqHZOvF7aoL9kv5K0kfrOHe7pDdFxExJp0h6WNLfVBy/UdIvRMQMSb8i6V22lze1WqDDEOCALmL7ats/sH3A9nbbF2aP92TdkbMqzp1t++e2X5R9/Rbb92Xn/ZvtxRXn7rL9321vkfQz25NrvVaNuiZlQ4fl8zfZPrXKeffYvqzi6yPDli651vbjWSdnq+2zbF8u6V2S/tD207a/mJ1/iu1/st1ve6ft36+47odt32b7ZtsDki6tUstJtu/IXuvbkl4+4vgv2P6a7f22H7T9juzxX7L9E9uTKs69MHvvyq99c8Wxf8zOf8r2N2yfmT1e6/vaZfv8ip/rX9l+NPv4K9s92bFfs73b9gey9+wx2ytq/YxGioi7IuLzkh6t49y9EVF53mFJp1ccfzAiflZx/NnK4wCORYADussPJL1O0gsk/Q9JN9s+OSKGJK2TdHHFue+Q9C8R8bjtX5R0k6QrJJ0k6XpJd5TDQOZiSb8paWZEHKr1WjXq+i/Z8y+QNEPSeyQNjvN7e6Ok8yS9InvNd0jaFxFrJH1W0sci4oSIeKvt50n6oqTvSZor6Q2S/sD2myqut0zSbZJmZs8f6TpJByWdnNX7nvIB28dL+pqkz0l6kaSLJP0f2wsj4l5JP5P0+oprvTM7t5ovS1qQXWdzuZZq31eV514j6ZclvVrSqySdK+mPK46/OHuv5kp6r6TrbJ+YfQ/vLIfKZrD9EttPSvq5pP8q6WMjjl9t+2lJuyUdr9rvBwAR4ICuEhH/GBGPRsSzEfEPKg1lnZsd/pxKQaOsMlRcLun6iLg3Ig5HxGckDakUDsr+d0Q8EhE/r+O1RrpM0h9nnZiIiO9FxL5xfnvDkqZL+gVJjogHIuKxGueeI2l2RPxJRDwTET+U9OkR3///i4gvZPX/vPLJWffstyStioifRcT9kj5TccpbJO2KiLURcSgivivpnyS9PTt+i7KwbHu6SsH1lmqFRsRNEXEgC9kflvQq2y+o7y3RuyT9SUQ8HhH9KgXpSyqOD2fHhyNio6SnJb0ye93PRcTiY67YoIj4cTaE+kKVQuT3Rxz/qEo/vyWS/l7SU816baATEeCALmL7dyqGQZ+UdJZKv1Al6W5J07IhvvkqdW1uz469VNIHys/LnnuqSvczlT0yjtca6VSVOnYNi4ivS/qkSp2xx22vsT2jxukvlXTKiO/ng5LmVJzzSNVnlsyWNHnEOT8acf1fGnH9d6nU8ZJKwXh51sFcLmlzRFQ+X9KRoeWPZkPLA5J2ZYdqvY8jnTKirh/p6J/ZvqxbWjYo6YQ6r92QiNivUthd7xH3Fmbh/bsqden+RyvrAFJHgAO6hO2XqtRler+kk7JuyP2SLEkRcVjS51XqDF0s6UsRcSB7+iOSPhIRMys+pkVEZdco6n2tKh7RiHvIaviZpGkVX7+48mBE/O+IOFvSQpWGUv/byNoqXm/niO9nekRcUO37qaJf0iGVgmfZS0Zc/19GXP+EiHhfVud2lcLUb2j04dN3qjSUe75KQ53zs8fL7+NoNUql+9NeOqLGMe9Za4PJKg0J1wrYk1XfnwegaxHggO5xvEq/8PslKbth/awR53xO0n9QqVtUGSo+Lel3s+6cbR9v+zez4b9GX6vSDZJW216QXX+x7ZOqnHefSp2raS6tDffe8gHb52T1TVEp6B1U6WZ4Sdor6WUV1/m2pAMuTbx4ftbpOsv2OaPUeEQWdtdJ+nBWy0JJ76445UuSXmH7EttTso9zbJ9Rcc7nJF2l0n17/1jjpaarNFS9T6Xg+mcjjo/8vka6RdIfuzQh5YWSVkm6eZTz65a9Z1NVClvPsz01e++rnbvc9ittP8/2bEkfl/TdiNifPXaF7ROzn/25kq6U9M/NqBPoVAQ4oEtkXZ+/lPT/VPrFv0jS/x1xTvkG+1NUunm+/HifpP+k0hDlE5J2qMrMzPG81ggfV6n791VJAyotK/H8KuddK+mZ7Jqf0dGTC2aoFDSfUKm7tU/SX2THbpS0MBvO/EIWwN6i0jDxTkk/VSlE1ntvmVTqLp4g6SeS/lbS2vKBrHP5RpXuqXs0O+fPJVVO+rhF0q9K+npE/LTGa/xd9r3sUWkpjm+NOH7U91Xl+X8qqU/SFklbVZoEUdd6eLbfZXvbKKdcotJQ59+oNFnl5yq9/+XnP237ddmXcyXdKelAVsezkipnJV+o0hD6AZUC5l9nHwBqcMRYHXgAAAAUCR04AACAxBDgAAAAEkOAAwAASAwBDgAAIDFdtUHzC1/4wpg/f37eZQAAAIxp06ZNP42I2dWOdVWAmz9/vvr6+vIuAwAAYEy2j9mhpYwhVAAAgMQQ4AAAABJDgAMAAEhMV90DBwAAusvw8LB2796tgwcP5l1KTVOnTtW8efM0ZUrV7YSrIsABAICOtXv3bk2fPl3z58+X7bzLOUZEaN++fdq9e7dOO+20up/HECoAAOhYBw8e1EknnVTI8CZJtnXSSSeNu0NIgAMAAB2tqOGtrJH6CHAAAACJIcABAAC00J133qlXvvKVOv300/XRj360KdckwAEAAFQYGBrQgaEDGhgamPC1Dh8+rCuvvFJf/vKXtX37dt1yyy3avn37hK9LgAMAAJA0ODyobY9v04r1K7RkzRKtWL9C2/u3a3B4sOFrfvvb39bpp5+ul73sZTruuON00UUXaf369ROulWVEAAAAJO18YqfOXnO2hg4PSZJ27N+hDQ9t0OYrNmvh7IUNXXPPnj069dRTj3w9b9483XvvvROulQ4cAADoegNDA1p1z6oj4a1s6PCQVt69sinDqc1EgAMAAF3Psrbs3VL12Na9W2U1thTJ3Llz9cgjjxz5evfu3Zo7d25D16pEgAMAAF0vFFo8Z3HVY4vmLFIoGrruOeeco4cfflg7d+7UM888o1tvvVVve9vbJlKqJAIcAACAZvTM0Oqlq9Uzqeeox3sm9Wj10tWa0TOjoetOnjxZn/zkJ/WmN71JZ5xxht7xjnfozDPPnHC9TGIAAACQNH/mfG2+YrNW3r1SW/du1aI5i7R66WrNnzl/Qte94IILdMEFFzSnyAwBDgAAQNK0KdO0cPZCrV22VpYVioY7b61GgAMAAKhQ1NBWiXvgAAAAEkOAAwAASAwBDgAAIDEEOAAAgMQQ4AAAAFroPe95j170ohfprLPOato1CXAAAKDrDQ9P7PhoLr30Ut15552NX6AKAhwAAOh6U6ZIdu2PKVMav/Z5552nWbNmNa9YEeAAAACSQ4ADAABIDAEOAAAgMQQ4AACAxBDgAAAAWujiiy/Wa17zGj344IOaN2+ebrzxxglfk83sAQAAWuiWW25p+jUJcAAAoOsND0sRox+fyFIizcYQKgAA6HpjhbMihTeJAAcAADpcjNZaK4BG6iPAAQCAjjV16lTt27evsCEuIrRv3z5NnTp1XM/jHjgAANCx5s2bp927d6u/vz/vUmqaOnWq5s2bN67nEOAAAEDHmjJlik477bS8y2g6hlABAAASQ4ADAABIDAEOAAAgMQQ4AACAxBDgAAAAEkOAAwAASAwBDgAAIDEEOAAAgMQQ4AAAABJDgAMAAEgMAQ4AACAxBDgAAIDEEOAAAAASQ4ADAABIDAEOAAAgMQQ4AACAxBDgAAAAEkOAAwAASAwBDgAAIDEEOAAAgMQUMsDZPtX23ba3295m+6oq5/ya7ads35d9rMqjVgAAgHabnHcBNRyS9IGI2Gx7uqRNtr8WEdtHnPfNiHhLDvUBAADkppAduIh4LCI2Z58fkPSApLn5VgUAAFAMhQxwlWzPl/SLku6tcvg1tr9n+8u2z6zx/Mtt99nu6+/vb2WpAAAAbVHoAGf7BEn/JOkPImJgxOHNkl4aEa+S9NeSvlDtGhGxJiJ6I6J39uzZLa0XAACgHQob4GxPUSm8fTYi1o08HhEDEfF09vlGSVNsv7DNZQIAALRdIQOcbUu6UdIDEfHxGue8ODtPts9V6XvZ174qAQAA8lHUWaivlXSJpK2278se+6Ckl0hSRHxK0m9Lep/tQ5J+LumiiIgcagUAAGirQga4iPhXSR7jnE9K+mR7KgIAACiOQg6hAgAAoDYCHAAAQGIIcAAAAIkhwAEAACSGAAcAAJAYAhwA1DA8PLHjANAqhVxGBACKYMoUyaMsaMTKkwDyQgcOAAAgMQQ4AACAxBDgAAAAEkOAAwAASAwBDgAAIDEEOAAAgMSwjAgA1DA8PPpSIcPDpaVGAKDd6MABQA1jhTPCG4C8EOAAAAASQ4ADAABIDAEOAAAgMQQ4AACAxBDgAAAAEkOAAwAASAwBDgAAIDEEOAAAgMQQ4AAAABJDgAMAAEgMAQ4AACAxBDgAAIDEEOAAAAASQ4ADAABIDAEOAAAgMQQ4AACAxBDgALTd8PDEjgNAt5ucdwEAus+UKZJd+3hE+2oBgBTRgQMAAEgMAQ4AACAxBDgAAIDEEOAAAAASQ4ADAABIDAEOAAAgMSwjAqDthodHXypkeLi01AgAoDo6cADabqxwRngDgNER4AAAABJDgAOABrElGIC8cA8cADSILcEA5IUOHAAAQGIIcAAAAIkhwAEAACSGAAcAAJAYAhwAAEBiCHAAAACJIcABQIPKW4LV+ijaOnCsWwd0DtaBA4AGpbYlGOvWAZ2DDhwAAEBiCHAAugLDhwA6CUOoALoCw4cAOgkdOAAAgMQQ4AAAABJDgAMAAEhMYQOc7TfbftD2DttXVzneY/sfsuP32p6fQ5kAulCqEyJSW7cOQG2FDHC2J0m6TtJvSFoo6WLbC0ec9l5JT0TE6ZKulfTn7a0SQLcqT4io9VG09d/KUlu3DrWl+o8INE8hA5ykcyXtiIgfRsQzkm6VtGzEOcskfSb7/DZJb7BHm2MGAEBnSPUfEWieoga4uZIeqfh6d/ZY1XMi4pCkpySdNPJCti+33We7r7+/v0XlAqhHnl0Dhg8BdJKiBrimiYg1EdEbEb2zZ8/Ouxygq+XZNWD4EEAnKWqA2yPp1Iqv52WPVT3H9mRJL5C0ry3VAQAA5KioAe47khbYPs32cZIuknTHiHPukPTu7PPflvT1CNZSB/LADdUA0F6F3EorIg7Zfr+kr0iaJOmmiNhm+08k9UXEHZJulPT3tndI2q9SyAOQA7apAiCV/rE22u0IYx1H/QoZ4CQpIjZK2jjisVUVnx+U9PZ21wUA5QkRox2f6C8pfhEiRfxjrn2KOoQKAIXV6ISI8Qw1t3vCB8PgaWFWNQrbgQOATlPk7kSRa8OxmFUNOnAA2oauQfvQUQM6Gx04AG1D16B96KgBnY0OHAAAQGIIcAAmrJlDowz9tU/lpAgAaWEIFcCENXNolKE/IF3tWGIHJQQ4ACggfhEiRdzn2j4MoQLoau0csh3PUHPlL7r9+1u/Dtz+/cwQBlJCBw5AV2vnkO3I0FV+3Yj8h41POmn016JzAhQLHTgA6EBjdfv278+7wvFjggvwHAIcgELat6968Chrxy/rfftGP16kwDCylpEds8rj9nMdt5S0e3sxoMgYQgVQSLNm5T+sWIQaar3WyEkM9Q4FMzkC6Ax04AAUylgBAyWNhixmCQKdgQAHoFAIEAAwNgIcAOSgcpJBJ2GiAdAe3AMHoKvlNWRb2WnspPvS2EkDaA86cAC6WhGCEfelARgvOnAAgCR0UqcSmCgCHIBCKsIv6yLUUK+Uam0UnUrgOQyhAiikIvyyLkIN9UqpVgATR4ADgMQw0xMAQ6gAkBhmegIgwAEAmqYb7sUDioAhVABA03AvHtAeBDgASNy+fc/t6lCt+8U9cUDnYQgVABI3axb3xAHdhg4cAABAYghwAAAAiWEIFQASM9ZMTwCdjw4cACSGmZwACHAAAACJIcABAAAkhnvgACBx7H4AdB86cACaio3W24/dD4DuQ4AD0FTljdZrfRAm0kMoB4qHAAcABZZHeBp5TUI5UDzcAwegKbjPqjXK4amWVqwHN/I1WXMOKB46cACaYqygAQBoHgIcAABAYghwAHLFDfKoZjx/Lvgzgm7EPXAAcpXHPV4ovnr+XJSP82cE3YgOHICm2r+/9Au11kendUvoIALIAx04AE110knVHy93SVKcqTraDNtu6CCWQ3ktzEAG2o8OHABUUdk5qxZO9u9vz6zb8jZZ7exojnzNWbOOPV6J8Aa0Hx04AE3Rrv04x7rORI+XFaWzlsc2WWzNBRQfAQ5AU7Trl/54bm6vdRwAUscQKgAAQGLowAHIVbuGXpGWev5clI/zZwTdiA4cgFxNmTL6jfhjHUdnGs+QPOEN3YgOHIDcFWXCQCNYYgNAHghwANCgeobwCG8AWoEABwBVjOfePEIagHYjwAFIynhubq91vN514CZyHABaiUkMAJIy0WBF8ALQCQhwADACG9QDKDqGUAFghJRnxQLoDnTgAOSu2Ru200ED0OnowAHIXbPvW6ODBqDTFS7A2f4LSW+V9IykH0haERFPVjlvl6QDkg5LOhQRvW0sEwCSMNasWxYaBtJUxCHUr0k6KyIWS3pI0h+Ncu7SiHg14Q0Aqit3I2t9EN6ANBUuwEXEVyPiUPbltyTNy7MeAACAoilcgBvhPZK+XONYSPqq7U22L691AduX2+6z3dff39+SIgEAANopl3vgbN8l6cVVDl0TEeuzc66RdEjSZ2tc5t9FxB7bL5L0Ndvfj4hvjDwpItZIWiNJvb293LoMYEzN2s0BAFollwAXEeePdtz2pZLeIukNEdX/Go2IPdl/H7d9u6RzJR0T4ABgvNjNAUDRFW4I1fabJf2hpLdFxGCNc463Pb38uaQ3Srq/fVUCKLJmrysHAEVTuAAn6ZOSpqs0LHqf7U9Jku1TbG/Mzpkj6V9tf0/StyVtiIg78ykXQNHQQQPQ6Qq3DlxEnF7j8UclXZB9/kNJr2pnXQCQIu7nAzpTETtwANA2nb7tFt1IoDMVrgMHAO3EtlsAUkQHDgAAIDEEOAAAgMQQ4AAAABJDgAMAAEgMAQ4AACAxBDgAAOrU6cvOIB0sIwKgq7HQLcaDZWdQFHTgAHQ1FroFkCICHAAAQGIIcAAAAIkhwAEAACSGAAcAAJAYAhwAAEBiWEYEAIA6sewMioIOHAAAdWLZGRQFAQ4AMCp2HwCKhyFUAMCo2H0AKB46cAAAAIkhwAEAACSGAAcAAJAYAhwAAEBiCHAAAACJIcABANqKZUmAiWMZEQDAqJq9+wDLkgATRwcOADAqdh8AiocABwB1YugPQFEQ4AA0pBvDTHnor9YHnSgA7cI9cAAawn1MAJAfOnAAAACJIcABAAAkhiFUAEBbNXtZEqAb0YEDALQVy5IAE0eAAwAASAxDqABQJ4b+ABQFAQ5AQ7oxzDD0B6AoGEIF0BDCDADkhwAHAACQGAIcAABAYghwAAAAiSHAAQAAJIYABwAAkBgCHAAAQGIIcAAAAIkhwAEAACSGAAcAAJAYAhwAAEBiCHAAAACJIcABAAAkhgAHAACQGAIcAABAYghwAAAAiSHAAQAAJIYABwAAkBgCHAAAQGIIcAAAAIkhwAEAACSGAAcAAJCYwgU42x+2vcf2fdnHBTXOe7PtB23vsH11u+sEAADIy+S8C6jh2oj4X7UO2p4k6TpJvy5pt6Tv2L4jIra3q0AAAIC8FK4DV6dzJe2IiB9GxDOSbpW0LOeaAAAA2qKoAe79trfYvsn2iVWOz5X0SMXXu7PHjmH7ctt9tvv6+/tbUSsAAEBb5RLgbN9l+/4qH8sk/Y2kl0t6taTHJP3lRF4rItZERG9E9M6ePXvixQMAAOQsl3vgIuL8es6z/WlJX6pyaI+kUyu+npc9BgAA0PEKN4Rq++SKLy+UdH+V074jaYHt02wfJ+kiSXe0oz4AAIC8FXEW6sdsv1pSSNol6QpJsn2KpBsi4oKIOGT7/ZK+ImmSpJsiYltO9QIAALTVmAHO9u9JujkinmhDPYqIS2o8/qikCyq+3ihpYztqAgAAKJJ6hlDnqLTO2uezxXPd6qIAAABQ25gBLiL+WNICSTdKulTSw7b/zPbLW1wbAAAAqqhrEkNEhKSfZB+HJJ0o6TbbH2thbQAAAKiinnvgrpL0O5J+KukGSf8tIoZtP0/Sw5L+sLUlAgAAoFI9s1BnSVoeET+qfDAinrX9ltaUBQAAgFrGDHAR8aFRjj3Q3HIAAAAwlsIt5AsAAIDREeAAAAASQ4ADAABIDAEOAAAgMQQ4AACAxBDgAAAAEkOAAwAASAwBDgAAIDEEOAAAgMQQ4AAAABJDgAMAAEgMAQ4AACAxBDgAAIDEEOAAAAASQ4ADAABIDAEOAAAgMQQ4AACAxBDgAAAAEkOAAwAASAwBDgAAIDEEOAAAgMQQ4AAAABJDgAMAAEgMAQ4AACAxBDgAAIDEEOAAAAASQ4ADAABIzOS8CwDQnQaGBmRZodCMnhl5lwMASaEDB6CtBocHte3xbVqxfoWWrFmiFetXaHv/dg0OD+ZdGgAkgw4c0OGK1una+cROnb3mbA0dHpIk7di/Qxse2qDNV2zWwtkLc64OANJABw7oUEXsdA0MDWjVPauOhLeyocNDWnn3Sg0MDeRUGQCkhQ4c0KGK2OmyrC17t1Q9tnXvVlluc0UAkCY6cEAHKmqnKxRaPGdx1WOL5ixSKNpcEQCkiQAHdKCidrpm9MzQ6qWr1TOp56jHeyb1aPXS1YW4Rw8AUkCAAzpQkTtd82fO1+YrNmv5Gcu1YNYCLT9juTZfsVnzZ87PrSYASI0jumfIore3N/r6+vIuA2iL7f3bteT6JUcNo/ZM6inMbM+izY4FgKKxvSkieqsdowMHdKiid7pm9MzQ9J7phDcAaACzUIEONW3KNC2cvVBrl62l0wUAHYYAB3Q4QhsAdB6GUAEAABJDgAMAAEgMAQ4AACAxBDgAAIDEEOAAAAASQ4ADAABIDAEOAAAgMawDhySxDRMAoJvRgUNSBocHte3xbVqxfoWWrFmiFetXaHv/dg0OD+ZdGgAAbUMHDknZ+cROnb3m7CMbtO/Yv0MbHtpQmA3aAQBoBzpwSMbA0IBW3bPqSHgrGzo8pJV3r9TA0EBOlQEA0F4EOCTDsrbs3VL12Na9W2W5zRUBAJAPAhySEQotnrO46rFFcxYpFG2u6DkDQwM6MHSALiAAoC0KF+Bs/4Pt+7KPXbbvq3HeLttbs/P62lwmcjCjZ4ZWL12tnkk9Rz3eM6lHq5euzmU2KpMqAAB5KNwkhoj4D+XPbf+lpKdGOX1pRPy09VWhKObPnK/NV2zWyrtXauverVo0Z5FWL12t+TPn51IPkyoAAHkoXIArs21J75D0+rxrQXFMmzJNC2cv1Npla3NfB26sSRVrl61ljToAQEsUbgi1wusk7Y2Ih2scD0lftb3J9uW1LmL7ctt9tvv6+/tbUijab0bPDE3vmZ5rQGJSBQAgL7kEONt32b6/yseyitMulnTLKJf5dxGxRNJvSLrS9nnVToqINRHRGxG9s2fPbuJ3gW5X5EkVAIDOlssQakScP9px25MlLZd09ijX2JP993Hbt0s6V9I3mlknMJrypIoND204ahg1z0kV7cR2ZgCQn6IOoZ4v6fsRsbvaQdvH255e/lzSGyXd38b6AEnPTapYfsZyLZi1QMvPWK7NV2zObVJFOzDzFgDy54jiDfPY/ltJ34qIT1U8doqkGyLiAtsvk3R7dmiypM9FxEfGum5vb2/09bHiCJqvm7pR2x7fdtTMW6nUdaycedtN7wcAtIrtTRHRW+1YIWehRsSlVR57VNIF2ec/lPSqNpcF1NQtIWWsmbc3vu1G7RnYo1X3rNKWvVu0eM7iI8u8TJsyLaeqAaDzFDLAASimsWbeRgTr4gFAGxT1HjgABTTWzNudT+48Et4s652L3qmN79qo6cdN1xM/f6KdpQJARyPAAajbWNuZ3bzlZkml8Hbz8pt11S9dpeu+c51e/3ev12VfvGxCkx3YbxYAnkOAAzAutWbezp0+Vz9+6seSpIsXXazTZ52u89aep3UPrNOO/Tu07oF1WnL9Eu16cte4Xq/ds14JigBSUMhZqK3CLFRgdOOZPVrt3O3927Xk+iXa+K6Nuu4712ndA+uOed7yM5aPa5uxema9NsPg8KB2PrGTCRgACmO0Wah04AA01OWqtp1ZuTu3YNaCpmwzNtas12Z2yXY+sVNnrzl7wh1DAGgHAhyApoWXaVOmaeHshTrhuBOass1Yu/abbWdQBIBmIMABXa4V4eXE55846mSHeodP27XfbLuCIgA0CwEO6HKtCi/N2GZsrFmvzVpAuV1BEQCahYV80VHYwmn8yuFlx/4dxxybSHgpD6euXbZ2Qj+TchBcefdKbd27VYvmLDoyuaBZykFxw0Mbjpks0cygCADNwixUdARmEE5MefZoq2d6TkSrw/ng8KB2PbmralDkzxCAPIw2C5UAh47QrqUmOhXh5Tl0cQEURXKb2QPjMdZN+ONZc6xbNWu4sxN06/cNIC0EOCSPGYTNQ3gBgDQwCxXJYwYhAKDbEOCQvHYtNdFu7MkJAKiFAIeO0Iw1x4qi3Zu3AwDSwyxUdJROmEHIjFoAgMRm9ugi1TZYT0kzt7ViCBYAOhcBDiiQZsyoLfoQLMESACaOZUSAAmnGtlY7n9h51BDsjv07tOGhDbkPwbJbBgA0Dx04oEAmOqO2mUOwzVYOluseWKcd+3do3QPrtOT6Jdr15K7cagKAVBHggIKZyIzaoi5qXORgCQApYggVKJiJbGvVjCHYVihqsASAVNGBAwqqkRm1RV3UmN0yAKC5CHBAhynKosaVs02LGiwBIFUs5At0qEYXNZ7oYsi1ZpueOuNUPTLwiFbevVJb927VojmLmIUKAKMYbSFfAhxQYO3cWaJZy3yMtZNEJ+yWAQDtwE4MQGLyWIy3Gct81DPbNPXdMgCgCAhwwAS1YmeBdq+Z1qxlPphtCgDtQYADGtSqLlkea6Y1K3gx2xQA2oMABzSoVV2yPLpYzQpeRZ5tyh6sADoJAQ5oQCu7ZOMJU80KJc0MXkVZxqQsj/sJAaDVmIUKNODA0AEtWbOk6o4HC2Yt0KbLN2l6z/SGr7+9f7uWXL+k5kzOVmwM/9TBp7TnwJ6mLfNRlNmmY82KBYCiGm0WKltpAQ1o9ZZV5S5WtTAlPTd8Ww4lO/bv0IaHNjQUSsph8EP3fEgvecFLdM3rrtFpM0+Tbc2cOrPh76EIs0zH6pSuXba2EHUCwHgR4IAGlIccNzy04ZjOTjPu9RptP9Rmh5KRYfDab117pEM1kQBXBMyKBdCpuAcOaFA77vWqtmZaM0NJHjNe24lZsQA6FR04oEGjdclaqZnDt53eoWp1pxQA8kIHDpigdu8s0MwZo93QoSrarFgAaAZmoQIJGhwe1K4ndzVlxuhYM147RVFmxQJAvdjMPkOAaz1+SbZXM97vZoZBAEDzsIwIWq4V65J1umaEr2aE5Lzu5QMANI4Ah6Zo5rpkUmd38loVdif6nuX1PnfyzxoAWoVJDJiwZi5F0Q3bHjV7D9VU37NU6waAIqADhwlr5lIUze7kFc1YYfeGt96gE59/4riumep7lmrdAFAEdOAwYc1aiqLTF5WVxg67Tz/z9Li6UKm+Z6nWDQBFQYDDhDVrXbJOX1RWGjvsPrz/4XENp473PRsYGtCBoQO5B6Ru+FkDQCsR4FCXsX7xN2Ox1G5YVHa0sHv1a6/WDZtvGFcXaqz37HAcllS8+8264WcNAK3EOnAY1XhnTE50RmE3LCpbbd21q197tR7a95Auuf0ShUILZi3Qpss3aXrP9DGvV+s9++aKb+rk6Sdr3ox52vb4tqPuNyufk+f72g0/awCYCBbyzRDgxq/dv/jzXFS2HctZlF9j0vMmaejQkJ5+5mk9vP9h3bD5Bt16/61HOk/Lz1iutcvWjlnH4PCgBoYG9OiBR/WRb37kyHv2oV/9kLbu3arbv3+7Pv3WT+uyL16mdQ+sO+b59b5OK7CAMACMjoV80ZCxbjRvxS/+PBaVbccixNVe4xNv/oQOPHNAF3z2goY3Wt/5xE71runVhWdcqCvPuVIvecFL9MhTj+j4Kcdr48MbtWXvFk3ypELeb8YCwgDQOAIcasrzRvN2/iJvx3IW1V5j40MbtesPdmnzFZurdqHGUg7YBw8f1C3336Jb7r/lyLHlZyzXledcqYOHD+pwHNbiOYu1Y/+OY67RyvvN6u1oEtoAYPwIcKipfKN5u3/xt1M7uoy1XuPg4YO6cuOV+rsL/66hLtTIgG1ZFy+6WO/9xffqtJmn6fjjjtcn3vwJnfj8E7V66WpteGhDw52+8WBbNQBoPWahoqZmLQ9SZO3oMo72Glv2btHhZw9rRs8MTe+ZPq73tHImp2XdvPxmXfVLV+m671ynN978Rr1vw/s0MDSgweHBpswSrlezd5oAAByLDhxGVf7F38gQXwra0WVs1WuUA/aGhzbotxb+lk6fdbrOW3tezaHgdtxvlsd9kwDQjZiFirp08obj7VjOolWvUZ7JefDQQX3kmx/JfabpgaEDWrJmSdWwOp6lUYqkk//sAyi20WahMoSKujQyxJeKdgwvtuo1yjM5X37iywsx07STFugt2uLHAFCJDhyQaec6cM1+jYGhAa1YvyL3DpyU7wK9zXx/i7j4MYDuQgcOqEM7uoyteo0iTThp54SJsmZ3y8a6ly/vvWQBILdJDLbfLunDks6QdG5E9FUc+yNJ75V0WNLvR8RXqjz/NEm3SjpJ0iZJl0TEM20oHSikokw4yWOB3mav5ZfnGogAUI88Z6HeL2m5pOsrH7S9UNJFks6UdIqku2y/IiLblfs5fy7p2oi41fanVAp8f9P6soFiKtrOBu167VbMfO2GNRABpC23IdSIeCAiHqxyaJmkWyNiKCJ2Stoh6dzKE2xb0usl3ZY99BlJ/76F5QLJ6OQJJ9W0oltWpCFpAKimiPfAzZX0SMXXu7PHKp0k6cmIODTKOZIk25fb7rPd19/f3/RiAeSrVTNf87iXDwDq1dIhVNt3SXpxlUPXRMT6Vr52WUSskbRGKs1CbcdrAmifygWNm7lVWNGGpAGgUksDXESc38DT9kg6teLredljlfZJmml7ctaFq3YOgIJq9nIqrZzAQWgDUERF3ErrDkmfs/1xlSYxLJD07coTIiJs3y3pt1WaifpuSW3p6AFoXKs2uqdbBqDb5LmMyIWS/lrSbEkbbN8XEW+KiG22Py9pu6RDkq4sz0C1vVHSZRHxqKT/LulW238q6buSbszlGwFQt2Yv9zESoQ1At2AnBgBtUaTdIgAgBezEACB3LI4LAM1DgAPQFp200T0A5I0AB6AtWBwXAJqHAAegbVgcFwCao4jLiADj1ux1xdAah549pFNnnKob3nqDpk6equFnh/l5AUAD6MAhaYPDg9r2+DatWL9CS9Ys0Yr1K7S9f7sGhwfzLg0VRv6cLvviZdr55E5Nfh7/hgSARrCMCJK27fFtR60rJpXuqWrWumJoDn5OADB+LCOCjjQwNKBV96w6KhRI0tDhIa28e6UGhgZyqenA0IFcXruoivhzAoDUEeCQrCKtK8ZQbm1F+jkBQKfgBhQkq7yu2I79O4451u51xVq9RVSRjTWBpEg/JwDoFHTgkKyirCvWrUOE9XYdi/JzAoBOQoBD0oqwrli3DhGWu47rHlinHft3aN0D67Tk+iXa9eSuY84tws8JADoJQ6hI2rQp07Rw9kKtXbY2t3XgunGIcKyu48iN6YvwcwKATkIHDh1hRs8MTe+Znkso6MYhwka7jnn+nACgkxDggCboxCHC0ZZEYWN6AMgXC/kCTdQJW3oNDg9q5xM7teqeVdqyd4sWz1ms1UtXa/7M+Zo2ZdqR87b3b9eS65ewOC8AtMhoC/lyDxzQRM0ObXkEwnqXRCl3HVfevVJb927VojmLjgQ9AEBrEeCAAqq3C9Zs45mcwMQEAMgPAQ4ooLwWBm5kcsJ4QlsnDDEDQBEwiQEomDwXBm7V5AS2GgOA5iLAAQWT58LArVoSZTyL/gIAxkaAAwom7yU6mr0kSrduNQYArcQ9cEDBlLtgGx7acMwSHe1YGLjZkxO6dasxAGglOnBAAY23CzbaoruNatauCXl3FAGgE7GQL1BgY83azGu5kfFi0V8AGD8W8gUSUw5ukjS9Z3rN8/JabmS8WPQXAJqLAAcUyHg6auNZdDdvLPoLAM1FgAMKZDwdtRQnBxDaAKA5mMQAFMR4l9tgcgAAdC8CHFAQ4+2otWrRXQBA8RHggIJopKPW7EV3AQBpYBkRoEAaXW6DTeIBoPOMtowIHTigQBrtqDVr0V0AQBqYhQoUCMttAADqQYADCojQBgAYDUOoAAAAiSHAAQAAJIYABwAAkBgCHAAAQGKYxACgIaw9BwD5oQMHYFwGhwe17fFtWrF+hZasWaIV61doe/92DQ4P5l0aAHQNOnAAxmXnEzt19pqzj+wWsWP/Dm14aMOYu0UAAJqHDhyAug0MDWjVPauO2upLkoYOD2nl3Ss1MDSQU2UA0F0IcADqZllb9m6pemzr3q2y3OaKAKA7EeAA1C0UWjxncdVji+YsUijaXBEAdCcCHIC6zeiZodVLV6tnUs9Rj/dM6tHqpaubMht1YGhAB4YOMBwLAKMgwAEYl/kz52vzFZu1/IzlWjBrgZafsVybr9is+TPnT+i6zG4FgPo5onuGPHp7e6Ovry/vMoCO0Ox14LY9vu2o2a1SqbPH7FYA3cr2pojorXaMDhyAhszomaHpPdObNmzK7FYAqB8BDkDumN0KAONDgAOQO2a3AsD4EOAA5K4ds1sBoJMQ4AAUQqtmtwJAJ2IvVACFMG3KNC2cvVBrl61t6uxWAOhEBDgAhUJoA4CxEeAAdI1mr10HAHnhHjgAHY9dHgB0GjpwADrezid2HrXLw479O7ThoQ3s8gAgWXTgAHQ0dnkA0IlyCXC23257m+1nbfdWPP7rtjfZ3pr99/U1nv9h23ts35d9XNC+6gGkhF0eAHSivDpw90taLukbIx7/qaS3RsQiSe+W9PejXOPaiHh19rGxRXUCSBy7PADoRLkEuIh4ICIerPL4dyPi0ezLbZKeb7tn5HkAUC92eQDQiYp8D9xvSdocEUM1jr/f9hbbN9k+sdZFbF9uu892X39/f2sqBVBo7PIAoNM4ojXDB7bvkvTiKoeuiYj12Tn3SPqvEdE34rlnSrpD0hsj4gdVrj1HpeHWkLRa0skR8Z6xaurt7Y2+vr6xTgPQoVgHDkBKbG+KiN5qx1q2jEhEnN/I82zPk3S7pN+pFt6ya++tOP/Tkr7UUJEAugqhDUCnKNQQqu2ZkjZIujoi/u8o551c8eWFKk2KAAAA6Ap5LSNyoe3dkl4jaYPtr2SH3i/pdEmrKpYIeVH2nBsqlhz5WLbUyBZJSyX953Z/DwAAAHlp2T1wRcQ9cAAAIBWj3QNXqCFUAAAAjI0ABwAAkBgCHAAAQGIIcAAAAIkhwAEAACSGAAcAAJAYAhwAAEBiCHAAAACJIcABAAAkhgAHAACQGAIcAABAYghwAAAAiSHAAQAAJIYABwAAkBgCHAAAQGIIcAAAAIkhwAEAACSGAAcAAJAYAhwAAEBiCHAAAACJIcABAAAkhgAHAACQGAIcAABAYghwAAAAiSHAAQAAJIYABwAAkBgCHAAAQGIIcAAAAIkhwAEAACSGAAcAAJAYAhwAAEBiCHAAAACJIcABAAAkhgAHAACQGAIcAABAYghwAAAAiSHAAQAAJIYABwAAkBgCHAAAQGIIcAAAAIkhwAEAACSGAAcAAJAYAhwAAEBiCHAAAACJIcABAAAkhgAHAACQGAIcAABAYghwAAAAiSHAAQAAJIYABwAAkBgCHAAAQGIIcAAAAIkhwAEAACSGAAcAAJAYAhwAAEBiCHAAAACJIcABAAAkhgAHAACQmFwCnO23295m+1nbvRWPz7f9c9v3ZR+fqvH8Wba/Zvvh7L8ntq96AACAfOXVgbtf0nJJ36hy7AcR8ers43drPP9qSf8cEQsk/XP2NQAAQFfIJcBFxAMR8eAELrFM0meyzz8j6d9PuCgAAIBEFPEeuNNsf9f2v9h+XY1z5kTEY9nnP5E0p9bFbF9uu892X39/f9OLBQAAaLfJrbqw7bskvbjKoWsiYn2Npz0m6SURsc/22ZK+YPvMiBio9ToREbZjlONrJK2RpN7e3prnAQAApKJlAS4izm/gOUOShrLPN9n+gaRXSOobcepe2ydHxGO2T5b0+IQLBgAASEShhlBtz7Y9Kfv8ZZIWSPphlVPvkPTu7PN3S6rV0QMAAOg4eS0jcqHt3ZJeI2mD7a9kh86TtMX2fZJuk/S7EbE/e84NFUuOfFTSr9t+WNL52dcAAABdwRHdc1tYb29v9PWNHI0FAAAoHtubIqK32rFCDaECAABgbAQ4AACAxHTVEKrtfkk/auNLvlDST9v4eqnifaoP71P9eK/qw/tUH96n+vA+1a/e9+qlETG72oGuCnDtZruv1tg1nsP7VB/ep/rxXtWH96k+vE/14X2qXzPeK4ZQAQAAEkOAAwAASAwBrrXW5F1AInif6sP7VD/eq/rwPtWH96k+vE/1m/B7xT1wAAAAiaEDBwAAkBgCHAAAQGIIcG1g+/dsf9/2Ntsfy7ueIrP9Adth+4V511JEtv8i+7O0xfbttmfmXVOR2H6z7Qdt77B9dd71FJHtU23fbXt79nfSVXnXVGS2J9n+ru0v5V1Lkdmeafu27O+nB2y/Ju+aisj2f87+v7vf9i22pzZ6LQJci9leKmmZpFdFxJmS/lfOJRWW7VMlvVHSj/OupcC+JumsiFgs6SFJf5RzPYVhe5Kk6yT9hqSFki62vTDfqgrpkKQPRMRCSb8s6Urep1FdJemBvItIwCck3RkRvyDpVeI9O4btuZJ+X1JvRJwlaZKkixq9HgGu9d4n6aMRMSRJEfF4zvUU2bWS/lASM2tqiIivRsSh7MtvSZqXZz0Fc66kHRHxw4h4RtKtKv3jCRUi4rGI2Jx9fkClX7Rz862qmGzPk/Sbkm7Iu5Yis/0CSedJulGSIuKZiHgy16KKa7Kk59ueLGmapEcbvRABrvVeIel1tu+1/S+2z8m7oCKyvUzSnoj4Xt61JOQ9kr6cdxEFMlfSIxVf7xbBZFS250v6RUn35lxKUf2VSv+ofDbnOoruNEn9ktZmw8032D4+76KKJiL2qDQK92NJj0l6KiK+2uj1JjersG5m+y5JL65y6BqV3uNZKg1VnCPp87ZfFl24fssY79MHVRo+7XqjvU8RsT475xqVhsI+287a0DlsnyDpnyT9QUQM5F1P0dh+i6THI2KT7V/LuZyimyxpiaTfi4h7bX9C0tWSVuZbVrHYPlGlUYHTJD0p6R9t/8eIuLmR6xHgmiAizq91zPb7JK3LAtu3bT+r0ia2/e2qryhqvU+2F6n0B/p7tqXSsOBm2+dGxE/aWGIhjPbnSZJsXyrpLZLe0I3/EBjFHkmnVnw9L3sMI9ieolJ4+2xErMu7noJ6raS32b5A0lRJM2zfHBH/Mee6imi3pN0RUe7k3qZSgMPRzpe0MyL6Jcn2Okm/IqmhAMcQaut9QdJSSbL9CknHSfppngUVTURsjYgXRcT8iJiv0l8GS7oxvI3F9ptVGtJ5W0QM5l1PwXxH0gLbp9k+TqWbg+/IuabCcelfSTdKeiAiPp53PUUVEX8UEfOyv5MukvR1wlt12d/Vj9h+ZfbQGyRtz7GkovqxpF+2PS37//ANmsBkDzpwrXeTpJts3y/pGUnvpmuCCfikpB5JX8u6ld+KiN/Nt6RiiIhDtt8v6Ssqze66KSK25VxWEb1W0iWSttq+L3vsgxGxMb+S0AF+T9Jns388/VDSipzrKZxsePk2SZtVugXmu5rAllpspQUAAJAYhlABAAASQ4ADAABIDAEOAAAgMQQ4AACAxBDgAAAAEkOAAwAASAwBDgAAIDEEOABogO1zbG+xPdX28ba32T4r77oAdAcW8gWABtn+U5X2yXy+SntB/s+cSwLQJQhwANCgbNug70g6KOlXIuJwziUB6BIMoQJA406SdIKk6Sp14gCgLejAAUCDbN8h6VZJp0k6OSLen3NJALrE5LwLAIAU2f4dScMR8TnbkyT9m+3XR8TX864NQOejAwcAAJAY7oEDAABIDAEOAAAgMQQ4AACAxBDgAAAAEkOAAwAASAwBDgAAIDEEOAAAgMT8f++smttzAG8BAAAAAElFTkSuQmCC",
=======
      "image/png": "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\n",
>>>>>>> a5078ce2aba24ee9abf82133cda112430b4215ce
      "text/plain": [
       "<Figure size 720x720 with 1 Axes>"
      ]
     },
     "metadata": {
      "needs_background": "light"
     },
     "output_type": "display_data"
    }
   ],
   "source": [
    "# plot of our two data randomly generated data sets.  \n",
    "# We note that we can see that the data set is indeed linearly separateable.\n",
    "\n",
    "plot_df(clusters_df)"
   ]
  },
  {
   "cell_type": "markdown",
   "metadata": {},
   "source": [
    "Next, we wrote our perceptron function.\n",
    "The function trains a theta over each data point and each epoch.\n",
    "Theta begins as a zero array of dimensions [feature_count+1, 0]. \n",
    "For each data point, the data point is processed by concatenation with a weight term, so the data point in the algorithm will be of dimensions [feature_count+1, 0].\n",
    "A prediction is generated by taking the dot product of theta and the processed data point and comparing the result to a threashold value.\n",
    "For binary classification, the prediction is True if the value of the dot product is above the threashold and false if it is less than or equal to the threashold.\n",
    "If the prediction does not agree with the label, theta is updated by multiplying the learning rate, the processed data point, and the delta between the label and prediction.\n",
    "We kept track of the number of misclassified points in each epoch for observation.\n",
    "The learning rate represents how much of a change is made from one iteration i.e. epoch to another as the line position and slope is adjusted.  Depending on how large of a learning rate and on how many epochs the algorithm convergence will vary as will the accuracy of the position of the line to separate the two data clusters.  There may be times where the line may shift to cause prediction errors or might not have enough iterations to fully adjust to an optimal position.  This tuning is critical for a perceptron to have a good balance of learning rate and epochs."
   ]
  },
  {
   "cell_type": "code",
<<<<<<< HEAD
   "execution_count": 44,
=======
   "execution_count": 6,
>>>>>>> a5078ce2aba24ee9abf82133cda112430b4215ce
   "metadata": {},
   "outputs": [],
   "source": [
    "def perceptron(data, epochs=10, learning_rate=0.1):\n",
    "    \n",
    "    \"\"\"\n",
    "        perceptron training algorithm.\n",
    "        calls activation_function() for neuron activation.\n",
    "\n",
    "        Parameters:\n",
    "            data (DataFrame): data to train the perceptron on. Needs to be in the format [feature, feature, label]\n",
    "            epochs (int, optional, default=10): number of training cycles\n",
    "            learning_rate (float, optional, default=0.1): determines the magnitude of the offset applied to theta on a failed prediction\n",
    "\n",
    "        Returns:\n",
    "            (list): trained theta. give to predict() along with a point to make a prediction.\n",
    "    \"\"\"\n",
    "\n",
    "    # separate dataframe in to components\n",
    "    labels = data.iloc[:,-1]\n",
    "    samples = data.iloc[:,:-1]\n",
    "\n",
    "    # get some important dimensions\n",
    "    sample_count = samples.shape[0]\n",
    "    feature_count  = samples.shape[1]\n",
    "\n",
    "    # initialize theta\n",
    "    theta = np.zeros((feature_count + 1, 1))\n",
    "\n",
    "    # initialize list for keeping track of misclassified points\n",
    "    misclassified_counts = [0 for _ in range(epochs)]\n",
    "\n",
    "    # set training values\n",
    "    threashold = 0.0\n",
    "    active = 1.0\n",
    "    inactive = 0.0\n",
    "\n",
    "    # repeat training on entire data set epochs number of times\n",
    "    for e in range(epochs):\n",
    "\n",
    "        # repeat training for each point in data set\n",
    "        for i, sample_i in enumerate(samples.iterrows()):\n",
    "\n",
    "            # process the sample from the data set\n",
    "            sample_i = np.array([sample_i[1][0], sample_i[1][1]])\n",
    "            sample_i = np.insert(sample_i, 0, 1).reshape(-1, 1)\n",
    "\n",
    "            # get the dot product for prediction\n",
    "            dot = np.squeeze(np.dot(sample_i.T, theta))\n",
    "\n",
    "            # make prediction\n",
    "            prediction = inactive\n",
    "            if dot > threashold: prediction = active\n",
    "\n",
    "            # train if the prediction does not agree with the label\n",
    "            if prediction - labels[i] == 0: continue \n",
    "            theta += learning_rate * sample_i * (labels[i] - prediction)\n",
    "            \n",
    "            # keep track of incorrect predictions for each epoch\n",
    "            misclassified_counts[e] += 1\n",
    "            \n",
    "    # return\n",
    "    return theta, misclassified_counts"
   ]
  },
  {
   "cell_type": "code",
<<<<<<< HEAD
   "execution_count": 45,
=======
   "execution_count": 7,
>>>>>>> a5078ce2aba24ee9abf82133cda112430b4215ce
   "metadata": {},
   "outputs": [],
   "source": [
    "# run perceptron on data set\n",
    "\n",
    "theta, counts = perceptron(clusters_df)"
   ]
  },
  {
   "cell_type": "code",
<<<<<<< HEAD
   "execution_count": 46,
=======
   "execution_count": 8,
>>>>>>> a5078ce2aba24ee9abf82133cda112430b4215ce
   "metadata": {},
   "outputs": [
    {
     "data": {
      "text/html": [
       "<div>\n",
       "<style scoped>\n",
       "    .dataframe tbody tr th:only-of-type {\n",
       "        vertical-align: middle;\n",
       "    }\n",
       "\n",
       "    .dataframe tbody tr th {\n",
       "        vertical-align: top;\n",
       "    }\n",
       "\n",
       "    .dataframe thead th {\n",
       "        text-align: right;\n",
       "    }\n",
       "</style>\n",
       "<table border=\"1\" class=\"dataframe\">\n",
       "  <thead>\n",
       "    <tr style=\"text-align: right;\">\n",
       "      <th></th>\n",
       "      <th>final_theta</th>\n",
       "    </tr>\n",
       "  </thead>\n",
       "  <tbody>\n",
       "    <tr>\n",
       "      <th>0</th>\n",
<<<<<<< HEAD
       "      <td>0.400000</td>\n",
       "    </tr>\n",
       "    <tr>\n",
       "      <th>1</th>\n",
       "      <td>0.152152</td>\n",
       "    </tr>\n",
       "    <tr>\n",
       "      <th>2</th>\n",
       "      <td>0.065467</td>\n",
=======
       "      <td>0.100000</td>\n",
       "    </tr>\n",
       "    <tr>\n",
       "      <th>1</th>\n",
       "      <td>0.348983</td>\n",
       "    </tr>\n",
       "    <tr>\n",
       "      <th>2</th>\n",
       "      <td>-1.404506</td>\n",
>>>>>>> a5078ce2aba24ee9abf82133cda112430b4215ce
       "    </tr>\n",
       "  </tbody>\n",
       "</table>\n",
       "</div>"
      ],
      "text/plain": [
       "   final_theta\n",
<<<<<<< HEAD
       "0     0.400000\n",
       "1     0.152152\n",
       "2     0.065467"
      ]
     },
     "execution_count": 46,
=======
       "0     0.100000\n",
       "1     0.348983\n",
       "2    -1.404506"
      ]
     },
     "execution_count": 8,
>>>>>>> a5078ce2aba24ee9abf82133cda112430b4215ce
     "metadata": {},
     "output_type": "execute_result"
    }
   ],
   "source": [
    "# observe theta vector\n",
    "\n",
    "_theta_df = pd.DataFrame(theta, columns=['final_theta'])\n",
    "_theta_df"
   ]
  },
  {
   "cell_type": "code",
<<<<<<< HEAD
   "execution_count": 47,
=======
   "execution_count": 9,
>>>>>>> a5078ce2aba24ee9abf82133cda112430b4215ce
   "metadata": {},
   "outputs": [
    {
     "data": {
      "text/html": [
       "<div>\n",
       "<style scoped>\n",
       "    .dataframe tbody tr th:only-of-type {\n",
       "        vertical-align: middle;\n",
       "    }\n",
       "\n",
       "    .dataframe tbody tr th {\n",
       "        vertical-align: top;\n",
       "    }\n",
       "\n",
       "    .dataframe thead th {\n",
       "        text-align: right;\n",
       "    }\n",
       "</style>\n",
       "<table border=\"1\" class=\"dataframe\">\n",
       "  <thead>\n",
       "    <tr style=\"text-align: right;\">\n",
       "      <th></th>\n",
       "      <th>epoch</th>\n",
       "      <th>misclassifications</th>\n",
       "    </tr>\n",
       "  </thead>\n",
       "  <tbody>\n",
       "    <tr>\n",
       "      <th>0</th>\n",
       "      <td>0</td>\n",
       "      <td>6</td>\n",
       "    </tr>\n",
       "    <tr>\n",
       "      <th>1</th>\n",
       "      <td>1</td>\n",
       "      <td>0</td>\n",
       "    </tr>\n",
       "    <tr>\n",
       "      <th>2</th>\n",
       "      <td>2</td>\n",
       "      <td>0</td>\n",
       "    </tr>\n",
       "    <tr>\n",
       "      <th>3</th>\n",
       "      <td>3</td>\n",
       "      <td>0</td>\n",
       "    </tr>\n",
       "    <tr>\n",
       "      <th>4</th>\n",
       "      <td>4</td>\n",
       "      <td>0</td>\n",
       "    </tr>\n",
       "    <tr>\n",
       "      <th>5</th>\n",
       "      <td>5</td>\n",
       "      <td>0</td>\n",
       "    </tr>\n",
       "    <tr>\n",
       "      <th>6</th>\n",
       "      <td>6</td>\n",
       "      <td>0</td>\n",
       "    </tr>\n",
       "    <tr>\n",
       "      <th>7</th>\n",
       "      <td>7</td>\n",
       "      <td>0</td>\n",
       "    </tr>\n",
       "    <tr>\n",
       "      <th>8</th>\n",
       "      <td>8</td>\n",
       "      <td>0</td>\n",
       "    </tr>\n",
       "    <tr>\n",
       "      <th>9</th>\n",
       "      <td>9</td>\n",
       "      <td>0</td>\n",
       "    </tr>\n",
       "  </tbody>\n",
       "</table>\n",
       "</div>"
      ],
      "text/plain": [
       "   epoch  misclassifications\n",
<<<<<<< HEAD
       "0      0                   6\n",
=======
       "0      0                   3\n",
>>>>>>> a5078ce2aba24ee9abf82133cda112430b4215ce
       "1      1                   0\n",
       "2      2                   0\n",
       "3      3                   0\n",
       "4      4                   0\n",
       "5      5                   0\n",
       "6      6                   0\n",
       "7      7                   0\n",
       "8      8                   0\n",
       "9      9                   0"
      ]
     },
<<<<<<< HEAD
     "execution_count": 47,
=======
     "execution_count": 9,
>>>>>>> a5078ce2aba24ee9abf82133cda112430b4215ce
     "metadata": {},
     "output_type": "execute_result"
    }
   ],
   "source": [
    "# observe misclassified points per epoch \n",
    "# and observe how quickly the algorithm converges to zero or minimal misclassifications.\n",
    "\n",
    "_misclassifications_df = pd.DataFrame().from_dict({'epoch':[x for x in range(len(counts))], 'misclassifications': counts})\n",
    "_misclassifications_df\n"
   ]
  },
  {
   "cell_type": "markdown",
   "metadata": {},
   "source": [
    "Finally, we plot the decision boundary.\n",
    "The decision boundary is a line whose slope is given by -theta[1]/theta[2] and whose intercept is given by -theta[0]/theta[2]. \n"
   ]
  },
  {
   "cell_type": "code",
<<<<<<< HEAD
   "execution_count": 48,
=======
   "execution_count": 10,
>>>>>>> a5078ce2aba24ee9abf82133cda112430b4215ce
   "metadata": {},
   "outputs": [],
   "source": [
    "def plot_decision_boundary(data, theta, padding=0.2):\n",
    "    \n",
    "    \"\"\"\n",
    "        scatterplot of data with decision boundary\n",
    "\n",
    "        Parameters:\n",
    "            data (DataFrame): dataset perceptron was trained on.\n",
    "                needs to be in the form [feature, feature, label]\n",
    "            theta (list): resultant theta from perceptron training\n",
    "            padding (float, optional, default=0.2): percent of the range of the data to padd each axis.\n",
    "        Returns:\n",
    "            (None): just draws the plot\n",
    "    \"\"\"\n",
    "\n",
    "    # dont run on divide by 0\n",
    "    if theta[2] == 0: return\n",
    "\n",
    "    # plot the original data\n",
    "    plot_df(data, padding)\n",
    "\n",
    "    # get line bounds for feature 1 and adjust for padding\n",
    "    data_range = {\n",
    "        'max': data.iloc[:,0].max(),\n",
    "        'min': data.iloc[:,0].min()\n",
    "    }\n",
    "    feature_1_range = pad_range(padding, data_range)\n",
    "    \n",
    "    # get slope and intercept of line\n",
    "    slope = -theta[1]/theta[2]\n",
    "    intercept = -theta[0]/theta[2]\n",
    "\n",
    "    # calculate line bounds for feature 2 based on above\n",
    "    feature_2_range = slope * feature_1_range + intercept\n",
    "\n",
    "    # plot decision boundary\n",
    "    plt.plot(\n",
    "        feature_1_range,\n",
    "        feature_2_range,\n",
    "        linewidth=2,\n",
    "        color='red',\n",
    "        label='decision boundary'\n",
    "    )\n",
    "    plt.legend()"
   ]
  },
  {
   "cell_type": "code",
<<<<<<< HEAD
   "execution_count": 49,
=======
   "execution_count": 11,
>>>>>>> a5078ce2aba24ee9abf82133cda112430b4215ce
   "metadata": {},
   "outputs": [
    {
     "data": {
<<<<<<< HEAD
      "image/png": "iVBORw0KGgoAAAANSUhEUgAAAnAAAAJcCAYAAAB5fZnuAAAAOXRFWHRTb2Z0d2FyZQBNYXRwbG90bGliIHZlcnNpb24zLjUuMSwgaHR0cHM6Ly9tYXRwbG90bGliLm9yZy/YYfK9AAAACXBIWXMAAAsTAAALEwEAmpwYAABdf0lEQVR4nO3deXxU1f3G8c+XAGEHQaQKKiigIIsCbrVaUetWl5+07tWKa1XCjgICoqAgsuNScUGtW6tFcataFbe6AioIKEVBES1EtoCBEJLz++MOEDB7ZubcO/O8X6+8uOROZp5MEB7Pveccc84hIiIiItFRzXcAEREREakYFTgRERGRiFGBExEREYkYFTgRERGRiFGBExEREYkYFTgRERGRiFGBE5FQMzNnZq195yiLmV1mZu/F4XmGmtkDVfj6hWZ2fFVziEi4qcCJSMozs4fNbLTvHOXhnLvdOXdleR5b3PflnDvEOfdWQsLt+trnmdn7ZpZrZqW+npl1N7MFZrbezNaY2bNm1rzI+XFmtsLMcszsWzMbmuj8IlGnAicicWVm1X1niLdU/J7iYC0wGRhbjscuAk5xzjUC9gH+C9xb5PyDwMHOuQbAr4GLzaxHXNOKpBgVOJE0YmaDzexrM9toZovM7JzY5zNjoyMdijy2qZltNrO9Yr8/w8w+iz3ufTPrVOSxy83sRjObD/xsZtVLeq0ScmXELh1uf/xcM9u3mMe9ZWZXFvn9jsuWFphkZqtjIzkLzKyDmV0NXAzcYGabzOyF2OP3MbN/mlm2mS0zs95FnnekmT1jZo+ZWQ5wWTFZmpjZ87HX+hg4cLfzB5vZv81srZl9ZWbnxT5/pJn9z8wyijz2nNh7t/21Hyty7unY4zeY2Ttmdkjs8yV9X8vN7KQiP9fJZvZD7GOymWXGzh1vZt+b2YDYe/ajmfUs6We0O+fc6865fwA/lOOxq5xzRR9XALQucv4r59zPRc4XFj0vIr+kAieSXr4GjgUaArcAj5nZ3s65PGAmcGGRx54HvO2cW21mhwEPAdcATYD7gOe3l4GYC4HfA42cc9tKeq0ScvWPff3pQAPgciC3gt/bycBxQNvYa54HrHHOTQceB8Y55+o55840s2rAC8DnQHPgRKCvmZ1S5PnOBp4BGsW+fnd3A1uAvWN5L99+wszqAv8GngD2Ai4A7jGz9s65j4CfgROKPNdFsccW519Am9jzzNuepbjvq5ivvQk4CjgU6AwcAQwrcv5XsfeqOXAFcLeZ7RH7Hi7aXirjwcz2M7P1wGZgIDBut/ODzWwT8D1Ql5LfDxFBBU4krTjnnnbO/eCcK3TO/Z3gUtYRsdNPEBSN7YqWiquB+5xzHznnCpxzjwB5BOVgu6nOuRXOuc3leK3dXQkMi43EOOfc5865NRX89vKB+sDBgDnnFjvnfizhsYcDTZ1ztzrntjrnvgHu3+37/8A591ws/+aiXxwbPfsDMMI597Nz7gvgkSIPOQNY7pyb4Zzb5pz7FPgncG7s/JPEyrKZ1Scork8WF9Q595BzbmOsZI8EOptZw/K9JVwM3OqcW+2cyyYo0pcUOZ8fO5/vnHsZ2AQcFHvdJ5xznX7xjJXknPsudgl1T4IS+eVu58cS/Py6AH8DNsTrtUVSkQqcSBoxs0uLXAZdD3Qg+AcVYDZQJ3aJryXBqM2zsXP7AwO2f13sa/cluJ9puxUVeK3d7UswYldpzrk3gbsIRsZWm9l0M2tQwsP3B/bZ7fsZCjQr8pgVxX5loClQfbfHfLvb8x+52/NfTDDiBUEx7hEbwewBzHPOFf16YMel5bGxS8s5wPLYqZLex93ts1uub9n1Z7YmNlq6XS5Qr5zPXSnOubUEZXeW7XZvYay8f0owSndLInOIRJ0KnEiaMLP9CUaZegFNYqMhXwAG4JwrAP5BMDJ0IfCic25j7MtXALc55xoV+ajjnCs6auTK+1rFWMFu95CV4GegTpHf/6roSefcVOdcV6A9waXUQbtnK/J6y3b7fuo7504v7vspRjawjaB4brffbs//9m7PX885d20s5yKCMnUapV8+vYjgUu5JBJc6W8Y+v/19LC0jBPen7b9bxjLvWUuC6gSXhEsq2NUp358HkbSlAieSPuoS/IOfDRC7Yb3Dbo95AjifYLSoaKm4H/hLbHTOzKyumf0+dvmvsq9V1APAKDNrE3v+TmbWpJjHfUYwclXHgrXhrth+wswOj+WrQVD0thDcDA+wCjigyPN8DGy0YOJF7dhIVwczO7yUjDvEyu5MYGQsS3vgz0Ue8iLQ1swuMbMasY/Dzaxdkcc8AfQhuG/v6RJeqj7Bpeo1BMX19t3O7/597e5JYJgFE1L2BEYAj5Xy+HKLvWe1CMpWNTOrFXvvi3tsDzM7yMyqmVlTYCLwqXNubexz15jZHrGf/RHA9cAb8cgpkqpU4ETSRGzUZwLwAcE//B2B/+z2mO032O9DcPP89s/PAa4iuES5DlhKMTMzK/Jau5lIMPr3GpBDsKxE7WIeNwnYGnvOR9h1ckEDgqK5jmB0aw1wZ+zcg0D72OXM52IF7AyCy8TLgJ8ISmR57y2DYHSxHvA/4GFgxvYTsZHLkwnuqfsh9pg7gKKTPp4Efgu86Zz7qYTXeDT2vawkWIrjw93O7/J9FfP1o4E5wHxgAcEkiHKth2dmF5vZwlIecgnBpc57CSarbCZ4/7d//SYzOzb22+bAK8DGWI5CoOis5HMILqFvJCiY02IfIlICc66sEXgRERERCRONwImIiIhEjAqciIiISMSowImIiIhEjAqciIiISMSk1QbNe+65p2vZsqXvGNHw5Zfw88/QrBm0aOE7jYiISNqZO3fuT865psWdS6sC17JlS+bMmeM7RjTMmQNHHAFr1sBbb8HBB/tOJCIiklbM7Bc7tGynS6hSvG7d4IorYNs26NMHtNyMiIhIaKjAScluvx0aNYLXXoNZs3ynERERkRgVOClZ06Zw663Bcb9+sHmz3zwiIiICpNk9cFIJ114L998PCxbAnXfCiBG+E4mIpKT8/Hy+//57tmzZ4juKJFmtWrVo0aIFNWoUu51wsdJqK61u3bo5TWKohLffhuOPh1q1YPFi0ExeEZG4W7ZsGfXr16dJkyaYme84kiTOOdasWcPGjRtp1arVLufMbK5zrltxX6dLqFK23/4WLrgAtmyBAQN8pxERSUlbtmxReUtDZkaTJk0qPPKqAiflc+edUKcOzJwJr7/uO42ISEpSeUtPlfm5q8BJ+bRoAcOGBce9e0N+vt88IiIiaUwFTsqvf39o3Tq4D27aNN9pREQkAV555RUOOuggWrduzdixY33HkRKowEn5ZWbC5MnB8ciR8L//+UwjIpL2cvJy2Ji3kZy8nLg8X0FBAddffz3/+te/WLRoEU8++SSLFi2Ky3NLfKnAScX8/vdwxhmwcSMMHuw7jYhIWsrNz2Xh6oX0nNWTLtO70HNWTxZlLyI3P7dKz/vxxx/TunVrDjjgAGrWrMkFF1zALC3kHkoqcFJxkyZBzZrwyCPwwQe+04iIpJ1l65bRdXpXZi6eydK1S5m5eCZd7uvC8vXLq/S8K1euZN99993x+xYtWrBy5coqppVEUIGTimvdGgYODI579YKCAr95RETSSE5eDiPeGkFeQd4un88ryGP47OFxu5wq4aYCJ5UzdGgwM3XePHjwQd9pRETShmHMXzW/2HMLVi3AqPxSJM2bN2fFihU7fv/999/TvHnzSj+fJI4KnFRO3bowfnxwPHQorF3rN4+ISJpwODo161TsuY7NOuKo/A5Lhx9+OP/9739ZtmwZW7du5amnnuKss86q9PNJ4qjASeWdd16wxdaaNdojVUQkSRpkNmBU91FkZmTu8vnMjExGdR9Fg8wGlX7u6tWrc9ddd3HKKafQrl07zjvvPA455JCqRpYE0F6oUjULFsBhh4FzweXUzp19JxIRiaTFixfTrl27cj02Nz+X5euXM3z2cBasWkDHZh0Z1X0ULRu1pE6NOglOKolQ3M+/tL1QqycllaSujh3h+uth6lTIygo2vtdWMCIiCVWnRh3aN23PjLNnYBgOV6WRN4keXUKVqrvlFmjaFN59F5580ncaEZG00SCzAfUz66u8pSEVOKm6Ro1gzJjgeNAg2LTJaxwREZFUpwIn8dGzJxx+OPzwA4we7TuNiIhISlOBk/ioVm3nBvcTJ8KSJX7ziIiIpDAVOImfI48MRuLy86Fv32BmqoiIiMSdCpzE15gx0LAh/Otf8OKLvtOIiEgFXH755ey111506NDBdxQpgwqcxFezZsGsVAhG4bZs8RpHRCTV5OdX7XxpLrvsMl555ZXKP4EkjQqcxN9118Ehh8A33+zcbktEROKiRo1guc2SPmrUqPxzH3fccTRu3Dh+YSVhVOAk/mrU2Dmh4fbb4bvv/OYRERFJMSpwkhjdu8O558LmzTBwoO80IiIiKUUFThJn/HioXRuefhrefNN3GhERkZShAieJs99+MHRocNy7d9XurBUREZEdVOAksQYOhAMOgIUL4Z57fKcREZFSXHjhhRx99NF89dVXtGjRggcffNB3JClBdd8BJMXVqgWTJ8NZZ8GIEXDBBcFSIyIiEjpPPvmk7whSThqBk8Q74ww47TTIyYEhQ3ynERGJtPz8YKObkj50t0p6UIGTxDMLRuFq1IAZM+Cjj3wnEhGJrLLWeavKOnASHSpwkhxt20L//sFxVhYUFvrNIyIiEmEqcJI8w4bBPvvAJ58EI3EiIiJSKSpwkjz16u3cWmvIEFi/3mscERGRqFKBk+S64AI47jjIzoabb/adRkREJJJU4CS5zGDqVKhWDe6+GxYs8J1IRESKMXLkSMZvv2pSQb/+9a9LPX/66aezPg5XYS677DKeeeaZKj9PRdSrVy+pr1cSFThJvs6d4dproaAgmNDgnO9EIiISR++//36p519++WUaNWqUnDAeOecoTNCkPRU48ePWW6FJE3j7bfjHP3ynERER4LbbbqNt27b85je/4auvvtrx+a+//ppTTz2Vrl27cuyxx/Lll18CsGrVKs455xw6d+5M586ddxS37aNUP/74I8cddxyHHnooHTp04N133wWgZcuW/PTTTwBMnDiRDh060KFDByZPngzA8uXLadeuHVdddRWHHHIIJ598Mps3by428+uvv063bt1o27YtL774IgBbtmyhZ8+edOzYkcMOO4zZs2cD8PDDD9OrV68dX3vGGWfw1ltv7ch800030blzZ4466ihWrVoFwLJlyzj66KPp2LEjw4YN2/G1mzZt4sQTT6RLly507NiRWbNm7ch+0EEHcemll9KhQwdGjRpF3759d3zd/fffT79+/Sr4kymGcy5tPrp27eokRO67L1h3skUL5zZt8p1GRMSrRYsW7fxN6Wv1Vv6jFHPmzHEdOnRwP//8s9uwYYM78MAD3Z133umcc+6EE05wS5Yscc459+GHH7ru3bs755w777zz3KRJk5xzzm3bts2tX7/eOedc3bp1nXPOjR8/3o0ePXrH+ZycHOecc/vvv7/Lzs7e8ZqbNm1yGzdudO3bt3fz5s1zy5YtcxkZGe7TTz91zjl37rnnur/97W+/yPznP//ZnXLKKa6goMAtWbLENW/e3G3evNmNHz/e9ezZ0znn3OLFi92+++7rNm/e7GbMmOGuv/76HV//+9//3s2ePTv2luOef/5555xzgwYNcqNGjXLOOXfmmWe6Rx55xDnn3F133bXje8vPz3cbNmxwzjmXnZ3tDjzwQFdYWOiWLVvmzMx98MEHzjnnNm7c6A444AC3detW55xzRx99tJs/f/4vvpddfv4xwBxXQqfRCJz4c8UV0KULfP893H677zQiImnt3Xff5ZxzzqFOnTo0aNCAs846CwhGmt5//33OPfdcDj30UK655hp+/PFHAN58802uvfZaADIyMmjYsOEuz3n44YczY8YMRo4cyYIFC6hfv/4u59977z3OOecc6tatS7169ejRo8eOUbpWrVpx6KGHAtC1a1eWL19ebO7zzjuPatWq0aZNGw444AC+/PJL3nvvPf70pz8BcPDBB7P//vuzZMmSUr//mjVrcsYZZ/zi9f7zn/9w4YUXAnDJJZfseLxzjqFDh9KpUydOOukkVq5cuWPUbv/99+eoo44CgpG9E044gRdffJEvv/yS/Px8OnbsWGqW8lCBE38yMuCuu4Lj8eNh6VK/eUREwiJRY3CVUFhYSKNGjfjss892fCxevLhcX3vcccfxzjvv0Lx5cy677DIeffTRcr9uZmbmjuOMjAy2bdtW7OPMrNTfF1W9evVd7knbsmXLjuMaNWrs+NrdX6+453z88cfJzs5m7ty5fPbZZzRr1mzH89WtW3eXx1555ZU8/PDDzJgxg549e5aYryJU4MSvo4+GP/8Ztm6FIvcIiIhIch133HE899xzbN68mY0bN/LCCy8A0KBBA1q1asXTTz8NBCNPn3/+OQAnnngi9957LwAFBQVs2LBhl+f89ttvadasGVdddRVXXnkl8+bN2+X8sccey3PPPUdubi4///wzzz77LMcee2yFcj/99NMUFhby9ddf880333DQQQdx7LHH8vjjjwOwZMkSvvvuOw466CBatmzJZ599RmFhIStWrODjjz8u8/mPOeYYnnrqKYAdzwmwYcMG9tprL2rUqMHs2bP59ttvS3yOI488khUrVvDEE0/sGM2rKhU48W/sWKhfH156KfgQEZGk69KlC+effz6dO3fmtNNO4/DDD99x7vHHH+fBBx+kc+fOHHLIITtu2J8yZQqzZ8+mY8eOdO3alUWLFu3ynG+99RadO3fmsMMO4+9//zt9+vT5xWtedtllHHHEERx55JFceeWVHHbYYRXKvd9++3HEEUdw2mmn8de//pVatWpx3XXXUVhYSMeOHTn//PN5+OGHyczM5JhjjqFVq1a0b9+e3r1706VLlzKff8qUKdx999107NiRlStX7vj8xRdfzJw5c+jYsSOPPvooBx98cKnPc95553HMMcewxx57VOj7K4m5NFrCoVu3bm7OnDm+Y0hxJk6EAQOgdWv44gsoMnQuIpIOFi9eTLt27XzHkAQ544wz6NevHyeeeGKx54v7+ZvZXOdct+IerxE4CYesLGjXLrgPbuJE32lERETiYv369bRt25batWuXWN4qQwVOwqFGjWCHBoDRo4OZqSIiIhHXqFEjlixZsuMewnhRgZPwOOkk+MMfIDcXBg3ynUZEJOnS6bYm2akyP3cVOAmXCROgdm146qlglwYRkTRRq1Yt1qxZoxKXZpxzrFmzhlq1alXo66onKI9I5ey/PwweDDffHNwXN28eVNcfUxFJfS1atOD7778nOzvbdxRJslq1atGiRYsKfY1moUr4bN4M7dvD8uXBfXFZWb4TiYiIJJ1moUq01K4NkyYFxyNGgP5vVEREZBcqcBJOZ58NJ58M69fD0KG+04iIiISKCpyEkxlMmRLc//bgg6BL3yIiIjuowEl4HXww9OsXbMDcqxcU2YBYREQknanASbgNHw577w0ffQSPPOI7jYiISCiEssCZ2b5mNtvMFpnZQjPrU8xjjjezDWb2WexjhI+skmD168O4ccHx4MGwYYPfPCIiIiEQygIHbAMGOOfaA0cB15tZ+2Ie965z7tDYx63JjShJc/HFcMwxsHo1jBzpO42IiIh3oSxwzrkfnXPzYscbgcVAc7+pxBszmDZt568LF/pOJCIi4lUoC1xRZtYSOAz4qJjTR5vZ52b2LzM7pISvv9rM5pjZHK1uHWGHHQbXXAMFBdC7dzCxQUREJE2FusCZWT3gn0Bf51zObqfnAfs75zoD04DninsO59x051w351y3pk2bJjSvJNjo0dC4Mbz5Jvzzn77TiIiIeBPaAmdmNQjK2+POuZm7n3fO5TjnNsWOXwZqmNmeSY4pydSkCdx2W3Dcvz/k5vrNIyIi4kkoC5yZGfAgsNg5N7GEx/wq9jjM7AiC72VN8lKKF1ddFVxOXbECxozxnUZERMSLUBY44BjgEuCEIsuEnG5mfzGzv8Qe80fgCzP7HJgKXOCcboxKeRkZwUQGgDvvhG++8ZtHRETEA0unztOtWzc3R1sypYZLLoHHHoOzzoJZs3ynERERiTszm+uc61bcubCOwImUbtw4qFcPnn8eXnnFdxoREZGkUoGTaNp7bxgR23yjTx/YutVvHhERkSRSgZPo6tMHDjoIliyByZN9pxEREUkaFTiJrpo1YerU4HjUKFi50m8eERGRJFGBk2g7+WT4v/+DTZvghht8pxEREUkKFTiJvokToVYteOIJePdd32kkheTnV+28iEiiqMBJ9LVqtXP0LSsr2C9VJA5q1ACzkj9q1PCdUETSlQqcpIYbb4T99oPPP4f77vOdRkREJKFU4CQ11KkDkyYFx8OGwU8/+c0jIiKSQCpwkjrOOQdOOgnWrQtKnIiISIpSgZPUYRYsK1K9OkyfDnPn+k4kIiKSECpwklratYPevcG5YEJDYaHvRCIiInGnAiep5+aboVkz+OCDYMN7ERGRFKMCJ6mnQQO4447g+IYbICfHbx6JrPz8YDC3pA+tAycivqjASWq65BI46ihYtQpuvdV3GomostZ50zpwIuKLCpykpmrV4K67gokNU6bA4sW+E4mIiMSNCpykrq5d4aqrYNu2nRMbREREUoAKnKS2226DPfaA11+HZ5/1nUZERCQuVOAkte25J4waFRz37w+5uX7ziIiIxIEKnKS+a66BTp3g229h3DjfaURERKpMBU5SX/XqMG1acHzHHbB8udc4IiIiVaUCJ+nhuOPgootgy5bgUqqIiEiEqcBJ+hg3DurWDSYzvPaa7zQiIiKVpgIn6aN5cxg+PDju3Ru2bvWbR0REpJJU4CS99O0LbdrAV1/B1Km+04iIiFSKCpykl8zMYGcGgFtugR9/9JtHRESkElTgJP2cdhqceSZs2gQ33ug7jYiISIWpwEl6mjQpGI3729/g/fd9pxEREakQFThJTwceCIMGBce9ekFBgd88IiIiFaACJ+lryBDYd1/49FN44AHfaURERMpNBU7SV506MGFCcDx0KKxZ4zePiIhIOanASXr74x+he3dYu3bnGnGScPn5VTsvIpLuVOAkvZkF+6RmZMB998Fnn/lOlBZq1Aje+pI+atTwnVBEJNxU4EQOOSSYyFBYCFlZ4JzvRCIiIqVSgRMBGDkS9toL3nsPnnjCdxoREZFSqcCJADRqBGPHBseDBsHGjV7jiIiIlEYFTmS7P/8Zjjwy2F5r1CjfaUREREqkAieyXbVqwYQGM5g8OdjwXkREJIRU4ESKOvxwuPzyYB2LPn00oUFEREJJBU5kd7ffDg0bwquvwvPP+06TkvLzg25c0ofWgRMRKZ0KnMju9toLbr01OO7XDzZv9psnBZW1zpvWgRMRKZ0KnEhxrrsOOnSAZctg/HjfaURERHahAidSnOrV4a67guMxY+Dbb/3mkVDSlmAi4osKnEhJfvtbOP/84BLqgAG+00gIaUswEfFFBU6kNOPHQ5068M9/whtv+E4jIiICqMCJlK5FC7jppuA4K0vXxEREJBRU4ETKMmAAHHggLF688744ERERj1TgRMqSmQlTpgTHI0fCqlVe44iIiKjAiZTH738ffOTkwODBvtOIiEiaU4ETKa/Jk6FmTXj4YfjgA99pREQkjanAiZRX69Y7lxPJyoKCAr95xLuobQmmdetEUocKnEhFDB0KzZvD3Lnw0EO+04hnUdsSTOvWiaQOFTiRiqhXb+fWWkOHwrp1fvOIiEhaUoETqajzzw92afjpJxgxwncaKSddPhSRVKICJ1JRZjB1KmRkwD33wPz5vhNJOejyoYikEhU4kcro1Amuuw4KC4MJDc75TiQiImlEBU6ksm65BfbcE955B556yncaERFJIypwIpW1xx4wZkxwPHAgbNrkN4+IiKSN0BY4MzvVzL4ys6Vm9oul780s08z+Hjv/kZm19BBT0t3ll0O3bvDDD3Dbbb7TSJJEdUJE1NatE5GShbLAmVkGcDdwGtAeuNDM2u/2sCuAdc651sAk4I7kphQBqlXbucH9hAnw3//6zSNJEdUJEVFbt05KFtX/iZD4CWWBA44AljrnvnHObQWeAs7e7TFnA4/Ejp8BTjQzS2JGkcCRR0LPnsHfmH37+k4jImkgqv8TIfET1gLXHFhR5Pffxz5X7GOcc9uADUCT3Z/IzK42szlmNic7OztBcSXtjRkDDRrAyy/Diy/6ThNaPkcNdPlQRFJJWAtc3DjnpjvnujnnujVt2tR3HElVzZoFs1IhGIXbssVrnLDyOWqgy4cikkrCWuBWAvsW+X2L2OeKfYyZVQcaAmuSkk6kONdfD+3bw9dfB/fDiYiIJEhYC9wnQBsza2VmNYELgOd3e8zzwJ9jx38E3nROq6mKRzVqwLRpwfHtt8OKFaU/PoXohmoRkeQKZYGL3dPWC3gVWAz8wzm30MxuNbOzYg97EGhiZkuB/sAvlhoRSboTToA//hFyc4O14dKEbqgWEdD/zCWTpdOgVbdu3dycOXN8x5BU9913cPDBsHkzvPkmdO/uO1FSlDYHvOhfM+V9XJjl55deSss6H5bXkGgL639LYc0VRWY21znXrbhzoRyBE4m0/faDoUOD4969Yds2v3kk7io7IaIioxPJHtXUyEm0aFa1qMCJJMLAgXDAAfDFF3DPPb7TSEiE+VJzmLPJL2lWtajAiSRCrVowaVJwPGIErF7tN09IaNQgeTSiJpLaVOBEEuXMM+HUU2HDBhgyxHeaUNCoQfJoRE0ktanAiSSKGUyZEvxL+dBD8PHHvhOJiEiKUIETSaS2baFfv+C4Vy8oLPSbJ0HieWlUl/6Sp+iInIhEiwqcSKINGwb77AOffAIPP+w7TULE89KoLv2JRJfuc00eFTiRRKtfH+68MzgePBjWr/caR6JB/xBKFOk+1+RRgRNJhgsvhGOPhexsGDnSdxopIpmXbCtSyor+Q7d2beJHIteuVWEUiRIVOJFkMAv2Sa1WDe66K1gfTkIhmZdsd3+uovefmUHNmsVnaNw4fhlK0qRJ6ffCaeREJFxU4ESSpXNn+MtfoKAAsrK0p4wkVFmjfWvX+k5YcZrgIrKTCpxIMo0aFQx1vPUWPP207zShtmZN8cVju2T8Y71mTennw1QYds+y+4hZ0fNmwR/DqNEEF5GdVOBEkqlxY7j99uB4wAD4+We/eUKscWP//1iHIcN2Zd2TVt5yo8kRIqlBBU4k2a64Arp0ge+/hzFjfKcJne0FQ0pX2fKoWYIiqUEFTiTZMjKCiQwQLC+ydKnfPCGjAiEiUjYVOBEfjj4aLr0Utm7duVODpJWilzJTiSYaiCSHCpyIL3fcESzy++KL8PLLvtOkrdLuCUukoiONqXRfmiYaiCSHCpyIL7/6Fdx8c3Dcpw/k5fnNk6bCUCh0X5qIVJQKnIhPWVlw8MHBfXCTJvlOIxJqqTRSKVJVKnAiPtWsCVOnBsejR8PKlX7zhEgY/rEOQ4byilLWytJIpchOKnAivv3ud9CjR7Am3KBBvtOERhj+sQ5DhvKKUlYRqToVOJEwmDABatWCJ5+Ed97xnUZCTjM9RUQFTiQMWraEwYOD4169YNs2r3Ek3DTTU0RU4ETC4oYbgiK3YAH89a++04hUSjrciycSBipwImFRuzZMnBgcDx8O2dl+84hUgu7FE0kOFTiRMPm//4OTT4b16+Gmm3ynkYhYs6b0BYg16iWSelTgRMLEDKZMgerV4YEHYM4c34kkAho31j1xIulGBU4kbA4+GPr2DYZSsrKgsNB3IhERCRkVOJEwGj482Grrww/h0Ud9pxERkZBRgRMJowYNYNy44PjGG2HDBr95JFR2n+kpIulHBU4krP70J/j1r2H1arjlFt9pJER0T5uIqMCJhJUZTJu289dFi3wnEhGRkFCBEwmzLl3gmmuCnRl699b1MhERAVTgRMJv9OhgnYg33oCZM32nkRDS7gci6UcFTiTsmjQJShxA//6Qm+s3Txm00XryafcDkfSjAicSBVdfDYceCt99B2PH+k5TKm20nnpUykXCRwVOJAoyMoKJDBAsL/LNN37zSNL4KE+7P6dKuUj4qMCJRMVvfgMXXwx5ecGl1JDRKExi+ChPu7+miISPCpxIlIwbB/XqwaxZ8OqrvtPsYvs/+iIikngqcCJRss8+MGJEcNy7N2zd6jePiIh4oQInEjV9+sBBB8GSJTBliu80VaYb5KU4FflzoT8jko5U4ESipmbNncXt1lvhhx/85qki3SAvxSnPnwv9GZF0pgInEkWnnAJnnw2bNsENN/hOs4u1a9NrUVmNIIqIDypwIlE1cSJkZsLjj8N77/lOs0OTJsWPmGwXxdGS0kpYOowgplspF4kCFTiRqDrggJ2jb1lZUFDgN0+KKVpKiitha9cmZ9atj22ydn/Nxo1/eb6oVCipIlGjAicSZYMHw377wWefwfTpXqMkq2hU9ZJleXOUNbK2e6lJFB/bZGlrLpHwU4ETibI6dYJLqQDDhsGaNd6iJOsf/Yrc3J6qlzRFRFTgRKKuRw848cTgmt6wYb7TiIhIEqjAiUSdGUydCtWrw333wbx5vhNViI97vCT8yvPnQn9GJJ2pwImkgvbtg4kMzu38NSJq1Ch7lqf+gU4/Fbkkr8viko5U4ERSxc03Q7Nm8P778NhjvtNUSJTvW9MSGyLigwqcSKpo2BDuuCM4vuEGyMnxmycNbF9io6wRRBGReFOBE0kll1wCRx0F//sfjBrlO02kVeTePJU0EUk2FTiRVFKtGtx1V3DdcfJk+PJL34niriI3t1flkqbWQhORMFOBE0k1XbvClVfCtm3Qu3ekJjSUR1WLlYqXiKQCFTiRVHTbbdCoEfz73/Dcc77TRI42qBeRsFOBE0lFTZvuvAeuf3/YvNlvnoiJ8qxYEUkPKnAiqeovf4GOHWH5chg3zneaUsV7MV+NoIlIqlOBE0lV1asHExoAxo4NilxIxfu+NY2giUiqC12BM7M7zexLM5tvZs+aWaMSHrfczBaY2WdmNifJMUWi4bjj4MILYcsWGDDAdxrxQKORIqkpdAUO+DfQwTnXCVgCDCnlsd2dc4c657olJ5pIBN15J9StCzNnBpMaJK1oNFIkNYWuwDnnXnPObYv99kOghc88IpHXvDkMGxYc9+4NW7f6zSMiIlUWugK3m8uBf5VwzgGvmdlcM7u6pCcws6vNbI6ZzcnOzk5ISJHQ69cP2rQJFvadNs13GhERqSJzHhb5NLPXgV8Vc+om59ys2GNuAroBPVwxIc2suXNupZntRXDZNcs5905pr9utWzc3Z45ul5M09fLL8PvfQ/368NVXsPfevhMllFnJ58r6ay8/v/RLi2WdD5uqvBci4o+ZzS3pNjEvI3DOuZOccx2K+dhe3i4DzgAuLq68xZ5jZezX1cCzwBFJii8STaefDmeeCRs3wuDBvtOEmnZzEJGwC90lVDM7FbgBOMs5l1vCY+qaWf3tx8DJwBfJSykSUZMmQWYmPPoovP++7zQJE+915UREwiZ0BQ64C6gP/Du2RMhfAcxsHzN7OfaYZsB7ZvY58DHwknPuFT9xRSLkwANh4MDgOCsLCgr85kkQjaCJSKrzcg+cL7oHTgT4+Wdo1w5WrID77oOrS5wDJCkg1e7nE0knobsHTkQ8qlsXxo8PjocOhbVr/ebxLNUXutVopEhqUoETSUfnngvdu8OaNTB8uO80XmmhWxGJIhU4kXRkBlOnQkYG/PWv8PnnvhOJiEgFqMCJpKsOHaBXLygsDCY0pNH9sCIiUacCJ5LORo6Epk3h3XfhySd9pxERkXJSgRNJZ40awdixwfGgQcEivyIiEnoqcCLp7rLL4Igj4IcfYPRo32lERKQcVOBE0l21ajs3uJ80KdgnVUSKlerLzkh0qMCJSDACd/nlwb8+ffum1YQGbbslFaFlZyQsVOBEJDBmDDRsCK+8Ai+84DtN0mihWxGJIhU4EQnstRfcemtw3K8fbNniN4+IiJRIBU5EdrruumB9uG++2bndloiIhI4KnIjsVL36zgkNt98O333nN4+IiBRLBU5EdnX88XDeebB5MwwY4DuNiIgUQwVORH5p/HioUweeeQbeeMN3GhER2Y0KnIj80r77wtChwXHv3lpLQyRGy85IWKjAiUjxBgyAAw+ERYvg7rt9pxEJBS07I2GhAicixatVCyZPDo5vvhlWrfIaR/zR7gMi4aMCJyIlO+MMOP10yMmBIUN8pxFPtPuASPiowIlI6SZPhpo1YcYM+PBD32lERAQVOBEpS5s20L9/cJyVBYWFfvOIiIgKnIiUw003QfPmMGcOPPSQ7zQiImlPBU5Eylav3s6ttYYMgXXr/OYREUlzKnAiUj7nnw+//S389FMwK1VERLxRgROR8jGDqVOhWjW45x5YsMB3IokoLUsiUnUqcCJSfp06wXXXQUFBMKHBOd+JJAnivfuAliURqToVOBGpmFtvhT33hLffhr//3XcaSQLtPiASPipwIlIxe+wBt98eHA8cCJs2+c2TRLr0JyJhoQInIhV3+eUUdukKK1fuLHO7ScUyo0t/IhIWKnAiUnEZGVS7+y4A8sZMoLUtVZkREUkiFTgRqZyjjmIGl5HJVibT13caEZG0ogInIpU2mLFsoAFn8BK/50XfcURE0oYKnIhU2mqaMZKRAEymL5ls8RtIIiHey5KIpCMVOBGpkrvoxULa05qv6c9E33EkArQsiUjVqcCJSJVsowa9mQrATdxGC1Z4TiQikvpU4ESkyt7kRJ7mj9QllzsZ5DtOwujSn4iEhQqciFTK7mXm3G8nQO3aXMDfcbPfSskyo0t/IhIWKnAiUim/KCv77QdDhgTHvXtTw7YlPZOISLpQgROR+Bk0CFq1ggUL4N57facREUlZKnAiEj+1asGkScHx8OGwerXfPCIiKUoFTkTi66yz4JRTYMMGGDrUdxoRkZSkAici8WUGU6YEN8k99BB88onvRCIiKUcFTkTi76CDoF+/YHpqr15QWOg7kYhISlGBE5HEGDYM9t4bPv4YHnnEdxoRkZSiAiciiVG/Ptx5Z3A8eHBwT5yIiMSFCpyIJM5FF8FvfhPMRh050ncaEZGUoQInIoljBtOmQbVqwa9ffOE7kYhISlCBE5HEOvRQuOYaKCiA3r2DiQ0iIlIlKnAiknijR0OTJjB7NjzzjO80IiKRpwInIonXuDHcdltwPGAA/Pyz3zwiIhGnAiciyXHlldClC6xYAWPH+k4jIhJpKnAikhwZGcFEBgiWF/n6a795REQiTAVORJLn17+GSy6BvLxgpwYREakUFTgRSa477ggW+X3hBfjXv3ynERGJJBU4EUmuvfeGESOC4z59gtE4ERGpEBU4EUm+3r3h4IPhv/+FyZN9pxERiRwVOBFJvpo1YerU4HjUKFi50m8eEZGIUYETET9+9zs455xgTbgbbvCdRkQkUlTgRMSfiROhVi144gl45x3faUREIiN0Bc7MRprZSjP7LPZxegmPO9XMvjKzpWY2ONk5RSQOWraEG28MjrOyYNs2r3FERKIidAUuZpJz7tDYx8u7nzSzDOBu4DSgPXChmbVPdkgRiYMbb4T994f58+G++3ynERGJhLAWuLIcASx1zn3jnNsKPAWc7TmTiFRG7dowaVJwPHw4/PST3zwiIhEQ1gLXy8zmm9lDZrZHMeebAyuK/P772Od+wcyuNrM5ZjYnOzs7EVlFpKr+7/+CSQ3r1sFNN/lOIyISel4KnJm9bmZfFPNxNnAvcCBwKPAjMKEqr+Wcm+6c6+ac69a0adOqhxeR+DMLlhWpXh3uvx/mzvWdSEQk1LwUOOfcSc65DsV8zHLOrXLOFTjnCoH7CS6X7m4lsG+R37eIfU5Eourgg4OdGZwLJjQUFvpOJCISWqG7hGpmexf57TnAF8U87BOgjZm1MrOawAXA88nIJyIJNGIE/OpX8MEH8Le/+U4jIhJaoStwwDgzW2Bm84HuQD8AM9vHzF4GcM5tA3oBrwKLgX845xb6CiwicdKgQbDZPQSzUzds8JtHRCSkzDlX+gPMsoDHnHPrkhMpcbp16+bmzJnjO4aIlKawEI49Ft5/H/r3hwlVug1WRCSyzGyuc65bcefKMwLXDPjEzP4RWzzX4htPRKSIatVg2rSdExsWL/adSEQkdMoscM65YUAb4EHgMuC/Zna7mR2Y4Gwikq66dIGrrw52ZujdO5jYICIiO5TrHjgXXGf9X+xjG7AH8IyZjUtgNhFJZ7fdBnvsAa+/Ds8+6zuNiEiolFngzKyPmc0FxgH/ATo6564FugJ/SHA+EUlXTZrA6NHBcf/+kJvrN4+ISIiUZwSuMdDDOXeKc+5p51w+QGydtjMSmk5E0ts110DnzvDttztnp4qISLnugbvZOfdtCed0d7GIJE5GRjChAYICt2yZ3zwiIiERxnXgRER2OvZYuPhiyMsLLqWKiIgKnIhEwLhxUK8ePPccvPaa7zQiIt6pwIlI+O2zDwwfHhz37g1bt/rNIyLimQqciERD377Qti189VWwwK+ISBpTgRORaKhZE6ZMCY5vuQV++MFvHhERj1TgRCQ6Tj0VzjoLNm0KNrsXEUlTKnAiEi2TJkFmJjz2GPznP77TiIh4oQInItFywAFwww3Bca9eUFDgN4+IiAcqcCISPYMHw377wWefwf33+04jIpJ0KnAiEj116sCECcHxTTfBmjV+84iIJJkKnIhE0x/+ACecAGvX7lwjTkQkTajAiUg0mQXrwWVkwF//Cp9+6juRiEjSqMCJSHQdcghkZYFzO38VEUkDKnAiEm0jR8JeewVLijz+uO80IiJJoQInItHWsCHccUdwfMMNsHGj3zwiIkmgAici0XfppXDUUfDjjzBqlO80IiIJpwInItFXrRpMmxZMbJg8Gb780nciEZGEUoETkdTQrRtccQXk50OfPprQICIpTQVORFLH7bdDo0bw2mswa5bvNCIiCaMCJyKpo2nTnffA9esHmzf7zSMikiAqcCKSWv7yF+jYEZYvhzvv9J1GRCQhVOBEJLVUrx5MaAAYMwa+/dZvHhGRBFCBE5HU89vfwgUXwJYtMGCA7zQiInGnAiciqenOO6FOHfjnP+H1132nERGJKxU4EUlNLVrAsGHBce/ewfIiIiIpQgVORFJX//7QujUsXrzzvjgRkRSgAiciqSszE6ZMCY5HjoT//c9rHBGReFGBExEvcvJy2Ji3kZy8nMS+0OmnwxlnBJvcDx6c2NcSEUkSFTgRSarc/FwWrl5Iz1k96TK9Cz1n9WRR9iJy83MT96KTJkHNmvDII/DBB4l7HRGRJFGBE0lxSRvpKqdl65bRdXpXZi6eydK1S5m5eCZd7uvC8vXLE/eirVvDwIHBcVYWFBQk7rVERJJABU4kRXkZ6SpDTl4OI94aQV5B3i6fzyvIY/js4YktmUOHBjNT586Fhx5K3OuIiCSBCpxIivIy0lUGw5i/an6x5xasWoBhiXvxunVh/PjgeMgQWLs2ca8lIpJgKnAiKcjrSFcpHI5OzToVe65js444XGIDnHceHH88rFkDI0Yk9rVERBJIBU4kBXkd6SpFg8wGjOo+isyMzF0+n5mRyajuo2iQ2SCxAcyC9eAyMuDee+HzzxP7eiIiCaICJ5KCvI90laJlo5bMu2YePdr1oE3jNvRo14N518yjZaOWyQnQoQNcfz0UFgYTGpy/90JEpLLMpdFfXt26dXNz5szxHUMkKRZlL6LLfV12uYyamZHJvGvm0b5pe4/JAjl5ORiGwyV+5G1369dD27aQnQ1PPAEXXpjc1xcRKQczm+uc61bcOY3AiaQo7yNdZWiQ2YD6mfWTX94AGjWCMWOC44EDYdOm5GcQEakCjcCJpDivI11hVlgIRx0Fn3wCN94IY8f6TiQisguNwImkMa8jXWFWrdrODe4nToQlS/zmERGpABU4EUlfRx4Jl18O+fnQt68mNIhIZKjAiUh6GzMGGjaEf/0LXnzRdxoRkXJRgROR9LbXXnDLLcFx376wZYvXOCIi5aECJyJy3XVwyCHwzTcwYYLvNCIiZVKBExGpUWPnhIbbboPvvvObR0SkDCpwIiIA3bvDuefC5s3B2nAiIiGmAicist348VCnDjz9NLz5pu80IiIlUoGTSMrJy2Fj3kZy8nJ8R5FUst9+MHRocNy7d7C8iIhICKnASaTk5ueycPVCes7qSZfpXeg5qyeLsheRm5/rO5qkigED4IADYOFCuOce32lERIqlrbQkUhauXkjX6V1Du0G7pIgXXoCzzgrWh1uyJFhqREQkybSVlqSEnLwcRrw1YpfyBpBXkMfw2cN1OVXi54wz4LTTYMMGGDLEdxoRkV9QgZPIMIz5q+YXe27BqgUYluREkrLMYPLkYHmRhx6Cjz7ynUhEZBcqcBIZDkenZp2KPdexWUcc/m4H0KSKFNS2LfTvHxxnZUFhod88IiJFhK7Amdnfzeyz2MdyM/ushMctN7MFscfpxrY00CCzAaO6jyIzI3OXz2dmZDKq+ygaZDZIeiZNqkhxw4bBPvvAJ5/AjBm+04iI7BDqSQxmNgHY4Jy7tZhzy4Fuzrmfyvt8msQQfbn5uSxfv5zhs4ezYNUCOjbryKjuo2jZqCV1atRJeh5NqkgDTz4JF10ETZsGExoaNfKdSETSRGmTGEJb4MzMgO+AE5xz/y3m/HJU4NJWTl4OhuFwXkbetmfoOasnMxfP/MW5Hu16MOPsGd6ySRw5B8cfD++8E6wNN2WK70QikiaiOgv1WGBVceUtxgGvmdlcM7u6pCcxs6vNbI6ZzcnOzk5IUEm+BpkNqJ9Z32tB0qSKNGEGU6dCtWpw993wxRe+E4mI+ClwZva6mX1RzMfZRR52IfBkKU/zG+dcF+A04HozO664BznnpjvnujnnujVt2jSO34WkuzBPqpA469wZrr0WCgqCCQ0hvXIhIukjlJdQzaw6sBLo6pz7vhyPHwlscs6NL+1xuoQq8bYoexFd7uuSlvfAheEydlKtXRvMTF2zBp56Cs4/33ciEUlxUbyEehLwZUnlzczqmln97cfAyYCua0jStWzUknnXzKNHux60adyGHu16MO+aebRs1NJ3tIRJ25m3jRvDmDHB8cCB8PPPfvOISFoL6wjcw8CHzrm/FvncPsADzrnTzewA4NnYqerAE86528p6Xo3ASaKk02hUeWbepuz7UVAARx4Jc+cGm97fVuZfOyIilRbJWaiJoAInUjVlzbx98KwHWZmzkhFvjWD+qvl0atbJ6zIvCfHhh3D00VCzZrDhfevWvhOJSIqK4iVUEQmhsmbeOufoOr0rMxfPZOnapcxcPJMu93Vh+frlyQ2aSEcdBX/+M2zdCv36+U4jImlKBU5Eyq2smbfL1i/bcWnVMC7qeBEvX/wy9WvWZ93mdcmMmlhjx0L9+vDii/DSS77TiEgaUoETkXIrazuzx+Y/BgTl7bEej9HnyD7c/cndnPDoCVz5wpVVmuwQqv1mf/UrGDkyOO7bF/LySnu0iEjcqcCJSIWUNPO2ef3mfLfhOwAu7HghrRu35rgZx1X5cmqyZ72WuyhmZUG7drB0KUycmJAsIiIl0SQGEdmhIrNHi3vs9nXxXr74Ze7+5O64bDOWrP1mc/NzWbZuWcUmYLz+Ovzud1CnDnz1FbRoEbc8IiKaxCAiparMKFdx25ltH51r07hNXLYZy8nLYcRbI3YpbwB5BXkMnz08rpdTl61bVvEJGCedBH/4A+TmwqBBccsiIlIWFTgRqVx5KUadGnVo37Q99WrWi8s2Y8nab7ZKRXHCBKhdO9id4e2345JHRKQsKnAiaS4Ro1x71N6j1MkO5b18mqz9ZqtUFPffHwYPDo6zsmDbtrhkEhEpjQqcSJpL1ChXPLYZK2vWa7x2eahyURw0CFq2hAUL4K9/Lf2xIiJxoAInKSVUS01ERKJGubZfTp1x9gzmXj2XGWfPoH3T9hXekSEZ+81WuSjWrg2TJgXHw4dDdnbcsomIFEezUCUlVGoGoeywffZoomd6VkWi91fNzc9l+frlDJ89nAWrFtCxWceK/RlyDk47DV59Fa68Eu6/P+4ZRSS9aC/UGBW41JWspSZSVZXLSwqpUlH86ivo2DG4D+7jj6FbsX/vioiUiwpcjApcaiprg/WKrDmW7hI9ypUWbrgB7rwTjjwS3n8fqulOFRGpHK0DJyktWUtNpIPi1naTCho+HPbeGz76CB591HcaEUlRKnASeclaakKkXOrXh3HjguMbb4QNG/zmEZGUpAInkZespSaSTTNqI+zii+GYY2D16p2b3ouIxJEKnKSEZCw1kSzJ3rxdEsAMpk3b+evChb4TiUiK0SQGSSmpcBO+ZtSmkOuug3vvhRNOCDa+N92PKSLlp0kMkjaifhN+PLe10iXYEBg1Cho3hjffhH/+03caEUkhKnAiIRKPGbVhvwSbVsWySRO47bbgeMAAyA3Hz0BEok8FTiRE4jGjdtm6ZXSd3pWZi2eydO1SZi6eSZf7urB8/fI4p62YsBfLhLnqKjjsMPjuOxg71ncaEUkRKnAiIVLVGbXxvAQbb2EtlgmXkRFMZIBgeZFvvvGbR0RSggqcSMhUZUZtWBc1DnOxTIpjjoE//Qny8qBfP99pRCQFVPcdQER2VadGHdo3bc+Ms2dUeEbt9kuwS9cu/cU5n4sah7VYJtW4cfDcc/D88/DKK3Dqqb4TiUiEaQROJKQqM6M2rIsaa7cMgu21br45OO7TB7Zu9ZtHRCJNBU4kxYRlUeOis03DWiyTrndvOOggWLIEJk/2nUZEIkwL+YqkqMoualzVxZBz83NZtm4ZI94awfxV8+nUrBOjuo9i3wb7siJnBcNnD2fBqgV0bNaRUd1H0bJRS+rUqFPh14ms116DU06BevXgq69gn318JxKRkCptIV8VOJEQS+bOEiUVr4oWrLJ2kkiF3TKq7JxzgvvhLr4YHnvMdxoRCSntxCASMT7WTIvHMh/lmW0a9d0y4mLiRKhVCx5/HN5913caEYkgFTiRKkrEzgLJXjMtXst8aLZpObVqBTfcEBxnZUFBgd88IhI5KnAilZSoUTIfa6bFq3hptmkF3Hgj7L8/fP453Hef7zQiEjEqcCKVlKhRMh+jWPEqXmGebRq6PVjr1AkupQIMGwY//eQ3j4hEigqcSCUkcpSsImUqXqUknsUrLMuYbBfqPVjPOQdOOgnWrQtKnIhIOWkWqkglbMzbSJfpXYrd8aBN4zbMvXou9TPrV/r5F2Uvost9XUqcyRmvGaNFbdiygZUbV8ZtmY+wzDYta1asd4sXQ6dOwX1wc+ZAly6+E4lISJQ2C1VbaYlUQqK3rNo+ilVcmYKdl2+3l5Kla5fy0pKXKlVKtpfBm9+6mf0a7sdNx95Eq0atMDMa1WpU6e8hDLNMyxopnXH2DP8527ULFvidOBF69YL33oNqujgiIqXTCJxIJZU1ShYPxY1i5eTl0HNWT2YunvmLx/do16PCpST0I1RVkOiR0rjJyYG2bWHVKnjkEbj0Ut+JRCQEtA6cSAIk416v4tZMi+ckBx8zXpMpMrNiGzQINruHYHmRnGi/7yKSeCpwIpVUp0Yd2jdtz4yzZzD36rnMOHsG7Zu2T/i2UPEsJam+bluYZ8X+wp/+BEcfHYzC3Xqr7zQiEnIqcCJVlOydBeJZSiIzQlUFYZsVW6Jq1eCuu8AMpkwJJjeIiJRA98CJRFBufi7L1y+Py4zRZNzLFwZhmRVbpmuugenT4Xe/g1dfDQqdiKQlbWYfowKXeJH5RzJFxOP9jmcZlDj46adgQsO6dTBzZrBWnIikJRW4GBW4xEnEumSpLmxlN2x50trddwdLiuy/f3AptXZt34lExAMVuBgVuMSJ91IUqVwmElV2o/qeRTV3Qm3bBl27wvz5cPPNMHKk70Qi4oGWEZGEiudSFKHe9ihO4r2HalTfs6jmTorq1YMJDQB33AHLl3uNIyLhowInVRbPpSgStUF8WJRVdtdtXlfh54zqexbV3Elz7LFw0UWwZQv07+87jYiEjAqcVFm8lqJI9UVloeyyu2nrpgqNQkX1PYtq7qQbNw7q1oVnn4V//9t3GhEJERU4qbJ4rUuW6ovKQtll979r/1uhUaiKvmc5eTlszNvovSClw886Lpo3h+HDg+PevWHrVr95RCQ0VOCkXMr6hz8ei6Wmw6KypZXdwccM5oF5D1RoFKqs96zAFQDhu98sHX7WcdO3L7RpA19+CdOm+U4jIiGhWahSqorOmKzqjMJ0WFS2uHXXBh8zmCVrlnDJs5fgcBXaaL2k9+zdnu+yd/29adGgRSg3rE+Hn3Xc/OtfcPrpUK8eLFkCe+/tO5GIJIFmoUqlVfRG86puK+Vz26NkXF7MycuhoLCAlo1a8sCZD/DGpW9w/eHXM+nDSTvKG5R/FCo3P5fGtRvz/hXv7/KefXzVxyxZs4S+r/Rl3eZ1obzfLDJbXIXBaafBWWfBpk1w442+04hICGgETkqUk5dDz1k9mbl45i/O9WjXgxlnz0jYul3JXBssGYsQF/caU06dQk5eTpVGoRauXki36d04p905XNnlSvZruB8rNqxgv4b7MWL2CD754RPmXDWHrvd3Zenapb/4+oqM9CWK1oErp2++gfbtIS8P/vMf+PWvfScSkQQrbQSuerLDSHT4vNE8mf+Qbx9l3F6ilq5dyktLXorrpbziXuPlJS+zvO9y5l0zr9htrMqyfSbnloItPPnFkzz5xZM7zvVo14PrD7+eLQVbKHAFdGrWqdgCl8j7zcpbzFTayumAA2DQIBg9Otil4ZNPICPDdyoR8USXUKVE6XCjeTKWsyjpNbYUbOH6l6+nZaOWzDh7BnOvnsuMs2fQvmn7co387V6wDeOijhfxxqVvMP534+mwVwemnDqFPWrvEZdZwuUVtgkTKWXIENh3X/j0U3jgAd9pRMQjFTgpUbyWBwmzZIwylvYa81fNp6CwoFL3DhYt2IbxWI/H6HNkH+7+5G5Ofuxkrn3pWnLycsjNz03q/WZaoDeB6tSBCROC45tugrVr/eYREW9U4KRUqX6jeTJGGRP1GkUL9oUdL6R149YcN+O4YotTnRp1aN+0faVG+ipCC/QmwR//CN27w5o1O9eIE5G0o0kMUi6pfKN5MpazSNRrbF+SZMu2Ldz27m1eJpwUtTFvI12mdwnthInKCOWf/YULoXNncA7mzoVDD/WdSEQSQMuISJVVdXmQMEvGKGOiXmP7yNqBexwYip0NUum+yVDfy3fIIZCVBYWFwa9p9D/iIhLQCJxITDJGWhL1Gj6XfNmdzwV64/n+hnHx411s2ABt28Lq1fDYY3Dxxb4TiUicaQROpBySMcqYqNcI04QTH/dNxnu0LBL38jVsCGPHBseDBsHGjX7ziEhSeRuBM7NzgZFAO+AI59ycIueGAFcABUBv59yrxXx9K+ApoAkwF7jEOVfqTs8agZNUVtwWXfFekLgiknnvWLxHyyJzL19hYbCg70cfwQ03wB13+E4kInEU1hG4L4AewDtFP2lm7YELgEOAU4F7zKy41SrvACY551oD6wgKn0jaStZM0/JK1n2TiRgti8y9fNWqBRvcm8GkSfDVV74TiUiSeCtwzrnFzrni/rY5G3jKOZfnnFsGLAWOKPoAMzPgBOCZ2KceAf4vgXFFIiOVJ5wUJxFr+YXpknSZDj8cLr8c8vOhTx9NaBBJE2G8B645sKLI77+Pfa6oJsB659y2Uh4DgJldbWZzzGxOdnZ23MOKiF+JGi2L1BqIY8ZAo0bw6qvw/PO+04hIEiR0L1Qzex34VTGnbnLOzUrka2/nnJsOTIfgHrhkvKaIJM/20bKXlrz0i3vgqjJaVvSSdOjWgdtd06Zw663Quzf06wcnnwy1a/tOJSIJlNAROOfcSc65DsV8lFbeVgL7Fvl9i9jniloDNDKz6qU8RkRCKicvh415G+M2mzORo2WRuSR97bXQsSMsWwbjx/tOIyIJ5n0dODN7Cxi4fRaqmR0CPEFw39s+wBtAG+dcwW5f9zTwT+fcU2b2V2C+c+6e0l5Ls1BF/MrNz2XZumWMeGsE81fNp1OzTnGdKRvKXROS6e234fjjg9G3xYth//19JxKRKgjlLFQzO8fMvgeOBl4ys1cBnHMLgX8Ai4BXgOu3lzcze9nM9ok9xY1AfzNbSnBP3IPJ/h5EpGISvdF9ZEbLEuW3v4Xzz4fNm2HgQN9pRCSBvI/AJZNG4ET8CdNuESnt++/hoIMgNxdefx1OPNF3IhGppFCOwIlIeknEch9SjBYtYNiw4DgrK1heRERSjgqciCRFZBbHTQX9+0Pr1sF9cHfd5TuNiCSACpyIJEWkFseNusxMmDw5OB45Elat8plGRBJABU5EkiZSi+NG3e9/H3zk5MDgwb7TiEicaRKDpIS0Xz4iIrb/nLYVbqNW9VrkF+br55VIS5fCIYfA1q3wwQdw1FG+E4lIBWgSg6Ss3PxcFq5eSM9ZPekyvQs9Z/VkUfYicvNzfUeTInb/OV35wpUsW7+M6tUSuhmMtG4NAwYEx716QUFB6Y8XkcjQCJxE2sLVC+k6vesvtlCad8082jdt7zGZFKWfk0ebNsHBB8PKlTB9Olx1le9EIlJOGoGTlJSTl8OIt0bsUgoA8gryGD57eNy2aapopnhuEZUKwvhzSiv16sGECcHx0KGwbp3fPCISFypwEllhWldMl3JLFqafU9o677xgi62ffoIRI3ynEZE4UIGTyArTumKJ3iIqzMoadQzTzyltmcHUqZCRAffcA/OLL9QiEh0qcBJZYVlXLF0vEZZ31DEsP6e017EjXHcdFBYGOzSk0f3PIqlIBU4iLQzriqXrJcKKjDqG4eckwC23wJ57wjvvwN//7juNiFSB5vBLpNWpUYf2Tdsz4+wZ3taB236JcOnapb84l6qXCMsaddx9Y/ow/JwE2GMPGDMmmIk6cCCccUYwyUFEIkcjcJISGmQ2oH5mfS+lIB0vEVZ21NHnz0liLr8cDj88WFbkttt8pxGRSlKBE4mDVLxEWNrkBE1MiLBq1WDatOB4wgT473/95hGRStFCviJxlApbeuXm57Js3TJGvDWC+avm06lZJ0Z1H0XLRi2pU6POjsctyl5El/u6aHHeqLr8cpgxA04/HV56yXcaESlGaQv5qsCJhJiPQljeXRNy83NZvn45w2cPZ8GqBXRs1rHYoichtWoVtG0bbHb/wgvB/XAiEioqcDEqcBIV5R0Fi7ecvBx6zurJzMUzf3GuR7sev5icsP1roj7qmLYmT4Z+/eDAA+GLL6BWLd+JRKQIbaUlEjG+FgauzOSEikxM0FZjIXP99dC+PXz9NUyc6DuNiFSACpxIyPhcGDhRkxO01VhI1aixc0LDbbfBihV+84hIuanAiYSMz4WBE7UkSjpvNRZ6J5wA554LubnB2nAiEgkqcCIh43uJjngviZKuW41FyvjxULs2/OMfMHu27zQiUg7aiUEkZLaPgr205KVfzARNxsLA8d41IV23GouU/faDoUNh+HDo3Rs+/RSq658HkTDTCJxICFV0FCwRkwPitWuC7xFFKaeBA+GAA4LZqPfc4zuNiJRBy4iIhFhZS3T4Wm6korTob0Q8/zycfTY0bAhLlsBee/lOJJLWtIyISMRsH1EDSh0Fi8rkgFTcaiwlnXkmnHoqbNgQXFIVkdDSCJxIiFRkRK0yi+76pkV/I2DJEujQAfLz4aOP4IgjfCcSSVsagROJiIqMqEVxckC87quTBGrbFvr3D4579YLCQr95RKRYKnAiIVHR5TY0OUASZtgw2Gcf+OQTePhh32lEpBgqcCIhUdERtUQtuitCvXpw553B8eDBsH691zgi8ksqcCIhUZkRNU0OkIS58EI49ljIzoaRI32nEZHdaBKDSIhUdrkNTQ6QhPj8c+jSBczgs8+CyQ0ikjSaxCASEZUdUdPkAEmIzp3hL3+BgoJgh4Y0+h9+kbDTCJxICGlETUJj7dpgZuqaNfD3v8N55/lOJJI2NAInEjEaUZPQaNwYbr89OB4wAH7+2W8eEQFU4EREpCxXXBHcC/f99zBmjO80IoIKnIiIlCUjA+66Kzi+8074+mu/eUREBU5ERMrh6KPh0kth61bo1893GpG0pwInIiLlc8cdUL8+vPACvPyy7zQiaU0FTkQqJScvh415G3+xxZeksF/9aueivn36QF5eqQ8XkcRRgRORCsnNz2Xh6oX0nNWTLtO70HNWTxZlLyI3P9d3NEmGrCxo1w6WLoVJk3ynEUlbWgdORCpk4eqFdJ3etcK7RUgKef11+N3voG5d+OoraN7cdyKRlKR14EQkLnLychjx1ohdyhtAXkEew2cP1+XUdHHSSdCjR7Am3KBBvtOIpCUVOBEpN8OYv2p+secWrFqAYUlOJN5MmAC1asGTT8I77/hOI5J2VOBEpNwcjk7NOhV7rmOzjjjS55aMtNeyJQweHBxnZcG2bV7jiKQbFTgRKbcGmQ0Y1X0UmRmZu3w+MyOTUd1HxWXrL81ujZAbbgiK3Pz5cN99vtOIpBUVOBGpkJaNWjLvmnn0aNeDNo3b0KNdD+ZdM4+WjVpW6Xk1uzWCatfeORN12DDIzvabRySNaBaqiFRKTl4OhuFwcRl50+zWiHIOTj0VXnsNrroKpk/3nUgkZWgWqojEXYPMBtTPrB+3y6aa3RpRZjBlClSvDg88APqfZJGkUIETEe80uzXiDj4Y+vYNRuOysqCw0HcikZSnAici3ml2awoYPjzYauvDD+Fvf/OdRiTlqcCJiHfJmN0qCdagAYwbFxzfeCNs2OA3j0iKU4ETkVBI1OxWSaI//QmOOQZWrYJbbvGdRiSlaRaqiIRKvGe3SpJ9+il07QoZGfD559BeM4hFKkuzUEUkMuI5u1U8OOwwuOaaYGeG3r2DiQ0iEncqcCKSNrTLQ5KMHg2NG8Mbb8DMmb7TiKQkFTgRSXna5SHJmjQJShxA//6Qq/dZJN5U4EQk5S1bt4yu07syc/FMlq5dyszFM+lyXxeWr1/uO1rquvpqOPRQ+O47uOMO32lEUo4KnIikNO3y4ElGBkybFhzfcQd8843fPCIpxkuBM7NzzWyhmRWaWbcin/+dmc01swWxX08o4etHmtlKM/ss9nF68tKLSJRolwePfvObYGmRvLzgUqqIxI2vEbgvgB7AO7t9/ifgTOdcR+DPQGnLeU9yzh0a+3g5QTlFJOK0y4Nn48ZBvXowaxa8+qrvNCIpw0uBc84tds59VcznP3XO/RD77UKgtpll7v44EZHy0i4Pnu29N4wYERz37g1bt/rNI5IiwnwP3B+Aec65vBLO9zKz+Wb2kJntUdKTmNnVZjbHzOZkZ2cnJqmIhJp2efCsTx846CBYsgSmTPGdRiQlJGwnBjN7HfhVMaducs7Nij3mLWCgc27Obl97CPA8cLJz7utinrsZweVWB4wC9nbOXV5WJu3EIJLetMuDR6++CqeeGlxO/eor2Gcf34lEQq+0nRiqJ+pFnXMnVebrzKwF8CxwaXHlLfbcq4o8/n7gxUqFFJG0otLm0SmnwNlnB/fC3Xgj/K20W5xFpCyhuoRqZo2Al4DBzrn/lPK4vYv89hyCSREiIhJmkyZBZiY89hi8957vNCKR5msZkXPM7HvgaOAlM9s+NakX0BoYUWSJkL1iX/NAkSVHxsWWGpkPdAf6Jft7EBGRCmrVKhh9A8jKgoICv3lEIixh98CFke6BExHxLDcX2rULdmi45x649lrfiURCq7R74EJ1CVVERFJcnTowcWJwPGwYrFnjN49IRKnAiYhIcvXoASeeCGvXBiVORCpMBU5ERJLLDKZOherV4b774NNPfScSiRwVOBERSb727YOJDM5Br17BryJSbipwIiLix803Q7Nm8P77wdIiIlJuKnAiIuJHw4Zwxx3B8Q03QE6O3zwiEaICJyIi/lxyCRx1FPzvfzBqlO80IpGhAiciIv5UqwZ33RVMbJg8Gb780ncikUhQgRMREb+6doUrr4Rt26BPH01oECkHFTgREfHvttugUSN47bVgw3sRKZUKnIiI+Ne0KYweHRz36webN/vNIxJyKnAiIhIO11wDnTrB8uUwbpzvNCKhpgInIiLhUL06TJsWHI8dGxQ5ESmWCpyIiITHccfBhRfCli0wYIDvNCKhpQInIiLhcuedULcuzJwJr7/uO41IKKnAiYhIuDRvDsOGBce9e0N+vt88IiGkAiciIuHTrx+0aQOLF++8L05EdlCBExGR8MnMhClTguORI+HHH73GEQkbFTgREQmn006DM8+EjRth8GDfaURCRQVORETCa9KkYDTu0Ufh/fd9pxEJDRU4EREJrwMPhIEDg+OsLCgo8JtHJCRU4EREJNyGDIF994V58+DBB32nEQkFFTgREQm3unVh/PjgeOhQWLvWbx6REFCBExGR8Dv3XOjeHdasgREjfKcR8U4FTkREws8sWA8uIwPuvRc+/9x3IhGvVOBERCQaDjkEevWCwsJgQoNzvhOJeKMCJyIi0TFyJDRtCu++C08+6TuNiDcqcCIiEh2NGsHYscHxoEGwaZPXOCK+qMCJiEi0XHYZHHEE/PADjB7tO42IFypwIiISLdWq7dzgfuJEWLLEbx4RD1TgREQkeo44Aq64AvLzoU8fTWiQtKMCJyIi0XT77dCwIbzyCrzwgu80IkmlAiciItG0115w663Bcb9+sGWL3zwiSaQCJyIi0XXdddChA3zzzc7ttkTSgAqciIhEV/XqOyc03H47fPed3zwiSaICJyIi0Xb88XDeebB5Mwwc6DuNSFKowImISPSNHw916sDTT8Obb/pOI5JwKnAiIhJ9++4LN90UHGdlBcuLiKQwFTgREUkNAwbAgQfCokVw992+04gklAqciIikhsxMmDw5OL75Zli1ymsckURSgRMRkdRxxhlw+umQkwNDhvhOI5IwKnAiIpJaJk+GmjVhxgz46CPfaUQSQgVORERSS5s20L9/cNyrFxQW+s0jkgAqcCIiknpuugmaN4c5c+Chh3ynEYk7FTgREUk99ert3FpryBBYt85vHpE4U4ETEZHUdP758Nvfwk8/BbNSRVKICpyIiKQmM5g6FapVg3vugQULfCcSiRsVOBERSV2dOsF110FBQbBDg3O+E4nEhQqciIiktltvhT33hLffhn/8w3cakbhQgRMRkdS2xx4wZkxwPHAgbNrkN49IHKjAiYhI6rv8cujWDb7/Hm6/3XcakSpTgRMRkdRXrRrcdVdwPGECLF3qN49IFanAiYhIejjySLjsMti6Ffr29Z1GpEpU4EREJH2MHQsNGsBLLwUfIhGlAiciIumjWTMYOTI47tsX8vJ8phGpNBU4ERFJL716Qfv2wX1wEyf6TiNSKSpwIiKSXmrUCHZoABg9Glas8JtHpBJU4EREJP2ceCL88Y+QmwuDBvlOI1JhXgqcmZ1rZgvNrNDMuhX5fEsz22xmn8U+/lrC1zc2s3+b2X9jv+6RvPQiIpISJkyA2rXh73+Ht97ynUakQnyNwH0B9ADeKebc1865Q2Mffynh6wcDbzjn2gBvxH4vIiJSfvvtB0OGBMe9e8O2bX7ziFSAlwLnnFvsnPuqCk9xNvBI7PgR4P+qHEpERNLPoEHQqhUsWAD33us7jUi5hfEeuFZm9qmZvW1mx5bwmGbOuR9jx/8DmpX0ZGZ2tZnNMbM52dnZcQ8rIiIRVqsWTJoUHI8YAfp3QiIiYQXOzF43sy+K+Ti7lC/7EdjPOXcY0B94wswalPY6zjkHuFLOT3fOdXPOdWvatGmlvhcREUlhZ50Fp54K69fD0KG+04iUS8IKnHPuJOdch2I+ZpXyNXnOuTWx47nA10DbYh66ysz2Boj9ujoR34OIiKQBM5gyJVhe5MEH4ZNPfCcSKVOoLqGaWVMzy4gdHwC0Ab4p5qHPA3+OHf8ZKLEUioiIlKltW+jXD5wLFvotLPSdSKRUvpYROcfMvgeOBl4ys1djp44D5pvZZ8AzwF+cc2tjX/NAkSVHxgK/M7P/AifFfi8iIlJ5w4bB3nvDxx/DI4+U/XgRjyy4hSw9dOvWzc2ZM8d3DBERCavHH4c//Qn22guWLIGGDX0nkjRmZnOdc92KOxeqS6giIiJeXXQR/OY3sHr1zk3vRUJIBU5ERGQ7M5g2DapVC35duNB3IpFipdUlVDPLBr5N4kvuCfyUxNeLKr1P5aP3qfz0XpWP3qfy0ftUPnqfyq+879X+zrli10BLqwKXbGY2p6Rr17KT3qfy0ftUfnqvykfvU/nofSofvU/lF4/3SpdQRURERCJGBU5EREQkYlTgEmu67wARofepfPQ+lZ/eq/LR+1Q+ep/KR+9T+VX5vdI9cCIiIiIRoxE4ERERkYhRgRMRERGJGBW4JDCzLDP70swWmtk433nCzMwGmJkzsz19ZwkjM7sz9mdpvpk9a2aNfGcKEzM71cy+MrOlZjbYd54wMrN9zWy2mS2K/Z3Ux3emMDOzDDP71Mxe9J0lzMyskZk9E/v7abGZHe07UxiZWb/Yf3dfmNmTZlarss+lApdgZtYdOBvo7Jw7BBjvOVJomdm+wMnAd76zhNi/gQ7OuU7AEmCI5zyhYWYZwN3AaUB74EIza+83VShtAwY459oDRwHX630qVR9gse8QETAFeMU5dzDQGb1nv2BmzYHeQDfnXAcgA7igss+nApd41wJjnXN5AM651Z7zhNkk4AZAM2tK4Jx7zTm3LfbbD4EWPvOEzBHAUufcN865rcBTBP/zJEU45350zs2LHW8k+Ie2ud9U4WRmLYDfAw/4zhJmZtYQOA54EMA5t9U5t95rqPCqDtQ2s+pAHeCHyj6RClzitQWONbOPzOxtMzvcd6AwMrOzgZXOuc99Z4mQy4F/+Q4RIs2BFUV+/z0qJqUys5bAYcBHnqOE1WSC/6ks9Jwj7FoB2cCM2OXmB8ysru9QYeOcW0lwFe474Edgg3Putco+X/V4BUtnZvY68KtiTt1E8B43JrhUcTjwDzM7wKXh+i1lvE9DCS6fpr3S3ifn3KzYY24iuBT2eDKzSeows3rAP4G+zrkc33nCxszOAFY75+aa2fGe44RddaALkOWc+8jMpgCDgeF+Y4WLme1BcFWgFbAeeNrM/uSce6wyz6cCFwfOuZNKOmdm1wIzY4XtYzMrJNjENjtZ+cKipPfJzDoS/IH+3MwguCw4z8yOcM79L4kRQ6G0P08AZnYZcAZwYjr+j0ApVgL7Fvl9i9jnZDdmVoOgvD3unJvpO09IHQOcZWanA7WABmb2mHPuT55zhdH3wPfOue0juc8QFDjZ1UnAMudcNoCZzQR+DVSqwOkSauI9B3QHMLO2QE3gJ5+BwsY5t8A5t5dzrqVzriXBXwZd0rG8lcXMTiW4pHOWcy7Xd56Q+QRoY2atzKwmwc3Bz3vOFDoW/F/Sg8Bi59xE33nCyjk3xDnXIvZ30gXAmypvxYv9Xb3CzA6KfepEYJHHSGH1HXCUmdWJ/Xd4IlWY7KERuMR7CHjIzL4AtgJ/1qiJVMFdQCbw79ho5YfOub/4jRQOzrltZtYLeJVgdtdDzrmFnmOF0THAJcACM/ss9rmhzrmX/UWSFJAFPB77n6dvgJ6e84RO7PLyM8A8gltgPqUKW2ppKy0RERGRiNElVBEREZGIUYETERERiRgVOBEREZGIUYETERERiRgVOBEREZGIUYETERERiRgVOBEREZGIUYETEakEMzvczOabWS0zq2tmC82sg+9cIpIetJCviEglmdlogn0yaxPsBTnGcyQRSRMqcCIilRTbNugTYAvwa+dcgedIIpImdAlVRKTymgD1gPoEI3EiIkmhETgRkUoys+eBp4BWwN7OuV6eI4lImqjuO4CISBSZ2aVAvnPuCTPLAN43sxOcc2/6ziYiqU8jcCIiIiIRo3vgRERERCJGBU5EREQkYlTgRERERCJGBU5EREQkYlTgRERERCJGBU5EREQkYlTgRERERCLm/wGIE6JMFD7x9gAAAABJRU5ErkJggg==",
=======
      "image/png": "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\n",
>>>>>>> a5078ce2aba24ee9abf82133cda112430b4215ce
      "text/plain": [
       "<Figure size 720x720 with 1 Axes>"
      ]
     },
     "metadata": {
      "needs_background": "light"
     },
     "output_type": "display_data"
    }
   ],
   "source": [
    "# plot decision boundary \n",
    "plot_decision_boundary(clusters_df, theta)"
   ]
  },
  {
   "cell_type": "markdown",
   "metadata": {},
   "source": [
    "In conclusion we see how a perceptron is effective working with linearly separateable data. We noted how it used the dot product to generate a line and then uses the learning rate and each epoch to adjust that line to achieve better accuracy.  As the algorithm gets extended to more dimensions, instead of a line you will get a plane or hyperplane for seperation."
   ]
  }
 ],
 "metadata": {
  "interpreter": {
   "hash": "367101c4f597ba2d69615a403f869729e156321035dbf4a6f1655c31dd397b11"
  },
  "kernelspec": {
   "display_name": "Python 3",
   "language": "python",
   "name": "python3"
  },
  "language_info": {
   "codemirror_mode": {
    "name": "ipython",
    "version": 3
   },
   "file_extension": ".py",
   "mimetype": "text/x-python",
   "name": "python",
   "nbconvert_exporter": "python",
   "pygments_lexer": "ipython3",
   "version": "3.8.5"
  }
 },
 "nbformat": 4,
 "nbformat_minor": 2
}
