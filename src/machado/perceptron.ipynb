{
 "cells": [
  {
   "cell_type": "code",
   "execution_count": 21,
   "metadata": {},
   "outputs": [],
   "source": [
    "# reference: https://towardsdatascience.com/perceptron-algorithm-in-python-f3ac89d2e537"
   ]
  },
  {
   "cell_type": "code",
   "execution_count": 22,
   "metadata": {},
   "outputs": [],
   "source": [
    "# imports\n",
    "\n",
    "from sklearn import datasets\n",
    "import pandas as pd\n",
    "import numpy as np\n",
    "import matplotlib.pyplot as plt\n",
    "import random"
   ]
  },
  {
   "cell_type": "code",
   "execution_count": 23,
   "metadata": {},
   "outputs": [],
   "source": [
    "def generate_data(number_of_rows):\n",
    "    \n",
    "    \"\"\"\n",
    "        generates a DataFrame of with columns x, y, and label and number of rows equal to number_of_rows.\n",
    "        data generated with make_blobs from numpy.datasets\n",
    "\n",
    "        Parameters:\n",
    "            number_of_rows (int): the number of rows to b generated\n",
    "\n",
    "        Returns:\n",
    "            (DataFrame): columns - x, y, and label; rows - number_of_rows\n",
    "    \"\"\"\n",
    "    \n",
    "    random.seed()\n",
    "    columns = ['x', 'y', 'label']\n",
    "    points, labels = datasets.make_blobs(\n",
    "            n_samples = number_of_rows,\n",
    "            n_features = 2,\n",
    "            centers = 2,\n",
    "            cluster_std = 1 + random.random() * 4,\n",
    "            random_state = random.randint(1,100))\n",
    "    df = pd.DataFrame(list(zip(points[:,0], points[:,1], labels)), columns=columns)\n",
    "    return df"
   ]
  },
  {
   "cell_type": "code",
   "execution_count": 24,
   "metadata": {},
   "outputs": [
    {
     "data": {
      "text/html": [
       "<div>\n",
       "<style scoped>\n",
       "    .dataframe tbody tr th:only-of-type {\n",
       "        vertical-align: middle;\n",
       "    }\n",
       "\n",
       "    .dataframe tbody tr th {\n",
       "        vertical-align: top;\n",
       "    }\n",
       "\n",
       "    .dataframe thead th {\n",
       "        text-align: right;\n",
       "    }\n",
       "</style>\n",
       "<table border=\"1\" class=\"dataframe\">\n",
       "  <thead>\n",
       "    <tr style=\"text-align: right;\">\n",
       "      <th></th>\n",
       "      <th>x</th>\n",
       "      <th>y</th>\n",
       "      <th>label</th>\n",
       "    </tr>\n",
       "  </thead>\n",
       "  <tbody>\n",
       "    <tr>\n",
       "      <th>0</th>\n",
       "      <td>-9.155514</td>\n",
       "      <td>-6.002935</td>\n",
       "      <td>0</td>\n",
       "    </tr>\n",
       "    <tr>\n",
       "      <th>1</th>\n",
       "      <td>-7.502620</td>\n",
       "      <td>2.724611</td>\n",
       "      <td>1</td>\n",
       "    </tr>\n",
       "    <tr>\n",
       "      <th>2</th>\n",
       "      <td>-5.397468</td>\n",
       "      <td>0.479523</td>\n",
       "      <td>1</td>\n",
       "    </tr>\n",
       "    <tr>\n",
       "      <th>3</th>\n",
       "      <td>-7.672385</td>\n",
       "      <td>3.939980</td>\n",
       "      <td>1</td>\n",
       "    </tr>\n",
       "    <tr>\n",
       "      <th>4</th>\n",
       "      <td>-3.385907</td>\n",
       "      <td>6.672196</td>\n",
       "      <td>1</td>\n",
       "    </tr>\n",
       "  </tbody>\n",
       "</table>\n",
       "</div>"
      ],
      "text/plain": [
       "          x         y  label\n",
       "0 -9.155514 -6.002935      0\n",
       "1 -7.502620  2.724611      1\n",
       "2 -5.397468  0.479523      1\n",
       "3 -7.672385  3.939980      1\n",
       "4 -3.385907  6.672196      1"
      ]
     },
     "execution_count": 24,
     "metadata": {},
     "output_type": "execute_result"
    }
   ],
   "source": [
    "clusters_df = generate_data(100)\n",
    "clusters_df.head()"
   ]
  },
  {
   "cell_type": "code",
   "execution_count": 66,
   "metadata": {},
   "outputs": [],
   "source": [
    "def plot_df(df):\n",
    "\n",
    "    \"\"\"\n",
    "        plots the dataframe generated in generate_data() with color coded clusters\n",
    "\n",
    "        Parameters:\n",
    "            df (DataFrame): DataFrame to be plotted. Should be generated with generate_data(). Columns must be [feature, feature, label].\n",
    "\n",
    "        Returns:\n",
    "            (None)\n",
    "    \"\"\"\n",
    "\n",
    "    plt.plot(df[df.iloc[:,2] == 0].iloc[:,0], df[df.iloc[:,2] == 0].iloc[:,1], 'ro')\n",
    "    plt.plot(df[df.iloc[:,2] == 1].iloc[:,0], df[df.iloc[:,2] == 1].iloc[:,1], 'gs')\n",
    "    plt.xlabel(df.columns[0])\n",
    "    plt.ylabel(df.columns[1])\n",
    "    plt.legend()\n",
    "    _w = 0.2\n",
    "    plt.xlim(pad_range(_w, {'max': df.iloc[:,0].max(), 'min': df.iloc[:,0].min()}))\n",
    "    plt.ylim(pad_range(_w, {'max': df.iloc[:,1].max(), 'min': df.iloc[:,1].min()}))\n",
    "\n",
    "def pad_range(pad_width, _range):\n",
    "\n",
    "    \"\"\"\n",
    "        padds a range with +- pad_width. \n",
    "        used to set pyplot.xlim() and pyplot.ylim() axis ranges.\n",
    "\n",
    "        Parameters:\n",
    "            pad_width (float): percent of the range to add to each side of the plot\n",
    "            _range (dictionary): max and min of the range\n",
    "        \n",
    "        Returns:\n",
    "            (list): [_min - _pad, _max + _pad]\n",
    "    \"\"\"\n",
    "\n",
    "    _max = _range['max']\n",
    "    _min = _range['min']\n",
    "    _delta = _max - _min\n",
    "    _pad = pad_width * _delta\n",
    "    return [_min - _pad, _max + _pad]"
   ]
  },
  {
   "cell_type": "code",
   "execution_count": 67,
   "metadata": {},
   "outputs": [
    {
     "data": {
      "image/png": "[encoded data removed]",
      "text/plain": [
       "<Figure size 432x288 with 1 Axes>"
      ]
     },
     "metadata": {
      "needs_background": "light"
     },
     "output_type": "display_data"
    }
   ],
   "source": [
    "plot_df(clusters_df)"
   ]
  },
  {
   "cell_type": "code",
   "execution_count": 27,
   "metadata": {},
   "outputs": [],
   "source": [
    "class Plotter:\n",
    "\n",
    "    def samples_by_category(self, df):\n",
    "        return sns.scatterplot(\n",
    "            x = df.columns[0], \n",
    "            y = df.columns[1], \n",
    "            data = df,\n",
    "            hue = df.columns[2])\n",
    "\n",
    "    def samples_by_category_with_decision_boundary(self, df, theta, epoch):\n",
    "        if theta[2] == 0: return\n",
    "        plt.clf()\n",
    "        _p = self.samples_by_category(df)\n",
    "        _feature_1_range = np.array([df.x.min(), df.x.max()])\n",
    "        _feature_2_range = self.calculate_feature_2_range(_feature_1_range, theta)\n",
    "        plt.plot(_feature_1_range, _feature_2_range, linewidth=2, color=\"green\")\n",
    "        _w = 0.2\n",
    "        plt.xlim(self.set_range(_w, {'max': df.x.max(), 'min': df.x.min()}))\n",
    "        plt.ylim(self.set_range(_w, {'max': df.y.max(), 'min': df.y.min()}))\n",
    "        plt.savefig(f'./figures/epoch_{epoch}')\n",
    "\n",
    "    def set_range(self, width, _range):\n",
    "        _max = _range['max']\n",
    "        _min = _range['min']\n",
    "        _delta = _max - _min\n",
    "        return [_min - width * _delta, _max + width * _delta]\n",
    "\n",
    "    def calculate_feature_2_range(self, feature_1_range, theta):\n",
    "        _slope, _intercept = self.calculate_slope_intercept(theta)\n",
    "        _range = _slope * feature_1_range + _intercept\n",
    "        return _range\n",
    "\n",
    "    def calculate_slope_intercept(self, theta):\n",
    "        # returns tuple (slope, intercept)\n",
    "        return (-theta[1]/theta[2], -theta[0]/theta[2])"
   ]
  },
  {
   "cell_type": "code",
   "execution_count": 28,
   "metadata": {},
   "outputs": [],
   "source": [
    "class RandomData: \n",
    "\n",
    "    def __init__(self, number_of_points):\n",
    "        self.df = Generator().makeDF(number_of_points)\n",
    "        self.plotter = Plotter()\n",
    "\n",
    "    def plot(self):\n",
    "        self.plotter.samples_by_category(self.df)"
   ]
  },
  {
   "cell_type": "code",
   "execution_count": 29,
   "metadata": {},
   "outputs": [],
   "source": [
    "class Perceptron:\n",
    "\n",
    "    def __init__(self, data):\n",
    "        self.epochs = 100\n",
    "        self.learning_rate = 0.1\n",
    "        self.data = data\n",
    "        self.labels = self.data.iloc[:,-1]\n",
    "        self.samples = self.data.iloc[:,:-1]\n",
    "        self.sample_count = self.samples.shape[0]\n",
    "        self.feature_count  = self.samples.shape[1]\n",
    "        self.theta = np.zeros((self.feature_count + 1, 1))\n",
    "        self.misclassified_counts = [0 for _ in range(self.sample_count)]\n",
    "        self.activation_function = ActivationFunction(0.0)\n",
    "        self.plotter = Plotter()\n",
    "\n",
    "    def train(self):\n",
    "        for _e in range(self.epochs):\n",
    "            for _i, _sample_i in enumerate(self.samples.iterrows()):\n",
    "                self.neuron(_i, np.array([_sample_i[1]['x'], _sample_i[1]['y']]))\n",
    "                self.misclassified_counts[_i] = 0\n",
    "                self.plot_boundary(_e)\n",
    "                # if (_e == 0) or (_e % 5 == 0) or (_e == self.epochs - 1):\n",
    "                #     self.plot_boundary(_e)\n",
    "\n",
    "    def neuron(self, index, sample):\n",
    "        _processed_sample = np.insert(sample, 0, 1).reshape(-1,1)\n",
    "        _prediction = self.predict(_processed_sample)\n",
    "        self.evaluate_prediction(index, _processed_sample, _prediction)\n",
    "    \n",
    "    def predict(self, sample):\n",
    "        _dot_product = np.dot(sample.T, self.theta)\n",
    "        _prediction = self.activation_function.check(_dot_product)\n",
    "        return _prediction\n",
    "    \n",
    "    def evaluate_prediction(self, index, sample, prediction):\n",
    "        if np.squeeze(prediction) - self.labels[index] == 0:\n",
    "            return\n",
    "        self.update_theta(index, sample, prediction)\n",
    "        self.increment_misclassification_count(index)\n",
    "\n",
    "    def update_theta(self, index, sample, prediction):\n",
    "        self.theta += self.learning_rate * sample * (self.labels[index] - np.squeeze(prediction))\n",
    "\n",
    "    def increment_misclassification_count(self, index):\n",
    "        self.misclassified_counts[index] += 1\n",
    "\n",
    "    def plot_boundary(self, epoch):\n",
    "        self.plotter.samples_by_category_with_decision_boundary(self.data, self.theta, epoch)\n",
    "\n",
    "    def print_initialization(self):\n",
    "        print(f'epochs: {self.epochs}')\n",
    "        print(f'learning rate: {self.learning_rate}')\n",
    "        print(f'sample count: {self.sample_count}')\n",
    "        print(f'feature count: {self.feature_count}\\n')\n",
    "        print(f'samples:\\n{self.samples.head()}\\n')\n",
    "        print(f'labels:\\n{self.labels.head()}\\n')\n",
    "        print(f'theta:\\n{self.theta}\\n')"
   ]
  },
  {
   "cell_type": "code",
   "execution_count": 30,
   "metadata": {},
   "outputs": [],
   "source": [
    "class ActivationFunction:\n",
    "\n",
    "    def __init__(self, threashold):\n",
    "        self.threashold = threashold\n",
    "\n",
    "    def check(self, data):\n",
    "        return [self.activate(_x) if _x > self.threashold else self.deactivate(_x) for _x in data]\n",
    "\n",
    "    def activate(self, data):\n",
    "        return 1.0\n",
    "\n",
    "    def deactivate(self, data):\n",
    "        return 0.0"
   ]
  },
  {
   "cell_type": "code",
   "execution_count": 31,
   "metadata": {},
   "outputs": [
    {
     "ename": "NameError",
     "evalue": "name 'Generator' is not defined",
     "output_type": "error",
     "traceback": [
      "\u001b[0;31m---------------------------------------------------------------------------\u001b[0m",
      "\u001b[0;31mNameError\u001b[0m                                 Traceback (most recent call last)",
      "Input \u001b[0;32mIn [31]\u001b[0m, in \u001b[0;36m<module>\u001b[0;34m\u001b[0m\n\u001b[1;32m      1\u001b[0m \u001b[38;5;66;03m# generate data\u001b[39;00m\n\u001b[0;32m----> 3\u001b[0m _data \u001b[38;5;241m=\u001b[39m \u001b[43mRandomData\u001b[49m\u001b[43m(\u001b[49m\u001b[38;5;241;43m100\u001b[39;49m\u001b[43m)\u001b[49m\n\u001b[1;32m      4\u001b[0m _data\u001b[38;5;241m.\u001b[39mplot()\n",
      "Input \u001b[0;32mIn [28]\u001b[0m, in \u001b[0;36mRandomData.__init__\u001b[0;34m(self, number_of_points)\u001b[0m\n\u001b[1;32m      3\u001b[0m \u001b[38;5;28;01mdef\u001b[39;00m \u001b[38;5;21m__init__\u001b[39m(\u001b[38;5;28mself\u001b[39m, number_of_points):\n\u001b[0;32m----> 4\u001b[0m     \u001b[38;5;28mself\u001b[39m\u001b[38;5;241m.\u001b[39mdf \u001b[38;5;241m=\u001b[39m \u001b[43mGenerator\u001b[49m()\u001b[38;5;241m.\u001b[39mmakeDF(number_of_points)\n\u001b[1;32m      5\u001b[0m     \u001b[38;5;28mself\u001b[39m\u001b[38;5;241m.\u001b[39mplotter \u001b[38;5;241m=\u001b[39m Plotter()\n",
      "\u001b[0;31mNameError\u001b[0m: name 'Generator' is not defined"
     ]
    }
   ],
   "source": [
    "# generate data\n",
    "\n",
    "_data = RandomData(100)\n",
    "_data.plot()"
   ]
  },
  {
   "cell_type": "code",
   "execution_count": null,
   "metadata": {},
   "outputs": [],
   "source": [
    "# initialize perceptron\n",
    "_perceptron = Perceptron(_data.df)\n",
    "_perceptron.epochs = 20"
   ]
  },
  {
   "cell_type": "code",
   "execution_count": null,
   "metadata": {},
   "outputs": [
    {
     "name": "stdout",
     "output_type": "stream",
     "text": [
      "epochs: 20\n",
      "learning rate: 0.1\n",
      "sample count: 100\n",
      "feature count: 2\n",
      "\n",
      "samples:\n",
      "          x         y\n",
      "0  8.498890  1.614914\n",
      "1  7.623030 -8.990522\n",
      "2  5.006906 -5.779320\n",
      "3  6.291650 -1.383041\n",
      "4  2.454060 -6.717478\n",
      "\n",
      "labels:\n",
      "0    1\n",
      "1    0\n",
      "2    0\n",
      "3    1\n",
      "4    0\n",
      "Name: labels, dtype: int32\n",
      "\n",
      "theta:\n",
      "[[0.]\n",
      " [0.]\n",
      " [0.]]\n",
      "\n"
     ]
    }
   ],
   "source": [
    "# report on initialized state\n",
    "\n",
    "_perceptron.print_initialization()"
   ]
  },
  {
   "cell_type": "code",
   "execution_count": null,
   "metadata": {},
   "outputs": [
    {
     "data": {
      "image/png": "[encoded data removed]",
      "text/plain": [
       "<Figure size 432x288 with 1 Axes>"
      ]
     },
     "metadata": {
      "needs_background": "light"
     },
     "output_type": "display_data"
    }
   ],
   "source": [
    "# train perceptron\n",
    "\n",
    "_perceptron.train()"
   ]
  },
  {
   "cell_type": "code",
   "execution_count": null,
   "metadata": {},
   "outputs": [
    {
     "name": "stdout",
     "output_type": "stream",
     "text": [
      "[[ 1.9       ]\n",
      " [-0.32662927]\n",
      " [ 1.94670054]]\n"
     ]
    }
   ],
   "source": [
    "print(_perceptron.theta)"
   ]
  }
 ],
 "metadata": {
  "interpreter": {
   "hash": "367101c4f597ba2d69615a403f869729e156321035dbf4a6f1655c31dd397b11"
  },
  "kernelspec": {
   "display_name": "Python 3.8.10 64-bit ('venv': venv)",
   "language": "python",
   "name": "python3"
  },
  "language_info": {
   "codemirror_mode": {
    "name": "ipython",
    "version": 3
   },
   "file_extension": ".py",
   "mimetype": "text/x-python",
   "name": "python",
   "nbconvert_exporter": "python",
   "pygments_lexer": "ipython3",
   "version": "3.8.10"
  },
  "orig_nbformat": 4
 },
 "nbformat": 4,
 "nbformat_minor": 2
}
