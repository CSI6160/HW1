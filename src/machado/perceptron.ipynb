{
 "cells": [
  {
   "cell_type": "code",
   "execution_count": 1,
   "metadata": {},
   "outputs": [],
   "source": [
    "# taken from https://towardsdatascience.com/perceptron-algorithm-in-python-f3ac89d2e537"
   ]
  },
  {
   "cell_type": "code",
   "execution_count": 2,
   "metadata": {},
   "outputs": [],
   "source": [
    "# imports\n",
    "\n",
    "from sklearn import datasets\n",
    "import seaborn as sns\n",
    "import pandas as pd\n",
    "import numpy as np\n",
    "import matplotlib.pyplot as plt\n",
    "import random"
   ]
  },
  {
   "cell_type": "code",
   "execution_count": 3,
   "metadata": {},
   "outputs": [],
   "source": [
    "class Generator:\n",
    "\n",
    "    def __init__ (self):\n",
    "        self.columns = ['x', 'y', 'labels']\n",
    "\n",
    "    def makeDF(self, number_of_points):\n",
    "        return pd.DataFrame(self.makeData(number_of_points), columns=self.columns)\n",
    "        \n",
    "    def makeData(self, number_of_points):\n",
    "        _x, _y = datasets.make_blobs(\n",
    "            n_samples = number_of_points,\n",
    "            n_features = 2,\n",
    "            centers = 2,\n",
    "            cluster_std = 1.05,\n",
    "            random_state = random.randint(1,100))\n",
    "        return list(zip(_x[:,0], _x[:,1], _y))"
   ]
  },
  {
   "cell_type": "code",
   "execution_count": 4,
   "metadata": {},
   "outputs": [],
   "source": [
    "class Plotter:\n",
    "\n",
    "    def samples_by_category(self, df):\n",
    "        return sns.scatterplot(\n",
    "            x = df.columns[0], \n",
    "            y = df.columns[1], \n",
    "            data = df,\n",
    "            hue = df.columns[2])\n",
    "\n",
    "    def samples_by_category_with_decision_boundary(self, df, theta):\n",
    "        if theta[2] == 0: return\n",
    "        _p = self.samples_by_category(df)\n",
    "        _feature_1_range = np.array([df.x.min(), df.x.max()])\n",
    "        _slope = -theta[1]/theta[2]\n",
    "        _intercept = -theta[0]/[theta[2]]\n",
    "        _feature_2_range = _slope * _feature_1_range + _intercept\n",
    "        _feature_2_range = _feature_2_range[0]\n",
    "        print(_feature_1_range)\n",
    "        print(_feature_2_range)\n",
    "        plt.plot(_feature_1_range, _feature_2_range, linewidth=2)\n"
   ]
  },
  {
   "cell_type": "code",
   "execution_count": 5,
   "metadata": {},
   "outputs": [],
   "source": [
    "class RandomData: \n",
    "\n",
    "    def __init__(self, number_of_points):\n",
    "        self.df = Generator().makeDF(number_of_points)\n",
    "        self.plotter = Plotter()\n",
    "\n",
    "    def plot(self):\n",
    "        self.plotter.samples_by_category(self.df)"
   ]
  },
  {
   "cell_type": "code",
   "execution_count": 6,
   "metadata": {},
   "outputs": [],
   "source": [
    "class Perceptron:\n",
    "\n",
    "    def __init__(self, data):\n",
    "        self.epochs = 100\n",
    "        self.learning_rate = 0.1\n",
    "        self.data = data\n",
    "        self.labels = self.data.iloc[:,-1]\n",
    "        self.samples = self.data.iloc[:,:-1]\n",
    "        self.sample_count = self.samples.shape[0]\n",
    "        self.feature_count  = self.samples.shape[1]\n",
    "        self.theta = np.zeros((self.feature_count + 1, 1))\n",
    "        self.misclassified_counts = [0 for _ in range(self.sample_count)]\n",
    "        self.activation_function = ActivationFunction(0.0)\n",
    "        self.plotter = Plotter()\n",
    "\n",
    "    def train(self):\n",
    "        for _ in range(self.epochs):\n",
    "            for _i, _sample_i in enumerate(self.samples.iterrows()):\n",
    "                self.neuron(_i, np.array([_sample_i[1]['x'], _sample_i[1]['y']]))\n",
    "                self.misclassified_counts[_i] = 0\n",
    "\n",
    "    def neuron(self, index, sample):\n",
    "        _processed_sample = np.insert(sample, 0, 1).reshape(-1,1)\n",
    "        _prediction = self.predict(_processed_sample)\n",
    "        self.evaluate_prediction(index, _processed_sample, _prediction)\n",
    "    \n",
    "    def predict(self, sample):\n",
    "        _dot_product = np.dot(sample.T, self.theta)\n",
    "        _prediction = self.activation_function.check(_dot_product)\n",
    "        return _prediction\n",
    "    \n",
    "    def evaluate_prediction(self, index, sample, prediction):\n",
    "        if np.squeeze(prediction) - self.labels[index] == 0:\n",
    "            return\n",
    "        self.update_theta(index, sample, prediction)\n",
    "        self.increment_misclassification_count(index)\n",
    "\n",
    "    def update_theta(self, index, sample, prediction):\n",
    "        self.theta += self.learning_rate * sample * (self.labels[index] - np.squeeze(prediction))\n",
    "\n",
    "    def increment_misclassification_count(self, index):\n",
    "        self.misclassified_counts[index] += 1\n",
    "\n",
    "    def plot_boundary(self):\n",
    "        self.plotter.samples_by_category_with_decision_boundary(self.data, self.theta)\n",
    "\n",
    "    def print_initialization(self):\n",
    "        print(f'epochs: {self.epochs}')\n",
    "        print(f'learning rate: {self.learning_rate}')\n",
    "        print(f'sample count: {self.sample_count}')\n",
    "        print(f'feature count: {self.feature_count}\\n')\n",
    "        print(f'samples:\\n{self.samples.head()}\\n')\n",
    "        print(f'labels:\\n{self.labels.head()}\\n')\n",
    "        print(f'theta:\\n{self.theta}\\n')"
   ]
  },
  {
   "cell_type": "code",
   "execution_count": 7,
   "metadata": {},
   "outputs": [],
   "source": [
    "class ActivationFunction:\n",
    "\n",
    "    def __init__(self, threashold):\n",
    "        self.threashold = threashold\n",
    "\n",
    "    def check(self, data):\n",
    "        return [self.activate(_x) if _x > self.threashold else self.deactivate(_x) for _x in data]\n",
    "\n",
    "    def activate(self, data):\n",
    "        return 1.0\n",
    "\n",
    "    def deactivate(self, data):\n",
    "        return 0.0"
   ]
  },
  {
   "cell_type": "code",
   "execution_count": 8,
   "metadata": {},
   "outputs": [
    {
     "data": {
      "image/png": "[encoded data removed]",
      "text/plain": [
       "<Figure size 432x288 with 1 Axes>"
      ]
     },
     "metadata": {
      "needs_background": "light"
     },
     "output_type": "display_data"
    }
   ],
   "source": [
    "# generate data\n",
    "\n",
    "_data = RandomData(555)\n",
    "_data.plot()"
   ]
  },
  {
   "cell_type": "code",
   "execution_count": 9,
   "metadata": {},
   "outputs": [],
   "source": [
    "# initialize perceptron\n",
    "_perceptron = Perceptron(_data.df)\n",
    "_perceptron.epochs = 10"
   ]
  },
  {
   "cell_type": "code",
   "execution_count": 10,
   "metadata": {},
   "outputs": [
    {
     "name": "stdout",
     "output_type": "stream",
     "text": [
      "epochs: 10\n",
      "learning rate: 0.1\n",
      "sample count: 555\n",
      "feature count: 2\n",
      "\n",
      "samples:\n",
      "           x         y\n",
      "0  -6.134047 -7.066399\n",
      "1  11.147154  7.993442\n",
      "2   8.979344  6.123039\n",
      "3  -6.162544 -7.244158\n",
      "4  -7.505047 -5.256117\n",
      "\n",
      "labels:\n",
      "0    0\n",
      "1    1\n",
      "2    1\n",
      "3    0\n",
      "4    0\n",
      "Name: labels, dtype: int64\n",
      "\n",
      "theta:\n",
      "[[0.]\n",
      " [0.]\n",
      " [0.]]\n",
      "\n"
     ]
    }
   ],
   "source": [
    "# report on initialized state\n",
    "\n",
    "_perceptron.print_initialization()"
   ]
  },
  {
   "cell_type": "code",
   "execution_count": 11,
   "metadata": {},
   "outputs": [],
   "source": [
    "# train perceptron\n",
    "\n",
    "_perceptron.train()"
   ]
  },
  {
   "cell_type": "markdown",
   "metadata": {},
   "source": [
    "print(_perceptron.theta)"
   ]
  },
  {
   "cell_type": "code",
   "execution_count": 13,
   "metadata": {},
   "outputs": [
    {
     "name": "stdout",
     "output_type": "stream",
     "text": [
      "[-10.22857414  12.68704025]\n",
      "[ 14.13902628 -17.81765422]\n"
     ]
    },
    {
     "data": {
      "image/png": "[encoded data removed]",
      "text/plain": [
       "<Figure size 432x288 with 1 Axes>"
      ]
     },
     "metadata": {
      "needs_background": "light"
     },
     "output_type": "display_data"
    }
   ],
   "source": [
    "_perceptron.plot_boundary()"
   ]
  }
 ],
 "metadata": {
  "interpreter": {
   "hash": "2aa1287cf967b8824e97fd8dee4c5a26384cc030f77905b18432f9527a35a017"
  },
  "kernelspec": {
   "display_name": "Python 3",
   "language": "python",
   "name": "python3"
  },
  "language_info": {
   "codemirror_mode": {
    "name": "ipython",
    "version": 3
   },
   "file_extension": ".py",
   "mimetype": "text/x-python",
   "name": "python",
   "nbconvert_exporter": "python",
   "pygments_lexer": "ipython3",
   "version": "3.8.5"
  }
 },
 "nbformat": 4,
 "nbformat_minor": 2
}
